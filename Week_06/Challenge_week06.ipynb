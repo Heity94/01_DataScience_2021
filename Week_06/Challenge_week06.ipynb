{
 "cells": [
  {
   "cell_type": "code",
   "execution_count": 1,
   "id": "61bff856",
   "metadata": {},
   "outputs": [],
   "source": [
    "import numpy as np\n",
    "import pandas as pd"
   ]
  },
  {
   "cell_type": "code",
   "execution_count": 11,
   "id": "d66eef7d",
   "metadata": {},
   "outputs": [],
   "source": [
    "import statsmodels.formula.api as smf"
   ]
  },
  {
   "cell_type": "markdown",
   "id": "3f5695d5",
   "metadata": {},
   "source": [
    "Create a random array of dimensions 31 columns and 100 rows, and call one of the columns Y and call al other columns x_1, x_2, … x_30\n",
    "Fit a MLR and count the number of significant predictors"
   ]
  },
  {
   "cell_type": "code",
   "execution_count": 4,
   "id": "3e0fe713",
   "metadata": {
    "collapsed": true
   },
   "outputs": [
    {
     "data": {
      "text/plain": [
       "['Y',\n",
       " 'x_1',\n",
       " 'x_2',\n",
       " 'x_3',\n",
       " 'x_4',\n",
       " 'x_5',\n",
       " 'x_6',\n",
       " 'x_7',\n",
       " 'x_8',\n",
       " 'x_9',\n",
       " 'x_10',\n",
       " 'x_11',\n",
       " 'x_12',\n",
       " 'x_13',\n",
       " 'x_14',\n",
       " 'x_15',\n",
       " 'x_16',\n",
       " 'x_17',\n",
       " 'x_18',\n",
       " 'x_19',\n",
       " 'x_20',\n",
       " 'x_21',\n",
       " 'x_22',\n",
       " 'x_23',\n",
       " 'x_24',\n",
       " 'x_25',\n",
       " 'x_26',\n",
       " 'x_27',\n",
       " 'x_28',\n",
       " 'x_29',\n",
       " 'x_30']"
      ]
     },
     "execution_count": 4,
     "metadata": {},
     "output_type": "execute_result"
    }
   ],
   "source": [
    "col_names = [\"Y\"]\n",
    "col_names += [\"x_\"+str(i) for i in range(1,31)]\n",
    "col_names"
   ]
  },
  {
   "cell_type": "code",
   "execution_count": 8,
   "id": "64d6048d",
   "metadata": {},
   "outputs": [],
   "source": [
    "array = np.random.rand(100,31)"
   ]
  },
  {
   "cell_type": "code",
   "execution_count": 10,
   "id": "be606716",
   "metadata": {},
   "outputs": [],
   "source": [
    "df = pd.DataFrame(array, columns=col_names)"
   ]
  },
  {
   "cell_type": "code",
   "execution_count": 12,
   "id": "e4bd4c97",
   "metadata": {},
   "outputs": [],
   "source": [
    "x_names = [\"x_\"+str(i) for i in range(1,31)]"
   ]
  },
  {
   "cell_type": "code",
   "execution_count": 26,
   "id": "1a2cca48",
   "metadata": {},
   "outputs": [],
   "source": [
    "formula = \"Y ~ \"+(\"+\").join(x_names)"
   ]
  },
  {
   "cell_type": "code",
   "execution_count": 29,
   "id": "75700e8f",
   "metadata": {},
   "outputs": [],
   "source": [
    "estimator = smf.ols(formula, df).fit()"
   ]
  },
  {
   "cell_type": "code",
   "execution_count": 30,
   "id": "88997234",
   "metadata": {},
   "outputs": [
    {
     "data": {
      "text/html": [
       "<table class=\"simpletable\">\n",
       "<caption>OLS Regression Results</caption>\n",
       "<tr>\n",
       "  <th>Dep. Variable:</th>            <td>Y</td>        <th>  R-squared:         </th> <td>   0.424</td>\n",
       "</tr>\n",
       "<tr>\n",
       "  <th>Model:</th>                   <td>OLS</td>       <th>  Adj. R-squared:    </th> <td>   0.174</td>\n",
       "</tr>\n",
       "<tr>\n",
       "  <th>Method:</th>             <td>Least Squares</td>  <th>  F-statistic:       </th> <td>   1.693</td>\n",
       "</tr>\n",
       "<tr>\n",
       "  <th>Date:</th>             <td>Tue, 09 Nov 2021</td> <th>  Prob (F-statistic):</th>  <td>0.0371</td> \n",
       "</tr>\n",
       "<tr>\n",
       "  <th>Time:</th>                 <td>14:42:38</td>     <th>  Log-Likelihood:    </th> <td>  18.178</td>\n",
       "</tr>\n",
       "<tr>\n",
       "  <th>No. Observations:</th>      <td>   100</td>      <th>  AIC:               </th> <td>   25.64</td>\n",
       "</tr>\n",
       "<tr>\n",
       "  <th>Df Residuals:</th>          <td>    69</td>      <th>  BIC:               </th> <td>   106.4</td>\n",
       "</tr>\n",
       "<tr>\n",
       "  <th>Df Model:</th>              <td>    30</td>      <th>                     </th>     <td> </td>   \n",
       "</tr>\n",
       "<tr>\n",
       "  <th>Covariance Type:</th>      <td>nonrobust</td>    <th>                     </th>     <td> </td>   \n",
       "</tr>\n",
       "</table>\n",
       "<table class=\"simpletable\">\n",
       "<tr>\n",
       "      <td></td>         <th>coef</th>     <th>std err</th>      <th>t</th>      <th>P>|t|</th>  <th>[0.025</th>    <th>0.975]</th>  \n",
       "</tr>\n",
       "<tr>\n",
       "  <th>Intercept</th> <td>    0.5640</td> <td>    0.291</td> <td>    1.937</td> <td> 0.057</td> <td>   -0.017</td> <td>    1.145</td>\n",
       "</tr>\n",
       "<tr>\n",
       "  <th>x_1</th>       <td>    0.0271</td> <td>    0.101</td> <td>    0.268</td> <td> 0.790</td> <td>   -0.175</td> <td>    0.230</td>\n",
       "</tr>\n",
       "<tr>\n",
       "  <th>x_2</th>       <td>    0.2007</td> <td>    0.099</td> <td>    2.029</td> <td> 0.046</td> <td>    0.003</td> <td>    0.398</td>\n",
       "</tr>\n",
       "<tr>\n",
       "  <th>x_3</th>       <td>    0.0979</td> <td>    0.094</td> <td>    1.047</td> <td> 0.299</td> <td>   -0.089</td> <td>    0.285</td>\n",
       "</tr>\n",
       "<tr>\n",
       "  <th>x_4</th>       <td>    0.0177</td> <td>    0.110</td> <td>    0.161</td> <td> 0.872</td> <td>   -0.201</td> <td>    0.236</td>\n",
       "</tr>\n",
       "<tr>\n",
       "  <th>x_5</th>       <td>   -0.1586</td> <td>    0.097</td> <td>   -1.633</td> <td> 0.107</td> <td>   -0.352</td> <td>    0.035</td>\n",
       "</tr>\n",
       "<tr>\n",
       "  <th>x_6</th>       <td>    0.0682</td> <td>    0.104</td> <td>    0.657</td> <td> 0.513</td> <td>   -0.139</td> <td>    0.275</td>\n",
       "</tr>\n",
       "<tr>\n",
       "  <th>x_7</th>       <td>    0.0217</td> <td>    0.099</td> <td>    0.219</td> <td> 0.827</td> <td>   -0.176</td> <td>    0.219</td>\n",
       "</tr>\n",
       "<tr>\n",
       "  <th>x_8</th>       <td>   -0.0441</td> <td>    0.099</td> <td>   -0.447</td> <td> 0.657</td> <td>   -0.241</td> <td>    0.153</td>\n",
       "</tr>\n",
       "<tr>\n",
       "  <th>x_9</th>       <td>   -0.0559</td> <td>    0.096</td> <td>   -0.581</td> <td> 0.563</td> <td>   -0.248</td> <td>    0.136</td>\n",
       "</tr>\n",
       "<tr>\n",
       "  <th>x_10</th>      <td>   -0.1557</td> <td>    0.100</td> <td>   -1.552</td> <td> 0.125</td> <td>   -0.356</td> <td>    0.044</td>\n",
       "</tr>\n",
       "<tr>\n",
       "  <th>x_11</th>      <td>   -0.0851</td> <td>    0.102</td> <td>   -0.833</td> <td> 0.408</td> <td>   -0.289</td> <td>    0.119</td>\n",
       "</tr>\n",
       "<tr>\n",
       "  <th>x_12</th>      <td>   -0.3429</td> <td>    0.094</td> <td>   -3.640</td> <td> 0.001</td> <td>   -0.531</td> <td>   -0.155</td>\n",
       "</tr>\n",
       "<tr>\n",
       "  <th>x_13</th>      <td>    0.0465</td> <td>    0.114</td> <td>    0.409</td> <td> 0.684</td> <td>   -0.181</td> <td>    0.274</td>\n",
       "</tr>\n",
       "<tr>\n",
       "  <th>x_14</th>      <td>    0.2291</td> <td>    0.106</td> <td>    2.169</td> <td> 0.034</td> <td>    0.018</td> <td>    0.440</td>\n",
       "</tr>\n",
       "<tr>\n",
       "  <th>x_15</th>      <td>   -0.1687</td> <td>    0.097</td> <td>   -1.733</td> <td> 0.088</td> <td>   -0.363</td> <td>    0.026</td>\n",
       "</tr>\n",
       "<tr>\n",
       "  <th>x_16</th>      <td>   -0.1233</td> <td>    0.109</td> <td>   -1.130</td> <td> 0.262</td> <td>   -0.341</td> <td>    0.094</td>\n",
       "</tr>\n",
       "<tr>\n",
       "  <th>x_17</th>      <td>    0.0159</td> <td>    0.110</td> <td>    0.145</td> <td> 0.885</td> <td>   -0.203</td> <td>    0.235</td>\n",
       "</tr>\n",
       "<tr>\n",
       "  <th>x_18</th>      <td>    0.0884</td> <td>    0.091</td> <td>    0.972</td> <td> 0.334</td> <td>   -0.093</td> <td>    0.270</td>\n",
       "</tr>\n",
       "<tr>\n",
       "  <th>x_19</th>      <td>   -0.0722</td> <td>    0.095</td> <td>   -0.763</td> <td> 0.448</td> <td>   -0.261</td> <td>    0.117</td>\n",
       "</tr>\n",
       "<tr>\n",
       "  <th>x_20</th>      <td>    0.0697</td> <td>    0.104</td> <td>    0.670</td> <td> 0.505</td> <td>   -0.138</td> <td>    0.277</td>\n",
       "</tr>\n",
       "<tr>\n",
       "  <th>x_21</th>      <td>   -0.1338</td> <td>    0.102</td> <td>   -1.315</td> <td> 0.193</td> <td>   -0.337</td> <td>    0.069</td>\n",
       "</tr>\n",
       "<tr>\n",
       "  <th>x_22</th>      <td>   -0.0835</td> <td>    0.098</td> <td>   -0.855</td> <td> 0.395</td> <td>   -0.278</td> <td>    0.111</td>\n",
       "</tr>\n",
       "<tr>\n",
       "  <th>x_23</th>      <td>    0.1167</td> <td>    0.102</td> <td>    1.145</td> <td> 0.256</td> <td>   -0.087</td> <td>    0.320</td>\n",
       "</tr>\n",
       "<tr>\n",
       "  <th>x_24</th>      <td>    0.0342</td> <td>    0.098</td> <td>    0.348</td> <td> 0.729</td> <td>   -0.162</td> <td>    0.230</td>\n",
       "</tr>\n",
       "<tr>\n",
       "  <th>x_25</th>      <td>   -0.0729</td> <td>    0.091</td> <td>   -0.799</td> <td> 0.427</td> <td>   -0.255</td> <td>    0.109</td>\n",
       "</tr>\n",
       "<tr>\n",
       "  <th>x_26</th>      <td>    0.0962</td> <td>    0.102</td> <td>    0.945</td> <td> 0.348</td> <td>   -0.107</td> <td>    0.299</td>\n",
       "</tr>\n",
       "<tr>\n",
       "  <th>x_27</th>      <td>    0.0906</td> <td>    0.096</td> <td>    0.943</td> <td> 0.349</td> <td>   -0.101</td> <td>    0.282</td>\n",
       "</tr>\n",
       "<tr>\n",
       "  <th>x_28</th>      <td>    0.1260</td> <td>    0.087</td> <td>    1.446</td> <td> 0.153</td> <td>   -0.048</td> <td>    0.300</td>\n",
       "</tr>\n",
       "<tr>\n",
       "  <th>x_29</th>      <td>    0.0879</td> <td>    0.094</td> <td>    0.931</td> <td> 0.355</td> <td>   -0.100</td> <td>    0.276</td>\n",
       "</tr>\n",
       "<tr>\n",
       "  <th>x_30</th>      <td>   -0.0914</td> <td>    0.105</td> <td>   -0.871</td> <td> 0.387</td> <td>   -0.301</td> <td>    0.118</td>\n",
       "</tr>\n",
       "</table>\n",
       "<table class=\"simpletable\">\n",
       "<tr>\n",
       "  <th>Omnibus:</th>       <td> 1.291</td> <th>  Durbin-Watson:     </th> <td>   1.698</td>\n",
       "</tr>\n",
       "<tr>\n",
       "  <th>Prob(Omnibus):</th> <td> 0.524</td> <th>  Jarque-Bera (JB):  </th> <td>   1.203</td>\n",
       "</tr>\n",
       "<tr>\n",
       "  <th>Skew:</th>          <td>-0.124</td> <th>  Prob(JB):          </th> <td>   0.548</td>\n",
       "</tr>\n",
       "<tr>\n",
       "  <th>Kurtosis:</th>      <td> 2.523</td> <th>  Cond. No.          </th> <td>    38.9</td>\n",
       "</tr>\n",
       "</table><br/><br/>Warnings:<br/>[1] Standard Errors assume that the covariance matrix of the errors is correctly specified."
      ],
      "text/plain": [
       "<class 'statsmodels.iolib.summary.Summary'>\n",
       "\"\"\"\n",
       "                            OLS Regression Results                            \n",
       "==============================================================================\n",
       "Dep. Variable:                      Y   R-squared:                       0.424\n",
       "Model:                            OLS   Adj. R-squared:                  0.174\n",
       "Method:                 Least Squares   F-statistic:                     1.693\n",
       "Date:                Tue, 09 Nov 2021   Prob (F-statistic):             0.0371\n",
       "Time:                        14:42:38   Log-Likelihood:                 18.178\n",
       "No. Observations:                 100   AIC:                             25.64\n",
       "Df Residuals:                      69   BIC:                             106.4\n",
       "Df Model:                          30                                         \n",
       "Covariance Type:            nonrobust                                         \n",
       "==============================================================================\n",
       "                 coef    std err          t      P>|t|      [0.025      0.975]\n",
       "------------------------------------------------------------------------------\n",
       "Intercept      0.5640      0.291      1.937      0.057      -0.017       1.145\n",
       "x_1            0.0271      0.101      0.268      0.790      -0.175       0.230\n",
       "x_2            0.2007      0.099      2.029      0.046       0.003       0.398\n",
       "x_3            0.0979      0.094      1.047      0.299      -0.089       0.285\n",
       "x_4            0.0177      0.110      0.161      0.872      -0.201       0.236\n",
       "x_5           -0.1586      0.097     -1.633      0.107      -0.352       0.035\n",
       "x_6            0.0682      0.104      0.657      0.513      -0.139       0.275\n",
       "x_7            0.0217      0.099      0.219      0.827      -0.176       0.219\n",
       "x_8           -0.0441      0.099     -0.447      0.657      -0.241       0.153\n",
       "x_9           -0.0559      0.096     -0.581      0.563      -0.248       0.136\n",
       "x_10          -0.1557      0.100     -1.552      0.125      -0.356       0.044\n",
       "x_11          -0.0851      0.102     -0.833      0.408      -0.289       0.119\n",
       "x_12          -0.3429      0.094     -3.640      0.001      -0.531      -0.155\n",
       "x_13           0.0465      0.114      0.409      0.684      -0.181       0.274\n",
       "x_14           0.2291      0.106      2.169      0.034       0.018       0.440\n",
       "x_15          -0.1687      0.097     -1.733      0.088      -0.363       0.026\n",
       "x_16          -0.1233      0.109     -1.130      0.262      -0.341       0.094\n",
       "x_17           0.0159      0.110      0.145      0.885      -0.203       0.235\n",
       "x_18           0.0884      0.091      0.972      0.334      -0.093       0.270\n",
       "x_19          -0.0722      0.095     -0.763      0.448      -0.261       0.117\n",
       "x_20           0.0697      0.104      0.670      0.505      -0.138       0.277\n",
       "x_21          -0.1338      0.102     -1.315      0.193      -0.337       0.069\n",
       "x_22          -0.0835      0.098     -0.855      0.395      -0.278       0.111\n",
       "x_23           0.1167      0.102      1.145      0.256      -0.087       0.320\n",
       "x_24           0.0342      0.098      0.348      0.729      -0.162       0.230\n",
       "x_25          -0.0729      0.091     -0.799      0.427      -0.255       0.109\n",
       "x_26           0.0962      0.102      0.945      0.348      -0.107       0.299\n",
       "x_27           0.0906      0.096      0.943      0.349      -0.101       0.282\n",
       "x_28           0.1260      0.087      1.446      0.153      -0.048       0.300\n",
       "x_29           0.0879      0.094      0.931      0.355      -0.100       0.276\n",
       "x_30          -0.0914      0.105     -0.871      0.387      -0.301       0.118\n",
       "==============================================================================\n",
       "Omnibus:                        1.291   Durbin-Watson:                   1.698\n",
       "Prob(Omnibus):                  0.524   Jarque-Bera (JB):                1.203\n",
       "Skew:                          -0.124   Prob(JB):                        0.548\n",
       "Kurtosis:                       2.523   Cond. No.                         38.9\n",
       "==============================================================================\n",
       "\n",
       "Warnings:\n",
       "[1] Standard Errors assume that the covariance matrix of the errors is correctly specified.\n",
       "\"\"\""
      ]
     },
     "execution_count": 30,
     "metadata": {},
     "output_type": "execute_result"
    }
   ],
   "source": [
    "estimator.summary()"
   ]
  },
  {
   "cell_type": "markdown",
   "id": "32bd7e6d",
   "metadata": {},
   "source": [
    "### Multiple testing dilemma"
   ]
  },
  {
   "cell_type": "markdown",
   "id": "c555797e",
   "metadata": {},
   "source": [
    "What is the probability to get at least one significant coefficients out of 30 samples"
   ]
  },
  {
   "cell_type": "code",
   "execution_count": 35,
   "id": "01b45146",
   "metadata": {},
   "outputs": [
    {
     "data": {
      "text/plain": [
       "0.7853612360570628"
      ]
     },
     "execution_count": 35,
     "metadata": {},
     "output_type": "execute_result"
    }
   ],
   "source": [
    "1-(0.95)**30"
   ]
  },
  {
   "cell_type": "markdown",
   "id": "96753c96",
   "metadata": {},
   "source": [
    "global test: Prob (F-statistic) --> p-value -> we have not enough evidence to reject the null (all coefficients are not statistically significant) --> beats the single p-value"
   ]
  },
  {
   "cell_type": "markdown",
   "id": "1d0e3b24",
   "metadata": {},
   "source": [
    "# Dummy coding"
   ]
  },
  {
   "cell_type": "code",
   "execution_count": 36,
   "id": "6590e143",
   "metadata": {},
   "outputs": [
    {
     "data": {
      "text/html": [
       "<table class=\"simpletable\">\n",
       "<tr>\n",
       "       <td></td>          <th>coef</th>     <th>std err</th>      <th>t</th>      <th>P>|t|</th>  <th>[0.025</th>    <th>0.975]</th>  \n",
       "</tr>\n",
       "<tr>\n",
       "  <th>Intercept</th>   <td>    0.7420</td> <td>    0.023</td> <td>   32.171</td> <td> 0.000</td> <td>    0.697</td> <td>    0.787</td>\n",
       "</tr>\n",
       "<tr>\n",
       "  <th>sex[T.male]</th> <td>   -0.5531</td> <td>    0.029</td> <td>  -19.298</td> <td> 0.000</td> <td>   -0.609</td> <td>   -0.497</td>\n",
       "</tr>\n",
       "</table>"
      ],
      "text/plain": [
       "<class 'statsmodels.iolib.table.SimpleTable'>"
      ]
     },
     "execution_count": 36,
     "metadata": {},
     "output_type": "execute_result"
    }
   ],
   "source": [
    "import seaborn as sns\n",
    "\n",
    "titanic = sns.load_dataset('titanic')\n",
    "titanic.head()\n",
    "\n",
    "est = smf.ols('survived ~ pclass ', titanic).fit()\n",
    "est.summary().tables[1]\n",
    "\n",
    "est = smf.ols('survived ~ sex ', titanic).fit()\n",
    "est.summary().tables[1]"
   ]
  },
  {
   "cell_type": "code",
   "execution_count": 41,
   "id": "4ae3e05e",
   "metadata": {},
   "outputs": [
    {
     "data": {
      "text/html": [
       "<table class=\"simpletable\">\n",
       "<tr>\n",
       "      <td></td>         <th>coef</th>     <th>std err</th>      <th>t</th>      <th>P>|t|</th>  <th>[0.025</th>    <th>0.975]</th>  \n",
       "</tr>\n",
       "<tr>\n",
       "  <th>pclass[1]</th> <td>    0.6296</td> <td>    0.031</td> <td>   20.198</td> <td> 0.000</td> <td>    0.568</td> <td>    0.691</td>\n",
       "</tr>\n",
       "<tr>\n",
       "  <th>pclass[2]</th> <td>    0.4728</td> <td>    0.034</td> <td>   13.999</td> <td> 0.000</td> <td>    0.407</td> <td>    0.539</td>\n",
       "</tr>\n",
       "<tr>\n",
       "  <th>pclass[3]</th> <td>    0.2424</td> <td>    0.021</td> <td>   11.722</td> <td> 0.000</td> <td>    0.202</td> <td>    0.283</td>\n",
       "</tr>\n",
       "</table>"
      ],
      "text/plain": [
       "<class 'statsmodels.iolib.table.SimpleTable'>"
      ]
     },
     "execution_count": 41,
     "metadata": {},
     "output_type": "execute_result"
    }
   ],
   "source": [
    "titanic[\"pclass\"] = titanic[\"pclass\"].astype('category')\n",
    "est = smf.ols('survived ~ pclass -1', titanic).fit() # -1 to reduce the intercept (easier to read, because no delta interpretation)\n",
    "est.summary().tables[1]"
   ]
  },
  {
   "cell_type": "code",
   "execution_count": null,
   "id": "65c2e5b4",
   "metadata": {},
   "outputs": [],
   "source": []
  }
 ],
 "metadata": {
  "kernelspec": {
   "display_name": "Python 3 (ipykernel)",
   "language": "python",
   "name": "python3"
  },
  "language_info": {
   "codemirror_mode": {
    "name": "ipython",
    "version": 3
   },
   "file_extension": ".py",
   "mimetype": "text/x-python",
   "name": "python",
   "nbconvert_exporter": "python",
   "pygments_lexer": "ipython3",
   "version": "3.8.6"
  },
  "toc": {
   "base_numbering": 1,
   "nav_menu": {},
   "number_sections": true,
   "sideBar": true,
   "skip_h1_title": false,
   "title_cell": "Table of Contents",
   "title_sidebar": "Contents",
   "toc_cell": false,
   "toc_position": {},
   "toc_section_display": true,
   "toc_window_display": false
  }
 },
 "nbformat": 4,
 "nbformat_minor": 5
}
