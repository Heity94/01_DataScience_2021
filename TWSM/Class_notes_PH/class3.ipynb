{
  "cells": [
    {
      "cell_type": "markdown",
      "metadata": {
        "id": "view-in-github",
        "colab_type": "text"
      },
      "source": [
        "<a href=\"https://colab.research.google.com/github/Heity94/01_DataScience_2021/blob/main/TWSM/Class_notes_PH/class3.ipynb\" target=\"_parent\"><img src=\"https://colab.research.google.com/assets/colab-badge.svg\" alt=\"Open In Colab\"/></a>"
      ]
    },
    {
      "cell_type": "markdown",
      "source": [
        "# Naive Bayes"
      ],
      "metadata": {
        "id": "AbsmQT8UDW6d"
      }
    },
    {
      "cell_type": "markdown",
      "source": [
        "$P(A|B)=\\frac{P(A)}{P(B)}*P(B|A)$"
      ],
      "metadata": {
        "id": "DMjoYhkaGFs1"
      }
    },
    {
      "cell_type": "code",
      "source": [
        "#Ted Mosby example:  In 99.9% of highway accidents, the driver was not wearing gloves\n",
        "#P(A) = Accident\n",
        "#P(B) = Wearing gloves\n",
        "\n",
        "# P(B_|A) = 0.999\n",
        "# P(B|A) = 0.001\n",
        "# P(B) = 0.001 (made up number from us for demonstration purposes)\n",
        "\n",
        "# P(A|B) = P(A)/0.001*0.001 = P(A)"
      ],
      "metadata": {
        "id": "qjdYUbWhDa6u"
      },
      "execution_count": null,
      "outputs": []
    },
    {
      "cell_type": "markdown",
      "source": [
        "#### COVID example\n",
        "The overall sensitivity of the rapid antigen test was 65.3% (95%\n",
        "confidence interval [CI] 56.8-73.1), the specificity was 99.9% (95% CI\n",
        "99.5-100.0). In asymptomatic individuals, the sensitivity was 44.0%\n",
        "(95% CI 24.4-65.1).\n",
        "- P(Covid given positive test) = ?\n",
        "- P(no Covid given negative test) = ?"
      ],
      "metadata": {
        "id": "c4d5AMduDaut"
      }
    },
    {
      "cell_type": "markdown",
      "source": [
        "$P(Covid|T_+) = \\frac{P(C)}{P(T_+)}P(T_+|C)$<br><br>\n",
        "$P(Covid|T_+) =  \\frac{0.00357}{P(T_+)}*0.653$<br><br>\n",
        "\n",
        "Law of total probability:<br>\n",
        "$P(T_+) = P(T_+|TP)P(TP)+P(T_+|FP)P(FP)$ <br>\n",
        "$P(T_+) = P(T_+|TP)P(TP)+P(T_+|FP)P(FP)$\n"
      ],
      "metadata": {
        "id": "L_wchkpwHzTN"
      }
    },
    {
      "cell_type": "markdown",
      "source": [
        "![image.png](data:image/png;base64,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)"
      ],
      "metadata": {
        "id": "nmNNGqveIq1O"
      }
    },
    {
      "cell_type": "markdown",
      "source": [
        "# Deep Learning"
      ],
      "metadata": {
        "id": "tvjjNwrRDeqL"
      }
    },
    {
      "cell_type": "markdown",
      "source": [
        "### Libraries"
      ],
      "metadata": {
        "id": "eH2B6Yzmf4_J"
      }
    },
    {
      "cell_type": "code",
      "source": [
        "from google.colab import drive\n",
        "#drive.mount('/content/drive/MyDrive/Colab_Notebooks/02_HWR/01_Class')\n",
        "#TWSM_path = \"/content/drive/MyDrive/teaching/TWSM/WorkInClass/\"\n",
        "\n",
        "#from TWSM import *\n",
        "from tensorflow import keras\n",
        "from tensorflow.keras import layers\n"
      ],
      "metadata": {
        "id": "4k1Km8WrvyWM"
      },
      "execution_count": 9,
      "outputs": []
    },
    {
      "cell_type": "markdown",
      "source": [
        "### Data Sets"
      ],
      "metadata": {
        "id": "ioLvQ1TkvrmO"
      }
    },
    {
      "cell_type": "markdown",
      "source": [
        "#### IMD Movie Reviews\n"
      ],
      "metadata": {
        "id": "QG0vmczitVQy"
      }
    },
    {
      "cell_type": "code",
      "source": [
        "from tensorflow.keras.datasets import imdb\n",
        "(train_data, train_labels), (test_data, test_labels) = imdb.load_data(\n",
        "    num_words=10000)"
      ],
      "metadata": {
        "colab": {
          "base_uri": "https://localhost:8080/"
        },
        "id": "PMLV2uy1tmpe",
        "outputId": "edfba494-f9a0-467e-82c7-9c90a6724056"
      },
      "execution_count": 8,
      "outputs": [
        {
          "output_type": "stream",
          "name": "stdout",
          "text": [
            "Downloading data from https://storage.googleapis.com/tensorflow/tf-keras-datasets/imdb.npz\n",
            "17465344/17464789 [==============================] - 0s 0us/step\n",
            "17473536/17464789 [==============================] - 0s 0us/step\n"
          ]
        }
      ]
    },
    {
      "cell_type": "markdown",
      "source": [
        "**Decoding reviews back to text**"
      ],
      "metadata": {
        "id": "6xrmGZDsPfUr"
      }
    },
    {
      "cell_type": "code",
      "source": [
        "word_index = imdb.get_word_index()\n",
        "reverse_word_index = dict(\n",
        "    [(value, key) for (key, value) in word_index.items()])\n",
        "decoded_review = \" \".join(\n",
        "    [reverse_word_index.get(i - 3, \"?\") for i in train_data[0]])\n",
        "\n",
        "decoded_review"
      ],
      "metadata": {
        "colab": {
          "base_uri": "https://localhost:8080/",
          "height": 192
        },
        "id": "muyre50UtroS",
        "outputId": "63ddbda6-78d8-4d6b-db2a-a48a9ae3096c"
      },
      "execution_count": 10,
      "outputs": [
        {
          "output_type": "stream",
          "name": "stdout",
          "text": [
            "Downloading data from https://storage.googleapis.com/tensorflow/tf-keras-datasets/imdb_word_index.json\n",
            "1646592/1641221 [==============================] - 0s 0us/step\n",
            "1654784/1641221 [==============================] - 0s 0us/step\n"
          ]
        },
        {
          "output_type": "execute_result",
          "data": {
            "text/plain": [
              "\"? this film was just brilliant casting location scenery story direction everyone's really suited the part they played and you could just imagine being there robert ? is an amazing actor and now the same being director ? father came from the same scottish island as myself so i loved the fact there was a real connection with this film the witty remarks throughout the film were great it was just brilliant so much that i bought the film as soon as it was released for ? and would recommend it to everyone to watch and the fly fishing was amazing really cried at the end it was so sad and you know what they say if you cry at a film it must have been good and this definitely was also ? to the two little boy's that played the ? of norman and paul they were just brilliant children are often left out of the ? list i think because the stars that play them all grown up are such a big profile for the whole film but these children are amazing and should be praised for what they have done don't you think the whole story was so lovely because it was true and was someone's life after all that was shared with us all\""
            ],
            "application/vnd.google.colaboratory.intrinsic+json": {
              "type": "string"
            }
          },
          "metadata": {},
          "execution_count": 10
        }
      ]
    },
    {
      "cell_type": "code",
      "source": [
        "N=len(train_data)\n",
        "decoded_reviews = [\"\" for x in range(N)]\n",
        "\n",
        "for j in range(N):\n",
        "  decoded_reviews[j] = \" \".join(\n",
        "    [reverse_word_index.get(i - 3, \"?\") for i in train_data[j]])"
      ],
      "metadata": {
        "id": "1Mo-oPtJPj6r"
      },
      "execution_count": 11,
      "outputs": []
    },
    {
      "cell_type": "markdown",
      "source": [
        "**Encoding the integer sequences via multi-hot encoding**"
      ],
      "metadata": {
        "id": "ckgG4Mii0yKK"
      }
    },
    {
      "cell_type": "code",
      "source": [
        "import numpy as np\n",
        "def vectorize_sequences(sequences, dimension=10000):\n",
        "    results = np.zeros((len(sequences), dimension))\n",
        "    for i, sequence in enumerate(sequences):\n",
        "        for j in sequence:\n",
        "            results[i, j] = 1.\n",
        "    return results\n",
        "\n",
        "x_train = vectorize_sequences(train_data)\n",
        "x_test = vectorize_sequences(test_data)\n"
      ],
      "metadata": {
        "id": "7MkTq6bL0yWv"
      },
      "execution_count": 15,
      "outputs": []
    },
    {
      "cell_type": "code",
      "source": [
        "y_train = np.asarray(train_labels).astype(\"float32\")\n",
        "y_test = np.asarray(test_labels).astype(\"float32\")"
      ],
      "metadata": {
        "id": "4S2dfEtFpYgj"
      },
      "execution_count": 13,
      "outputs": []
    },
    {
      "cell_type": "markdown",
      "source": [
        "### Tasks\n",
        "1. Fit Naive Bayes model on one hot encoding\n",
        "2. Create a tf-idf matrix instead\n",
        "3. Fit a Naive Bayes model again"
      ],
      "metadata": {
        "id": "7xkNvMdsQdeU"
      }
    },
    {
      "cell_type": "code",
      "source": [
        ""
      ],
      "metadata": {
        "id": "qW7bJjnUQdU2"
      },
      "execution_count": null,
      "outputs": []
    },
    {
      "cell_type": "code",
      "source": [
        ""
      ],
      "metadata": {
        "id": "EYAEkCIiQdMY"
      },
      "execution_count": null,
      "outputs": []
    },
    {
      "cell_type": "code",
      "source": [
        ""
      ],
      "metadata": {
        "id": "vC4O7wziQc68"
      },
      "execution_count": null,
      "outputs": []
    },
    {
      "cell_type": "code",
      "source": [
        "model = keras.Sequential([\n",
        "    layers.Dense(16, activation=\"relu\"),\n",
        "    layers.Dense(16, activation=\"relu\"),\n",
        "    layers.Dense(1, activation=\"sigmoid\")\n",
        "])\n",
        "\n",
        "#model.summary()"
      ],
      "metadata": {
        "id": "6HJLYKpk1GI6"
      },
      "execution_count": 14,
      "outputs": []
    },
    {
      "cell_type": "code",
      "source": [
        ""
      ],
      "metadata": {
        "id": "ml_IEUsypI0x"
      },
      "execution_count": null,
      "outputs": []
    },
    {
      "cell_type": "markdown",
      "metadata": {
        "id": "O95XnhQiU80q"
      },
      "source": [
        "**Compiling the model**"
      ]
    },
    {
      "cell_type": "code",
      "execution_count": null,
      "metadata": {
        "id": "JezYOkRlU80r"
      },
      "outputs": [],
      "source": [
        "model.compile(optimizer=\"rmsprop\",\n",
        "              loss=\"binary_crossentropy\",\n",
        "              metrics=[\"accuracy\"])"
      ]
    },
    {
      "cell_type": "markdown",
      "metadata": {
        "id": "M3hj_IblU80r"
      },
      "source": [
        "### Validating your approach"
      ]
    },
    {
      "cell_type": "markdown",
      "metadata": {
        "id": "oZTUPJHFU80r"
      },
      "source": [
        "**Setting aside a validation set**"
      ]
    },
    {
      "cell_type": "code",
      "execution_count": null,
      "metadata": {
        "id": "a299GSLIU80r"
      },
      "outputs": [],
      "source": [
        "x_val = x_train[:10000]\n",
        "partial_x_train = x_train[10000:]\n",
        "y_val = y_train[:10000]\n",
        "partial_y_train = y_train[10000:]"
      ]
    },
    {
      "cell_type": "markdown",
      "metadata": {
        "id": "lL8OV_d-U80r"
      },
      "source": [
        "**Training your model**"
      ]
    },
    {
      "cell_type": "code",
      "execution_count": null,
      "metadata": {
        "id": "I5VycNgNU80s",
        "colab": {
          "base_uri": "https://localhost:8080/"
        },
        "outputId": "0807468c-a629-4430-d122-346ca5236eae"
      },
      "outputs": [
        {
          "output_type": "stream",
          "name": "stdout",
          "text": [
            "Epoch 1/20\n",
            "30/30 [==============================] - 2s 49ms/step - loss: 0.5011 - accuracy: 0.7829 - val_loss: 0.3710 - val_accuracy: 0.8708\n",
            "Epoch 2/20\n",
            "30/30 [==============================] - 1s 36ms/step - loss: 0.2927 - accuracy: 0.9027 - val_loss: 0.3008 - val_accuracy: 0.8864\n",
            "Epoch 3/20\n",
            "30/30 [==============================] - 1s 36ms/step - loss: 0.2108 - accuracy: 0.9302 - val_loss: 0.2781 - val_accuracy: 0.8906\n",
            "Epoch 4/20\n",
            "30/30 [==============================] - 1s 37ms/step - loss: 0.1676 - accuracy: 0.9460 - val_loss: 0.2756 - val_accuracy: 0.8908\n",
            "Epoch 5/20\n",
            "30/30 [==============================] - 1s 38ms/step - loss: 0.1350 - accuracy: 0.9571 - val_loss: 0.2998 - val_accuracy: 0.8838\n",
            "Epoch 6/20\n",
            "30/30 [==============================] - 1s 37ms/step - loss: 0.1110 - accuracy: 0.9636 - val_loss: 0.3029 - val_accuracy: 0.8847\n",
            "Epoch 7/20\n",
            "30/30 [==============================] - 1s 37ms/step - loss: 0.0926 - accuracy: 0.9714 - val_loss: 0.3203 - val_accuracy: 0.8825\n",
            "Epoch 8/20\n",
            "30/30 [==============================] - 1s 36ms/step - loss: 0.0783 - accuracy: 0.9759 - val_loss: 0.3415 - val_accuracy: 0.8816\n",
            "Epoch 9/20\n",
            "30/30 [==============================] - 1s 37ms/step - loss: 0.0622 - accuracy: 0.9829 - val_loss: 0.3805 - val_accuracy: 0.8748\n",
            "Epoch 10/20\n",
            "30/30 [==============================] - 1s 39ms/step - loss: 0.0521 - accuracy: 0.9867 - val_loss: 0.4147 - val_accuracy: 0.8706\n",
            "Epoch 11/20\n",
            "30/30 [==============================] - 1s 36ms/step - loss: 0.0399 - accuracy: 0.9908 - val_loss: 0.4279 - val_accuracy: 0.8763\n",
            "Epoch 12/20\n",
            "30/30 [==============================] - 1s 36ms/step - loss: 0.0341 - accuracy: 0.9927 - val_loss: 0.4565 - val_accuracy: 0.8763\n",
            "Epoch 13/20\n",
            "30/30 [==============================] - 1s 35ms/step - loss: 0.0258 - accuracy: 0.9951 - val_loss: 0.5143 - val_accuracy: 0.8678\n",
            "Epoch 14/20\n",
            "30/30 [==============================] - 1s 36ms/step - loss: 0.0225 - accuracy: 0.9954 - val_loss: 0.5231 - val_accuracy: 0.8727\n",
            "Epoch 15/20\n",
            "30/30 [==============================] - 1s 36ms/step - loss: 0.0179 - accuracy: 0.9966 - val_loss: 0.5632 - val_accuracy: 0.8697\n",
            "Epoch 16/20\n",
            "30/30 [==============================] - 1s 37ms/step - loss: 0.0161 - accuracy: 0.9970 - val_loss: 0.5990 - val_accuracy: 0.8697\n",
            "Epoch 17/20\n",
            "30/30 [==============================] - 1s 36ms/step - loss: 0.0076 - accuracy: 0.9998 - val_loss: 0.6383 - val_accuracy: 0.8684\n",
            "Epoch 18/20\n",
            "30/30 [==============================] - 1s 37ms/step - loss: 0.0119 - accuracy: 0.9976 - val_loss: 0.6704 - val_accuracy: 0.8686\n",
            "Epoch 19/20\n",
            "30/30 [==============================] - 1s 36ms/step - loss: 0.0046 - accuracy: 0.9999 - val_loss: 0.7157 - val_accuracy: 0.8661\n",
            "Epoch 20/20\n",
            "30/30 [==============================] - 1s 36ms/step - loss: 0.0086 - accuracy: 0.9977 - val_loss: 0.7503 - val_accuracy: 0.8658\n"
          ]
        }
      ],
      "source": [
        "history = model.fit(partial_x_train,\n",
        "                    partial_y_train,\n",
        "                    epochs=20,\n",
        "                    batch_size=512,\n",
        "                    validation_data=(x_val, y_val))"
      ]
    },
    {
      "cell_type": "code",
      "execution_count": null,
      "metadata": {
        "id": "Q7p0Fk0bU80s",
        "colab": {
          "base_uri": "https://localhost:8080/"
        },
        "outputId": "26a41abd-079a-47a9-d0dc-e70d3657316d"
      },
      "outputs": [
        {
          "output_type": "execute_result",
          "data": {
            "text/plain": [
              "dict_keys(['loss', 'accuracy', 'val_loss', 'val_accuracy'])"
            ]
          },
          "metadata": {},
          "execution_count": 18
        }
      ],
      "source": [
        "history_dict = history.history\n",
        "history_dict.keys()"
      ]
    },
    {
      "cell_type": "markdown",
      "metadata": {
        "id": "zhP2AyESU80s"
      },
      "source": [
        "**Plotting the training and validation loss**"
      ]
    },
    {
      "cell_type": "code",
      "execution_count": null,
      "metadata": {
        "id": "JRZyImMBU80s",
        "colab": {
          "base_uri": "https://localhost:8080/",
          "height": 295
        },
        "outputId": "ad5ef78e-1110-48f6-b09c-7927a4d0e679"
      },
      "outputs": [
        {
          "output_type": "display_data",
          "data": {
            "text/plain": [
              "<Figure size 432x288 with 1 Axes>"
            ],
            "image/png": "[encoded data removed]"
          },
          "metadata": {
            "needs_background": "light"
          }
        }
      ],
      "source": [
        "import matplotlib.pyplot as plt\n",
        "history_dict = history.history\n",
        "loss_values = history_dict[\"loss\"]\n",
        "val_loss_values = history_dict[\"val_loss\"]\n",
        "epochs = range(1, len(loss_values) + 1)\n",
        "plt.plot(epochs, loss_values, \"bo\", label=\"Training loss\")\n",
        "plt.plot(epochs, val_loss_values, \"b\", label=\"Validation loss\")\n",
        "plt.title(\"Training and validation loss\")\n",
        "plt.xlabel(\"Epochs\")\n",
        "plt.ylabel(\"Loss\")\n",
        "plt.legend()\n",
        "plt.show()"
      ]
    },
    {
      "cell_type": "markdown",
      "metadata": {
        "id": "IsbgLU01U80s"
      },
      "source": [
        "**Plotting the training and validation accuracy**"
      ]
    },
    {
      "cell_type": "code",
      "execution_count": null,
      "metadata": {
        "id": "MhHPuWsgU80s",
        "colab": {
          "base_uri": "https://localhost:8080/",
          "height": 295
        },
        "outputId": "37e6f489-f8a1-41c2-da4e-927b36ff166a"
      },
      "outputs": [
        {
          "output_type": "display_data",
          "data": {
            "text/plain": [
              "<Figure size 432x288 with 1 Axes>"
            ],
            "image/png": "[encoded data removed]"
          },
          "metadata": {
            "needs_background": "light"
          }
        }
      ],
      "source": [
        "plt.clf()\n",
        "acc = history_dict[\"accuracy\"]\n",
        "val_acc = history_dict[\"val_accuracy\"]\n",
        "plt.plot(epochs, acc, \"bo\", label=\"Training acc\")\n",
        "plt.plot(epochs, val_acc, \"b\", label=\"Validation acc\")\n",
        "plt.title(\"Training and validation accuracy\")\n",
        "plt.xlabel(\"Epochs\")\n",
        "plt.ylabel(\"Accuracy\")\n",
        "plt.legend()\n",
        "plt.show()"
      ]
    },
    {
      "cell_type": "markdown",
      "source": [
        "## 20-Newsgroups "
      ],
      "metadata": {
        "id": "ZJQNWqzltfPF"
      }
    },
    {
      "cell_type": "markdown",
      "metadata": {
        "id": "cZPVKf76JJf5"
      },
      "source": [
        "In this exercise, we will be using the 20-Newsgroups dataset. This version of the dataset contains about 11k newsgroups posts from 20 different topics."
      ]
    },
    {
      "cell_type": "markdown",
      "source": [
        ""
      ],
      "metadata": {
        "id": "y2vYL0x6tURi"
      }
    },
    {
      "cell_type": "code",
      "execution_count": null,
      "metadata": {
        "id": "8pt8XPwpJJf6"
      },
      "outputs": [],
      "source": [
        "# Import packages\n",
        "import pandas as pd\n",
        "import re\n",
        "from gensim.parsing.preprocessing import STOPWORDS, strip_tags, strip_numeric, strip_punctuation, strip_multiple_whitespaces, remove_stopwords, strip_short, stem_text\n",
        "import pickle\n",
        "import en_core_web_sm\n",
        "import nltk\n",
        "nltk.download('stopwords')"
      ]
    },
    {
      "cell_type": "code",
      "execution_count": null,
      "metadata": {
        "id": "iqbibgI_Apwb"
      },
      "outputs": [],
      "source": [
        "from nltk.corpus import stopwords"
      ]
    },
    {
      "cell_type": "markdown",
      "metadata": {
        "id": "5NRuxwx9JJf8"
      },
      "source": [
        "# 1. Import and examine data"
      ]
    },
    {
      "cell_type": "code",
      "execution_count": null,
      "metadata": {
        "id": "p34gaa_tJJf8"
      },
      "outputs": [],
      "source": [
        "# Import dataset\n",
        "df = pd.read_json('https://raw.githubusercontent.com/selva86/datasets/master/newsgroups.json')\n",
        "df.head()"
      ]
    },
    {
      "cell_type": "code",
      "execution_count": null,
      "metadata": {
        "id": "zSKKAbCIJJf8"
      },
      "outputs": [],
      "source": [
        "# Examine dataset\n",
        "print('Possible tagret values:')\n",
        "print(df.target_names.unique())\n",
        "print(' ')\n",
        "print('Class distribution:')\n",
        "print(df.target_names.value_counts())"
      ]
    },
    {
      "cell_type": "markdown",
      "source": [
        "*The classes are almost uniformly distributed.*"
      ],
      "metadata": {
        "id": "Jj_tNUJnvI9D"
      }
    },
    {
      "cell_type": "markdown",
      "metadata": {
        "id": "gCGteqesJJf9"
      },
      "source": [
        ""
      ]
    }
  ],
  "metadata": {
    "colab": {
      "name": "class3.ipynb",
      "provenance": [],
      "collapsed_sections": [],
      "include_colab_link": true
    },
    "kernelspec": {
      "display_name": "Python 3",
      "language": "python",
      "name": "python3"
    },
    "language_info": {
      "codemirror_mode": {
        "name": "ipython",
        "version": 3
      },
      "file_extension": ".py",
      "mimetype": "text/x-python",
      "name": "python",
      "nbconvert_exporter": "python",
      "pygments_lexer": "ipython3",
      "version": "3.8.3"
    }
  },
  "nbformat": 4,
  "nbformat_minor": 0
}