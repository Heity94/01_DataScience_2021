{
  "cells": [
    {
      "cell_type": "markdown",
      "metadata": {
        "id": "view-in-github",
        "colab_type": "text"
      },
      "source": [
        "<a href=\"https://colab.research.google.com/github/Heity94/01_DataScience_2021/blob/main/TWSM/Class2.ipynb\" target=\"_parent\"><img src=\"https://colab.research.google.com/assets/colab-badge.svg\" alt=\"Open In Colab\"/></a>"
      ]
    },
    {
      "cell_type": "markdown",
      "source": [
        "## Functions"
      ],
      "metadata": {
        "id": "-B3RMcw6CeZQ"
      }
    },
    {
      "cell_type": "code",
      "source": [
        "import numpy as np\n",
        "import pandas as pd\n",
        "import re\n",
        "\n",
        "# function for transformation\n",
        "def transform_df(text):\n",
        "    (unique, counts) = np.unique(text.split(), return_counts=True)\n",
        "    df_words = pd.DataFrame(unique, counts).reset_index().rename(columns = {\"index\":\"counts\", 0:\"word\"}).sort_values(by = \"counts\", ascending = False)\n",
        "    df_words[\"rank\"] =  df_words[\"counts\"].rank(ascending=False)\n",
        "    return df_words\n",
        "\n",
        "def vectorize_sequences(sequences, dimension=10000):\n",
        "  '''OHE representation of occurrence of every word in a text'''\n",
        "  results = np.zeros((len(sequences), dimension))\n",
        "  for i, sequence in enumerate(sequences):\n",
        "      for j in sequence:\n",
        "          results[i, j] = 1.\n",
        "  return results\n",
        "\n",
        "def tf_sequences(sequences, dimension=10000):\n",
        "  \"\"\"\"Absolute frequency of every word in a text\"\"\"\n",
        "  results = np.zeros((len(sequences), dimension))\n",
        "  for i, sequence in enumerate(sequences):\n",
        "      for j in sequence:\n",
        "          results[i, j] += 1.\n",
        "  return results"
      ],
      "metadata": {
        "id": "cVATPaIWf6cG"
      },
      "execution_count": 1,
      "outputs": []
    },
    {
      "cell_type": "markdown",
      "source": [
        "## Data Sets"
      ],
      "metadata": {
        "id": "eH2B6Yzmf4_J"
      }
    },
    {
      "cell_type": "code",
      "execution_count": 2,
      "metadata": {
        "colab": {
          "base_uri": "https://localhost:8080/"
        },
        "id": "9AczlUWfwpd6",
        "outputId": "d928a828-464f-4501-d313-f2e2a1856a6e"
      },
      "outputs": [
        {
          "output_type": "stream",
          "name": "stdout",
          "text": [
            "Drive already mounted at /content/drive; to attempt to forcibly remount, call drive.mount(\"/content/drive\", force_remount=True).\n"
          ]
        }
      ],
      "source": [
        "from google.colab import drive\n",
        "drive.mount('/content/drive')"
      ]
    },
    {
      "cell_type": "code",
      "source": [
        "TWSM_path = \"/content/drive/MyDrive/Colab_Notebooks/02_HWR/00_data/SentimentDictionaries/\"\n",
        "bing = pd.read_csv(TWSM_path+\"bing.csv\")\n",
        "\n",
        "bing"
      ],
      "metadata": {
        "colab": {
          "base_uri": "https://localhost:8080/",
          "height": 424
        },
        "id": "4qfh7ik6Pii9",
        "outputId": "19abe33a-f3b5-4385-e04f-0273b51e0ac9"
      },
      "execution_count": 3,
      "outputs": [
        {
          "output_type": "execute_result",
          "data": {
            "text/plain": [
              "      Unnamed: 0        word sentiment\n",
              "0              1     2-faces  negative\n",
              "1              2    abnormal  negative\n",
              "2              3     abolish  negative\n",
              "3              4  abominable  negative\n",
              "4              5  abominably  negative\n",
              "...          ...         ...       ...\n",
              "6781        6782   zealously  negative\n",
              "6782        6783      zenith  positive\n",
              "6783        6784        zest  positive\n",
              "6784        6785       zippy  positive\n",
              "6785        6786      zombie  negative\n",
              "\n",
              "[6786 rows x 3 columns]"
            ],
            "text/html": [
              "\n",
              "  <div id=\"df-be428dac-a4fe-48b9-b362-38babf4a6fd0\">\n",
              "    <div class=\"colab-df-container\">\n",
              "      <div>\n",
              "<style scoped>\n",
              "    .dataframe tbody tr th:only-of-type {\n",
              "        vertical-align: middle;\n",
              "    }\n",
              "\n",
              "    .dataframe tbody tr th {\n",
              "        vertical-align: top;\n",
              "    }\n",
              "\n",
              "    .dataframe thead th {\n",
              "        text-align: right;\n",
              "    }\n",
              "</style>\n",
              "<table border=\"1\" class=\"dataframe\">\n",
              "  <thead>\n",
              "    <tr style=\"text-align: right;\">\n",
              "      <th></th>\n",
              "      <th>Unnamed: 0</th>\n",
              "      <th>word</th>\n",
              "      <th>sentiment</th>\n",
              "    </tr>\n",
              "  </thead>\n",
              "  <tbody>\n",
              "    <tr>\n",
              "      <th>0</th>\n",
              "      <td>1</td>\n",
              "      <td>2-faces</td>\n",
              "      <td>negative</td>\n",
              "    </tr>\n",
              "    <tr>\n",
              "      <th>1</th>\n",
              "      <td>2</td>\n",
              "      <td>abnormal</td>\n",
              "      <td>negative</td>\n",
              "    </tr>\n",
              "    <tr>\n",
              "      <th>2</th>\n",
              "      <td>3</td>\n",
              "      <td>abolish</td>\n",
              "      <td>negative</td>\n",
              "    </tr>\n",
              "    <tr>\n",
              "      <th>3</th>\n",
              "      <td>4</td>\n",
              "      <td>abominable</td>\n",
              "      <td>negative</td>\n",
              "    </tr>\n",
              "    <tr>\n",
              "      <th>4</th>\n",
              "      <td>5</td>\n",
              "      <td>abominably</td>\n",
              "      <td>negative</td>\n",
              "    </tr>\n",
              "    <tr>\n",
              "      <th>...</th>\n",
              "      <td>...</td>\n",
              "      <td>...</td>\n",
              "      <td>...</td>\n",
              "    </tr>\n",
              "    <tr>\n",
              "      <th>6781</th>\n",
              "      <td>6782</td>\n",
              "      <td>zealously</td>\n",
              "      <td>negative</td>\n",
              "    </tr>\n",
              "    <tr>\n",
              "      <th>6782</th>\n",
              "      <td>6783</td>\n",
              "      <td>zenith</td>\n",
              "      <td>positive</td>\n",
              "    </tr>\n",
              "    <tr>\n",
              "      <th>6783</th>\n",
              "      <td>6784</td>\n",
              "      <td>zest</td>\n",
              "      <td>positive</td>\n",
              "    </tr>\n",
              "    <tr>\n",
              "      <th>6784</th>\n",
              "      <td>6785</td>\n",
              "      <td>zippy</td>\n",
              "      <td>positive</td>\n",
              "    </tr>\n",
              "    <tr>\n",
              "      <th>6785</th>\n",
              "      <td>6786</td>\n",
              "      <td>zombie</td>\n",
              "      <td>negative</td>\n",
              "    </tr>\n",
              "  </tbody>\n",
              "</table>\n",
              "<p>6786 rows × 3 columns</p>\n",
              "</div>\n",
              "      <button class=\"colab-df-convert\" onclick=\"convertToInteractive('df-be428dac-a4fe-48b9-b362-38babf4a6fd0')\"\n",
              "              title=\"Convert this dataframe to an interactive table.\"\n",
              "              style=\"display:none;\">\n",
              "        \n",
              "  <svg xmlns=\"http://www.w3.org/2000/svg\" height=\"24px\"viewBox=\"0 0 24 24\"\n",
              "       width=\"24px\">\n",
              "    <path d=\"M0 0h24v24H0V0z\" fill=\"none\"/>\n",
              "    <path d=\"M18.56 5.44l.94 2.06.94-2.06 2.06-.94-2.06-.94-.94-2.06-.94 2.06-2.06.94zm-11 1L8.5 8.5l.94-2.06 2.06-.94-2.06-.94L8.5 2.5l-.94 2.06-2.06.94zm10 10l.94 2.06.94-2.06 2.06-.94-2.06-.94-.94-2.06-.94 2.06-2.06.94z\"/><path d=\"M17.41 7.96l-1.37-1.37c-.4-.4-.92-.59-1.43-.59-.52 0-1.04.2-1.43.59L10.3 9.45l-7.72 7.72c-.78.78-.78 2.05 0 2.83L4 21.41c.39.39.9.59 1.41.59.51 0 1.02-.2 1.41-.59l7.78-7.78 2.81-2.81c.8-.78.8-2.07 0-2.86zM5.41 20L4 18.59l7.72-7.72 1.47 1.35L5.41 20z\"/>\n",
              "  </svg>\n",
              "      </button>\n",
              "      \n",
              "  <style>\n",
              "    .colab-df-container {\n",
              "      display:flex;\n",
              "      flex-wrap:wrap;\n",
              "      gap: 12px;\n",
              "    }\n",
              "\n",
              "    .colab-df-convert {\n",
              "      background-color: #E8F0FE;\n",
              "      border: none;\n",
              "      border-radius: 50%;\n",
              "      cursor: pointer;\n",
              "      display: none;\n",
              "      fill: #1967D2;\n",
              "      height: 32px;\n",
              "      padding: 0 0 0 0;\n",
              "      width: 32px;\n",
              "    }\n",
              "\n",
              "    .colab-df-convert:hover {\n",
              "      background-color: #E2EBFA;\n",
              "      box-shadow: 0px 1px 2px rgba(60, 64, 67, 0.3), 0px 1px 3px 1px rgba(60, 64, 67, 0.15);\n",
              "      fill: #174EA6;\n",
              "    }\n",
              "\n",
              "    [theme=dark] .colab-df-convert {\n",
              "      background-color: #3B4455;\n",
              "      fill: #D2E3FC;\n",
              "    }\n",
              "\n",
              "    [theme=dark] .colab-df-convert:hover {\n",
              "      background-color: #434B5C;\n",
              "      box-shadow: 0px 1px 3px 1px rgba(0, 0, 0, 0.15);\n",
              "      filter: drop-shadow(0px 1px 2px rgba(0, 0, 0, 0.3));\n",
              "      fill: #FFFFFF;\n",
              "    }\n",
              "  </style>\n",
              "\n",
              "      <script>\n",
              "        const buttonEl =\n",
              "          document.querySelector('#df-be428dac-a4fe-48b9-b362-38babf4a6fd0 button.colab-df-convert');\n",
              "        buttonEl.style.display =\n",
              "          google.colab.kernel.accessAllowed ? 'block' : 'none';\n",
              "\n",
              "        async function convertToInteractive(key) {\n",
              "          const element = document.querySelector('#df-be428dac-a4fe-48b9-b362-38babf4a6fd0');\n",
              "          const dataTable =\n",
              "            await google.colab.kernel.invokeFunction('convertToInteractive',\n",
              "                                                     [key], {});\n",
              "          if (!dataTable) return;\n",
              "\n",
              "          const docLinkHtml = 'Like what you see? Visit the ' +\n",
              "            '<a target=\"_blank\" href=https://colab.research.google.com/notebooks/data_table.ipynb>data table notebook</a>'\n",
              "            + ' to learn more about interactive tables.';\n",
              "          element.innerHTML = '';\n",
              "          dataTable['output_type'] = 'display_data';\n",
              "          await google.colab.output.renderOutput(dataTable, element);\n",
              "          const docLink = document.createElement('div');\n",
              "          docLink.innerHTML = docLinkHtml;\n",
              "          element.appendChild(docLink);\n",
              "        }\n",
              "      </script>\n",
              "    </div>\n",
              "  </div>\n",
              "  "
            ]
          },
          "metadata": {},
          "execution_count": 3
        }
      ]
    },
    {
      "cell_type": "markdown",
      "source": [
        "## Gutenberg"
      ],
      "metadata": {
        "id": "a1yymRS8ta7o"
      }
    },
    {
      "cell_type": "code",
      "source": [
        "!pip install gutenberg\n",
        "\n",
        "from gutenberg.acquire import load_etext\n",
        "from gutenberg.cleanup import strip_headers"
      ],
      "metadata": {
        "id": "_z87j_urtv6n",
        "colab": {
          "base_uri": "https://localhost:8080/"
        },
        "outputId": "145a3165-4a42-4f55-b1d1-95588a6d501b"
      },
      "execution_count": 4,
      "outputs": [
        {
          "output_type": "stream",
          "name": "stdout",
          "text": [
            "Requirement already satisfied: gutenberg in /usr/local/lib/python3.7/dist-packages (0.4.0)\n",
            "Requirement already satisfied: rdflib>=4.2.0 in /usr/local/lib/python3.7/dist-packages (from gutenberg) (6.1.1)\n",
            "Requirement already satisfied: requests>=2.5.1 in /usr/local/lib/python3.7/dist-packages (from gutenberg) (2.23.0)\n",
            "Requirement already satisfied: importlib-metadata in /usr/local/lib/python3.7/dist-packages (from rdflib>=4.2.0->gutenberg) (4.11.3)\n",
            "Requirement already satisfied: isodate in /usr/local/lib/python3.7/dist-packages (from rdflib>=4.2.0->gutenberg) (0.6.1)\n",
            "Requirement already satisfied: setuptools in /usr/local/lib/python3.7/dist-packages (from rdflib>=4.2.0->gutenberg) (57.4.0)\n",
            "Requirement already satisfied: pyparsing in /usr/local/lib/python3.7/dist-packages (from rdflib>=4.2.0->gutenberg) (3.0.7)\n",
            "Requirement already satisfied: certifi>=2017.4.17 in /usr/local/lib/python3.7/dist-packages (from requests>=2.5.1->gutenberg) (2021.10.8)\n",
            "Requirement already satisfied: chardet<4,>=3.0.2 in /usr/local/lib/python3.7/dist-packages (from requests>=2.5.1->gutenberg) (3.0.4)\n",
            "Requirement already satisfied: urllib3!=1.25.0,!=1.25.1,<1.26,>=1.21.1 in /usr/local/lib/python3.7/dist-packages (from requests>=2.5.1->gutenberg) (1.24.3)\n",
            "Requirement already satisfied: idna<3,>=2.5 in /usr/local/lib/python3.7/dist-packages (from requests>=2.5.1->gutenberg) (2.10)\n",
            "Requirement already satisfied: zipp>=0.5 in /usr/local/lib/python3.7/dist-packages (from importlib-metadata->rdflib>=4.2.0->gutenberg) (3.7.0)\n",
            "Requirement already satisfied: typing-extensions>=3.6.4 in /usr/local/lib/python3.7/dist-packages (from importlib-metadata->rdflib>=4.2.0->gutenberg) (3.10.0.2)\n",
            "Requirement already satisfied: six in /usr/local/lib/python3.7/dist-packages (from isodate->rdflib>=4.2.0->gutenberg) (1.15.0)\n"
          ]
        }
      ]
    },
    {
      "cell_type": "code",
      "source": [
        "text = strip_headers(load_etext(42671)).strip()\n",
        "#text = load_etext(42671)\n",
        "#print(text)"
      ],
      "metadata": {
        "id": "vKy-W6a-twxh"
      },
      "execution_count": 5,
      "outputs": []
    },
    {
      "cell_type": "code",
      "source": [
        "#TWSM_path = \"/content/drive/MyDrive/teaching/TWSM/WorkInClass/\"\n",
        "afinn = pd.read_csv(TWSM_path+\"afinn.csv\")\n",
        "\n",
        "afinn"
      ],
      "metadata": {
        "colab": {
          "base_uri": "https://localhost:8080/",
          "height": 424
        },
        "id": "rPYoge-eiNcc",
        "outputId": "e76a895a-bec8-43cf-ec44-5a20b034e939"
      },
      "execution_count": 6,
      "outputs": [
        {
          "output_type": "execute_result",
          "data": {
            "text/plain": [
              "      Unnamed: 0       word  value\n",
              "0              1    abandon     -2\n",
              "1              2  abandoned     -2\n",
              "2              3   abandons     -2\n",
              "3              4   abducted     -2\n",
              "4              5  abduction     -2\n",
              "...          ...        ...    ...\n",
              "2472        2473      yucky     -2\n",
              "2473        2474      yummy      3\n",
              "2474        2475     zealot     -2\n",
              "2475        2476    zealots     -2\n",
              "2476        2477    zealous      2\n",
              "\n",
              "[2477 rows x 3 columns]"
            ],
            "text/html": [
              "\n",
              "  <div id=\"df-9d272f9c-eb8f-4f9f-be53-49a27d9a0771\">\n",
              "    <div class=\"colab-df-container\">\n",
              "      <div>\n",
              "<style scoped>\n",
              "    .dataframe tbody tr th:only-of-type {\n",
              "        vertical-align: middle;\n",
              "    }\n",
              "\n",
              "    .dataframe tbody tr th {\n",
              "        vertical-align: top;\n",
              "    }\n",
              "\n",
              "    .dataframe thead th {\n",
              "        text-align: right;\n",
              "    }\n",
              "</style>\n",
              "<table border=\"1\" class=\"dataframe\">\n",
              "  <thead>\n",
              "    <tr style=\"text-align: right;\">\n",
              "      <th></th>\n",
              "      <th>Unnamed: 0</th>\n",
              "      <th>word</th>\n",
              "      <th>value</th>\n",
              "    </tr>\n",
              "  </thead>\n",
              "  <tbody>\n",
              "    <tr>\n",
              "      <th>0</th>\n",
              "      <td>1</td>\n",
              "      <td>abandon</td>\n",
              "      <td>-2</td>\n",
              "    </tr>\n",
              "    <tr>\n",
              "      <th>1</th>\n",
              "      <td>2</td>\n",
              "      <td>abandoned</td>\n",
              "      <td>-2</td>\n",
              "    </tr>\n",
              "    <tr>\n",
              "      <th>2</th>\n",
              "      <td>3</td>\n",
              "      <td>abandons</td>\n",
              "      <td>-2</td>\n",
              "    </tr>\n",
              "    <tr>\n",
              "      <th>3</th>\n",
              "      <td>4</td>\n",
              "      <td>abducted</td>\n",
              "      <td>-2</td>\n",
              "    </tr>\n",
              "    <tr>\n",
              "      <th>4</th>\n",
              "      <td>5</td>\n",
              "      <td>abduction</td>\n",
              "      <td>-2</td>\n",
              "    </tr>\n",
              "    <tr>\n",
              "      <th>...</th>\n",
              "      <td>...</td>\n",
              "      <td>...</td>\n",
              "      <td>...</td>\n",
              "    </tr>\n",
              "    <tr>\n",
              "      <th>2472</th>\n",
              "      <td>2473</td>\n",
              "      <td>yucky</td>\n",
              "      <td>-2</td>\n",
              "    </tr>\n",
              "    <tr>\n",
              "      <th>2473</th>\n",
              "      <td>2474</td>\n",
              "      <td>yummy</td>\n",
              "      <td>3</td>\n",
              "    </tr>\n",
              "    <tr>\n",
              "      <th>2474</th>\n",
              "      <td>2475</td>\n",
              "      <td>zealot</td>\n",
              "      <td>-2</td>\n",
              "    </tr>\n",
              "    <tr>\n",
              "      <th>2475</th>\n",
              "      <td>2476</td>\n",
              "      <td>zealots</td>\n",
              "      <td>-2</td>\n",
              "    </tr>\n",
              "    <tr>\n",
              "      <th>2476</th>\n",
              "      <td>2477</td>\n",
              "      <td>zealous</td>\n",
              "      <td>2</td>\n",
              "    </tr>\n",
              "  </tbody>\n",
              "</table>\n",
              "<p>2477 rows × 3 columns</p>\n",
              "</div>\n",
              "      <button class=\"colab-df-convert\" onclick=\"convertToInteractive('df-9d272f9c-eb8f-4f9f-be53-49a27d9a0771')\"\n",
              "              title=\"Convert this dataframe to an interactive table.\"\n",
              "              style=\"display:none;\">\n",
              "        \n",
              "  <svg xmlns=\"http://www.w3.org/2000/svg\" height=\"24px\"viewBox=\"0 0 24 24\"\n",
              "       width=\"24px\">\n",
              "    <path d=\"M0 0h24v24H0V0z\" fill=\"none\"/>\n",
              "    <path d=\"M18.56 5.44l.94 2.06.94-2.06 2.06-.94-2.06-.94-.94-2.06-.94 2.06-2.06.94zm-11 1L8.5 8.5l.94-2.06 2.06-.94-2.06-.94L8.5 2.5l-.94 2.06-2.06.94zm10 10l.94 2.06.94-2.06 2.06-.94-2.06-.94-.94-2.06-.94 2.06-2.06.94z\"/><path d=\"M17.41 7.96l-1.37-1.37c-.4-.4-.92-.59-1.43-.59-.52 0-1.04.2-1.43.59L10.3 9.45l-7.72 7.72c-.78.78-.78 2.05 0 2.83L4 21.41c.39.39.9.59 1.41.59.51 0 1.02-.2 1.41-.59l7.78-7.78 2.81-2.81c.8-.78.8-2.07 0-2.86zM5.41 20L4 18.59l7.72-7.72 1.47 1.35L5.41 20z\"/>\n",
              "  </svg>\n",
              "      </button>\n",
              "      \n",
              "  <style>\n",
              "    .colab-df-container {\n",
              "      display:flex;\n",
              "      flex-wrap:wrap;\n",
              "      gap: 12px;\n",
              "    }\n",
              "\n",
              "    .colab-df-convert {\n",
              "      background-color: #E8F0FE;\n",
              "      border: none;\n",
              "      border-radius: 50%;\n",
              "      cursor: pointer;\n",
              "      display: none;\n",
              "      fill: #1967D2;\n",
              "      height: 32px;\n",
              "      padding: 0 0 0 0;\n",
              "      width: 32px;\n",
              "    }\n",
              "\n",
              "    .colab-df-convert:hover {\n",
              "      background-color: #E2EBFA;\n",
              "      box-shadow: 0px 1px 2px rgba(60, 64, 67, 0.3), 0px 1px 3px 1px rgba(60, 64, 67, 0.15);\n",
              "      fill: #174EA6;\n",
              "    }\n",
              "\n",
              "    [theme=dark] .colab-df-convert {\n",
              "      background-color: #3B4455;\n",
              "      fill: #D2E3FC;\n",
              "    }\n",
              "\n",
              "    [theme=dark] .colab-df-convert:hover {\n",
              "      background-color: #434B5C;\n",
              "      box-shadow: 0px 1px 3px 1px rgba(0, 0, 0, 0.15);\n",
              "      filter: drop-shadow(0px 1px 2px rgba(0, 0, 0, 0.3));\n",
              "      fill: #FFFFFF;\n",
              "    }\n",
              "  </style>\n",
              "\n",
              "      <script>\n",
              "        const buttonEl =\n",
              "          document.querySelector('#df-9d272f9c-eb8f-4f9f-be53-49a27d9a0771 button.colab-df-convert');\n",
              "        buttonEl.style.display =\n",
              "          google.colab.kernel.accessAllowed ? 'block' : 'none';\n",
              "\n",
              "        async function convertToInteractive(key) {\n",
              "          const element = document.querySelector('#df-9d272f9c-eb8f-4f9f-be53-49a27d9a0771');\n",
              "          const dataTable =\n",
              "            await google.colab.kernel.invokeFunction('convertToInteractive',\n",
              "                                                     [key], {});\n",
              "          if (!dataTable) return;\n",
              "\n",
              "          const docLinkHtml = 'Like what you see? Visit the ' +\n",
              "            '<a target=\"_blank\" href=https://colab.research.google.com/notebooks/data_table.ipynb>data table notebook</a>'\n",
              "            + ' to learn more about interactive tables.';\n",
              "          element.innerHTML = '';\n",
              "          dataTable['output_type'] = 'display_data';\n",
              "          await google.colab.output.renderOutput(dataTable, element);\n",
              "          const docLink = document.createElement('div');\n",
              "          docLink.innerHTML = docLinkHtml;\n",
              "          element.appendChild(docLink);\n",
              "        }\n",
              "      </script>\n",
              "    </div>\n",
              "  </div>\n",
              "  "
            ]
          },
          "metadata": {},
          "execution_count": 6
        }
      ]
    },
    {
      "cell_type": "code",
      "source": [
        "dic = afinn\n",
        "\n",
        "#sentiment_merge = pd.merge(dic, df_words, how=\"inner\", on=\"word\")\n",
        "#sentiment_merge = pd.merge(dic, df_words, left_on=\"word\", right_on=\"words\")\n",
        "#sentiment_merge[\"total_value\"] = sentiment_merge[\"value\"] * sentiment_merge[\"counts\"]\n",
        "#ovr_score = np.mean(sentiment_merge[\"total_value\"])\n",
        "\n",
        "#print(ovr_score)"
      ],
      "metadata": {
        "id": "bIH6ufMKhzqM"
      },
      "execution_count": 7,
      "outputs": []
    },
    {
      "cell_type": "markdown",
      "source": [
        "## IMD Movie Reviews\n"
      ],
      "metadata": {
        "id": "QG0vmczitVQy"
      }
    },
    {
      "cell_type": "markdown",
      "source": [
        "***Loading the IMDB dataset***"
      ],
      "metadata": {
        "id": "ljUFLmLJtlnA"
      }
    },
    {
      "cell_type": "code",
      "source": [
        "from tensorflow.keras.datasets import imdb\n",
        "(train_data, train_labels), (test_data, test_labels) = imdb.load_data(\n",
        "    num_words=10000)"
      ],
      "metadata": {
        "id": "PMLV2uy1tmpe"
      },
      "execution_count": 8,
      "outputs": []
    },
    {
      "cell_type": "markdown",
      "source": [
        "**Decoding reviews back to text**"
      ],
      "metadata": {
        "id": "6xrmGZDsPfUr"
      }
    },
    {
      "cell_type": "code",
      "source": [
        "word_index = imdb.get_word_index()\n",
        "reverse_word_index = dict(\n",
        "    [(value, key) for (key, value) in word_index.items()])\n",
        "decoded_review = \" \".join(\n",
        "    [reverse_word_index.get(i - 3, \"?\") for i in train_data[0]])\n",
        "\n",
        "decoded_review"
      ],
      "metadata": {
        "colab": {
          "base_uri": "https://localhost:8080/",
          "height": 122
        },
        "id": "muyre50UtroS",
        "outputId": "c8e22a34-ab79-46cf-d5fb-75bc612c92ee"
      },
      "execution_count": 9,
      "outputs": [
        {
          "output_type": "execute_result",
          "data": {
            "text/plain": [
              "\"? this film was just brilliant casting location scenery story direction everyone's really suited the part they played and you could just imagine being there robert ? is an amazing actor and now the same being director ? father came from the same scottish island as myself so i loved the fact there was a real connection with this film the witty remarks throughout the film were great it was just brilliant so much that i bought the film as soon as it was released for ? and would recommend it to everyone to watch and the fly fishing was amazing really cried at the end it was so sad and you know what they say if you cry at a film it must have been good and this definitely was also ? to the two little boy's that played the ? of norman and paul they were just brilliant children are often left out of the ? list i think because the stars that play them all grown up are such a big profile for the whole film but these children are amazing and should be praised for what they have done don't you think the whole story was so lovely because it was true and was someone's life after all that was shared with us all\""
            ],
            "application/vnd.google.colaboratory.intrinsic+json": {
              "type": "string"
            }
          },
          "metadata": {},
          "execution_count": 9
        }
      ]
    },
    {
      "cell_type": "code",
      "source": [
        "#Decode train set\n",
        "N=len(train_data)\n",
        "decoded_reviews = [\"\" for x in range(N)]\n",
        "\n",
        "for j in range(N):\n",
        "  decoded_reviews[j] = \" \".join(\n",
        "    [reverse_word_index.get(i - 3, \"?\") for i in train_data[j]])\n"
      ],
      "metadata": {
        "id": "1Mo-oPtJPj6r"
      },
      "execution_count": 10,
      "outputs": []
    },
    {
      "cell_type": "code",
      "source": [
        "#Decode test set\n",
        "N=len(test_data)\n",
        "decoded_reviews_test = [\"\" for x in range(N)]\n",
        "\n",
        "for j in range(N):\n",
        "  decoded_reviews_test[j] = \" \".join(\n",
        "    [reverse_word_index.get(i - 3, \"?\") for i in test_data[j]])"
      ],
      "metadata": {
        "id": "9cx21vqY19aG"
      },
      "execution_count": 11,
      "outputs": []
    },
    {
      "cell_type": "code",
      "source": [
        "re.findall(\"robert\", decoded_review)"
      ],
      "metadata": {
        "id": "DAp3KFrlPt-8",
        "colab": {
          "base_uri": "https://localhost:8080/"
        },
        "outputId": "973b60e5-79c2-4897-9920-ded2d1715467"
      },
      "execution_count": 12,
      "outputs": [
        {
          "output_type": "execute_result",
          "data": {
            "text/plain": [
              "['robert']"
            ]
          },
          "metadata": {},
          "execution_count": 12
        }
      ]
    },
    {
      "cell_type": "markdown",
      "source": [
        "### Tasks\n",
        "\n",
        "Build a classifier on the train data in at least five different ways:\n",
        "\n",
        "1. using sentiment analysis\n",
        "2. using term frequencies in at least **4** different flavors.\n",
        "\n",
        "The data set in 2. is VERY high-dimensional so please choose a classifier that can deal with feature selection."
      ],
      "metadata": {
        "id": "aahZJsZnisW8"
      }
    },
    {
      "cell_type": "markdown",
      "source": [
        "#### 1. Sentiment analysis"
      ],
      "metadata": {
        "id": "nOZuvR2p3ovw"
      }
    },
    {
      "cell_type": "code",
      "source": [
        "#Load affin sentiment dictonary\n",
        "affin = pd.read_csv(\"/content/drive/MyDrive/Colab_Notebooks/02_HWR/00_data/SentimentDictionaries/afinn.csv\", index_col=0)\n",
        "affin.head()"
      ],
      "metadata": {
        "colab": {
          "base_uri": "https://localhost:8080/",
          "height": 206
        },
        "id": "bmiE0P7L0IGk",
        "outputId": "861f0909-9018-447d-e008-e575db8499cb"
      },
      "execution_count": 13,
      "outputs": [
        {
          "output_type": "execute_result",
          "data": {
            "text/plain": [
              "        word  value\n",
              "1    abandon     -2\n",
              "2  abandoned     -2\n",
              "3   abandons     -2\n",
              "4   abducted     -2\n",
              "5  abduction     -2"
            ],
            "text/html": [
              "\n",
              "  <div id=\"df-6657a9a0-5d65-454d-ab6f-d30e060902b2\">\n",
              "    <div class=\"colab-df-container\">\n",
              "      <div>\n",
              "<style scoped>\n",
              "    .dataframe tbody tr th:only-of-type {\n",
              "        vertical-align: middle;\n",
              "    }\n",
              "\n",
              "    .dataframe tbody tr th {\n",
              "        vertical-align: top;\n",
              "    }\n",
              "\n",
              "    .dataframe thead th {\n",
              "        text-align: right;\n",
              "    }\n",
              "</style>\n",
              "<table border=\"1\" class=\"dataframe\">\n",
              "  <thead>\n",
              "    <tr style=\"text-align: right;\">\n",
              "      <th></th>\n",
              "      <th>word</th>\n",
              "      <th>value</th>\n",
              "    </tr>\n",
              "  </thead>\n",
              "  <tbody>\n",
              "    <tr>\n",
              "      <th>1</th>\n",
              "      <td>abandon</td>\n",
              "      <td>-2</td>\n",
              "    </tr>\n",
              "    <tr>\n",
              "      <th>2</th>\n",
              "      <td>abandoned</td>\n",
              "      <td>-2</td>\n",
              "    </tr>\n",
              "    <tr>\n",
              "      <th>3</th>\n",
              "      <td>abandons</td>\n",
              "      <td>-2</td>\n",
              "    </tr>\n",
              "    <tr>\n",
              "      <th>4</th>\n",
              "      <td>abducted</td>\n",
              "      <td>-2</td>\n",
              "    </tr>\n",
              "    <tr>\n",
              "      <th>5</th>\n",
              "      <td>abduction</td>\n",
              "      <td>-2</td>\n",
              "    </tr>\n",
              "  </tbody>\n",
              "</table>\n",
              "</div>\n",
              "      <button class=\"colab-df-convert\" onclick=\"convertToInteractive('df-6657a9a0-5d65-454d-ab6f-d30e060902b2')\"\n",
              "              title=\"Convert this dataframe to an interactive table.\"\n",
              "              style=\"display:none;\">\n",
              "        \n",
              "  <svg xmlns=\"http://www.w3.org/2000/svg\" height=\"24px\"viewBox=\"0 0 24 24\"\n",
              "       width=\"24px\">\n",
              "    <path d=\"M0 0h24v24H0V0z\" fill=\"none\"/>\n",
              "    <path d=\"M18.56 5.44l.94 2.06.94-2.06 2.06-.94-2.06-.94-.94-2.06-.94 2.06-2.06.94zm-11 1L8.5 8.5l.94-2.06 2.06-.94-2.06-.94L8.5 2.5l-.94 2.06-2.06.94zm10 10l.94 2.06.94-2.06 2.06-.94-2.06-.94-.94-2.06-.94 2.06-2.06.94z\"/><path d=\"M17.41 7.96l-1.37-1.37c-.4-.4-.92-.59-1.43-.59-.52 0-1.04.2-1.43.59L10.3 9.45l-7.72 7.72c-.78.78-.78 2.05 0 2.83L4 21.41c.39.39.9.59 1.41.59.51 0 1.02-.2 1.41-.59l7.78-7.78 2.81-2.81c.8-.78.8-2.07 0-2.86zM5.41 20L4 18.59l7.72-7.72 1.47 1.35L5.41 20z\"/>\n",
              "  </svg>\n",
              "      </button>\n",
              "      \n",
              "  <style>\n",
              "    .colab-df-container {\n",
              "      display:flex;\n",
              "      flex-wrap:wrap;\n",
              "      gap: 12px;\n",
              "    }\n",
              "\n",
              "    .colab-df-convert {\n",
              "      background-color: #E8F0FE;\n",
              "      border: none;\n",
              "      border-radius: 50%;\n",
              "      cursor: pointer;\n",
              "      display: none;\n",
              "      fill: #1967D2;\n",
              "      height: 32px;\n",
              "      padding: 0 0 0 0;\n",
              "      width: 32px;\n",
              "    }\n",
              "\n",
              "    .colab-df-convert:hover {\n",
              "      background-color: #E2EBFA;\n",
              "      box-shadow: 0px 1px 2px rgba(60, 64, 67, 0.3), 0px 1px 3px 1px rgba(60, 64, 67, 0.15);\n",
              "      fill: #174EA6;\n",
              "    }\n",
              "\n",
              "    [theme=dark] .colab-df-convert {\n",
              "      background-color: #3B4455;\n",
              "      fill: #D2E3FC;\n",
              "    }\n",
              "\n",
              "    [theme=dark] .colab-df-convert:hover {\n",
              "      background-color: #434B5C;\n",
              "      box-shadow: 0px 1px 3px 1px rgba(0, 0, 0, 0.15);\n",
              "      filter: drop-shadow(0px 1px 2px rgba(0, 0, 0, 0.3));\n",
              "      fill: #FFFFFF;\n",
              "    }\n",
              "  </style>\n",
              "\n",
              "      <script>\n",
              "        const buttonEl =\n",
              "          document.querySelector('#df-6657a9a0-5d65-454d-ab6f-d30e060902b2 button.colab-df-convert');\n",
              "        buttonEl.style.display =\n",
              "          google.colab.kernel.accessAllowed ? 'block' : 'none';\n",
              "\n",
              "        async function convertToInteractive(key) {\n",
              "          const element = document.querySelector('#df-6657a9a0-5d65-454d-ab6f-d30e060902b2');\n",
              "          const dataTable =\n",
              "            await google.colab.kernel.invokeFunction('convertToInteractive',\n",
              "                                                     [key], {});\n",
              "          if (!dataTable) return;\n",
              "\n",
              "          const docLinkHtml = 'Like what you see? Visit the ' +\n",
              "            '<a target=\"_blank\" href=https://colab.research.google.com/notebooks/data_table.ipynb>data table notebook</a>'\n",
              "            + ' to learn more about interactive tables.';\n",
              "          element.innerHTML = '';\n",
              "          dataTable['output_type'] = 'display_data';\n",
              "          await google.colab.output.renderOutput(dataTable, element);\n",
              "          const docLink = document.createElement('div');\n",
              "          docLink.innerHTML = docLinkHtml;\n",
              "          element.appendChild(docLink);\n",
              "        }\n",
              "      </script>\n",
              "    </div>\n",
              "  </div>\n",
              "  "
            ]
          },
          "metadata": {},
          "execution_count": 13
        }
      ]
    },
    {
      "cell_type": "code",
      "source": [
        "# function to create term frequencie matrix\n",
        "def tf(txt):\n",
        "  \"\"\"returns term frequency matrix as df\"\"\"\n",
        "  words, cts = np.unique(txt.split(), return_counts=True)\n",
        "  i = np.argsort(cts)\n",
        "  df = pd.DataFrame(np.transpose([words[i[::-1]], cts[i[::-1]]]), columns=[\"word\", \"frequency\"])\n",
        "  df[\"frequency\"] = df.frequency.astype(\"int\")\n",
        "  return df"
      ],
      "metadata": {
        "id": "Ffee3W5-0IZ4"
      },
      "execution_count": 14,
      "outputs": []
    },
    {
      "cell_type": "code",
      "source": [
        "# Calculate mean sentiment value per review\n",
        "sent_reviews_train = []\n",
        "\n",
        "for review in decoded_reviews:\n",
        "\n",
        "  # create frequency matrix\n",
        "  matrix = tf(review)\n",
        "\n",
        "  #merge with affin dictonary\n",
        "  sent_aff = pd.merge(matrix, affin, left_on=\"word\", right_on=\"word\")\n",
        "\n",
        "  #calculate sentiment value based on no of occurences\n",
        "  sent_aff[\"total_sentiment\"] = sent_aff[\"frequency\"]*sent_aff[\"value\"]\n",
        "  sent_reviews_train.append(sent_aff.total_sentiment.mean())"
      ],
      "metadata": {
        "id": "oamHdGZX3Eq2"
      },
      "execution_count": 15,
      "outputs": []
    },
    {
      "cell_type": "code",
      "source": [
        "# Calculate mean sentiment value per review\n",
        "sent_reviews_test = []\n",
        "\n",
        "for review in decoded_reviews_test:\n",
        "\n",
        "  # create frequency matrix\n",
        "  matrix = tf(review)\n",
        "\n",
        "  #merge with affin dictonary\n",
        "  sent_aff = pd.merge(matrix, affin, left_on=\"word\", right_on=\"word\")\n",
        "\n",
        "  #calculate sentiment value based on no of occurences\n",
        "  sent_aff[\"total_sentiment\"] = sent_aff[\"frequency\"]*sent_aff[\"value\"]\n",
        "  sent_reviews_test.append(sent_aff.total_sentiment.mean())"
      ],
      "metadata": {
        "id": "Q_Rpk9On9Da4"
      },
      "execution_count": 16,
      "outputs": []
    },
    {
      "cell_type": "code",
      "source": [
        "train_df = pd.DataFrame(data={\"review\": np.array(decoded_reviews).T, \"label\":np.array(train_labels).T, \"ovr_sentiment\":np.array(sent_reviews_train).T}).fillna(0)\n",
        "train_df.head()\n",
        "\n",
        "test_df = pd.DataFrame(data={\"review\": np.array(decoded_reviews_test).T, \"label\":np.array(test_labels).T, \"ovr_sentiment\":np.array(sent_reviews_test).T}).fillna(0)\n",
        "test_df.head()"
      ],
      "metadata": {
        "id": "1YXprhXv3K6G",
        "outputId": "e3c964c0-1544-44a5-ad86-b29940c0340a",
        "colab": {
          "base_uri": "https://localhost:8080/",
          "height": 206
        }
      },
      "execution_count": 17,
      "outputs": [
        {
          "output_type": "execute_result",
          "data": {
            "text/plain": [
              "                                              review  label  ovr_sentiment\n",
              "0  ? please give this one a miss br br ? ? and th...      0      -2.000000\n",
              "1  ? this film requires a lot of patience because...      1       0.842105\n",
              "2  ? many animation buffs consider ? ? the great ...      1       0.741935\n",
              "3  ? i generally love this type of movie however ...      0      -0.800000\n",
              "4  ? like some other people wrote i'm a die hard ...      1       1.384615"
            ],
            "text/html": [
              "\n",
              "  <div id=\"df-03f514d1-5ccd-48d9-9b70-383132ad9a33\">\n",
              "    <div class=\"colab-df-container\">\n",
              "      <div>\n",
              "<style scoped>\n",
              "    .dataframe tbody tr th:only-of-type {\n",
              "        vertical-align: middle;\n",
              "    }\n",
              "\n",
              "    .dataframe tbody tr th {\n",
              "        vertical-align: top;\n",
              "    }\n",
              "\n",
              "    .dataframe thead th {\n",
              "        text-align: right;\n",
              "    }\n",
              "</style>\n",
              "<table border=\"1\" class=\"dataframe\">\n",
              "  <thead>\n",
              "    <tr style=\"text-align: right;\">\n",
              "      <th></th>\n",
              "      <th>review</th>\n",
              "      <th>label</th>\n",
              "      <th>ovr_sentiment</th>\n",
              "    </tr>\n",
              "  </thead>\n",
              "  <tbody>\n",
              "    <tr>\n",
              "      <th>0</th>\n",
              "      <td>? please give this one a miss br br ? ? and th...</td>\n",
              "      <td>0</td>\n",
              "      <td>-2.000000</td>\n",
              "    </tr>\n",
              "    <tr>\n",
              "      <th>1</th>\n",
              "      <td>? this film requires a lot of patience because...</td>\n",
              "      <td>1</td>\n",
              "      <td>0.842105</td>\n",
              "    </tr>\n",
              "    <tr>\n",
              "      <th>2</th>\n",
              "      <td>? many animation buffs consider ? ? the great ...</td>\n",
              "      <td>1</td>\n",
              "      <td>0.741935</td>\n",
              "    </tr>\n",
              "    <tr>\n",
              "      <th>3</th>\n",
              "      <td>? i generally love this type of movie however ...</td>\n",
              "      <td>0</td>\n",
              "      <td>-0.800000</td>\n",
              "    </tr>\n",
              "    <tr>\n",
              "      <th>4</th>\n",
              "      <td>? like some other people wrote i'm a die hard ...</td>\n",
              "      <td>1</td>\n",
              "      <td>1.384615</td>\n",
              "    </tr>\n",
              "  </tbody>\n",
              "</table>\n",
              "</div>\n",
              "      <button class=\"colab-df-convert\" onclick=\"convertToInteractive('df-03f514d1-5ccd-48d9-9b70-383132ad9a33')\"\n",
              "              title=\"Convert this dataframe to an interactive table.\"\n",
              "              style=\"display:none;\">\n",
              "        \n",
              "  <svg xmlns=\"http://www.w3.org/2000/svg\" height=\"24px\"viewBox=\"0 0 24 24\"\n",
              "       width=\"24px\">\n",
              "    <path d=\"M0 0h24v24H0V0z\" fill=\"none\"/>\n",
              "    <path d=\"M18.56 5.44l.94 2.06.94-2.06 2.06-.94-2.06-.94-.94-2.06-.94 2.06-2.06.94zm-11 1L8.5 8.5l.94-2.06 2.06-.94-2.06-.94L8.5 2.5l-.94 2.06-2.06.94zm10 10l.94 2.06.94-2.06 2.06-.94-2.06-.94-.94-2.06-.94 2.06-2.06.94z\"/><path d=\"M17.41 7.96l-1.37-1.37c-.4-.4-.92-.59-1.43-.59-.52 0-1.04.2-1.43.59L10.3 9.45l-7.72 7.72c-.78.78-.78 2.05 0 2.83L4 21.41c.39.39.9.59 1.41.59.51 0 1.02-.2 1.41-.59l7.78-7.78 2.81-2.81c.8-.78.8-2.07 0-2.86zM5.41 20L4 18.59l7.72-7.72 1.47 1.35L5.41 20z\"/>\n",
              "  </svg>\n",
              "      </button>\n",
              "      \n",
              "  <style>\n",
              "    .colab-df-container {\n",
              "      display:flex;\n",
              "      flex-wrap:wrap;\n",
              "      gap: 12px;\n",
              "    }\n",
              "\n",
              "    .colab-df-convert {\n",
              "      background-color: #E8F0FE;\n",
              "      border: none;\n",
              "      border-radius: 50%;\n",
              "      cursor: pointer;\n",
              "      display: none;\n",
              "      fill: #1967D2;\n",
              "      height: 32px;\n",
              "      padding: 0 0 0 0;\n",
              "      width: 32px;\n",
              "    }\n",
              "\n",
              "    .colab-df-convert:hover {\n",
              "      background-color: #E2EBFA;\n",
              "      box-shadow: 0px 1px 2px rgba(60, 64, 67, 0.3), 0px 1px 3px 1px rgba(60, 64, 67, 0.15);\n",
              "      fill: #174EA6;\n",
              "    }\n",
              "\n",
              "    [theme=dark] .colab-df-convert {\n",
              "      background-color: #3B4455;\n",
              "      fill: #D2E3FC;\n",
              "    }\n",
              "\n",
              "    [theme=dark] .colab-df-convert:hover {\n",
              "      background-color: #434B5C;\n",
              "      box-shadow: 0px 1px 3px 1px rgba(0, 0, 0, 0.15);\n",
              "      filter: drop-shadow(0px 1px 2px rgba(0, 0, 0, 0.3));\n",
              "      fill: #FFFFFF;\n",
              "    }\n",
              "  </style>\n",
              "\n",
              "      <script>\n",
              "        const buttonEl =\n",
              "          document.querySelector('#df-03f514d1-5ccd-48d9-9b70-383132ad9a33 button.colab-df-convert');\n",
              "        buttonEl.style.display =\n",
              "          google.colab.kernel.accessAllowed ? 'block' : 'none';\n",
              "\n",
              "        async function convertToInteractive(key) {\n",
              "          const element = document.querySelector('#df-03f514d1-5ccd-48d9-9b70-383132ad9a33');\n",
              "          const dataTable =\n",
              "            await google.colab.kernel.invokeFunction('convertToInteractive',\n",
              "                                                     [key], {});\n",
              "          if (!dataTable) return;\n",
              "\n",
              "          const docLinkHtml = 'Like what you see? Visit the ' +\n",
              "            '<a target=\"_blank\" href=https://colab.research.google.com/notebooks/data_table.ipynb>data table notebook</a>'\n",
              "            + ' to learn more about interactive tables.';\n",
              "          element.innerHTML = '';\n",
              "          dataTable['output_type'] = 'display_data';\n",
              "          await google.colab.output.renderOutput(dataTable, element);\n",
              "          const docLink = document.createElement('div');\n",
              "          docLink.innerHTML = docLinkHtml;\n",
              "          element.appendChild(docLink);\n",
              "        }\n",
              "      </script>\n",
              "    </div>\n",
              "  </div>\n",
              "  "
            ]
          },
          "metadata": {},
          "execution_count": 17
        }
      ]
    },
    {
      "cell_type": "code",
      "source": [
        "train_df.groupby(\"label\").boxplot(\"ovr_sentiment\")"
      ],
      "metadata": {
        "id": "Q9Zppg3y-paZ",
        "outputId": "ea6e1919-891c-4317-8f6f-43be1d7eef68",
        "colab": {
          "base_uri": "https://localhost:8080/",
          "height": 283
        }
      },
      "execution_count": 18,
      "outputs": [
        {
          "output_type": "execute_result",
          "data": {
            "text/plain": [
              "<matplotlib.axes._subplots.AxesSubplot at 0x7fb576b4fe50>"
            ]
          },
          "metadata": {},
          "execution_count": 18
        },
        {
          "output_type": "display_data",
          "data": {
            "text/plain": [
              "<Figure size 432x288 with 1 Axes>"
            ],
            "image/png": "[encoded data removed]"
          },
          "metadata": {
            "needs_background": "light"
          }
        }
      ]
    },
    {
      "cell_type": "code",
      "source": [
        "# train linear model\n",
        "from sklearn.linear_model import LogisticRegression\n",
        "\n",
        "y_train = train_df[\"label\"]\n",
        "X_train = train_df[[\"ovr_sentiment\"]]\n",
        "\n",
        "y_test = test_df[\"label\"]\n",
        "X_test = test_df[[\"ovr_sentiment\"]]\n",
        "\n",
        "\n",
        "lin_reg = LogisticRegression()\n",
        "lin_reg.fit(X_train, y_train)"
      ],
      "metadata": {
        "id": "g8eely6P0Ii_",
        "outputId": "e5616196-cece-490e-d618-af7817c00b9f",
        "colab": {
          "base_uri": "https://localhost:8080/"
        }
      },
      "execution_count": 19,
      "outputs": [
        {
          "output_type": "execute_result",
          "data": {
            "text/plain": [
              "LogisticRegression()"
            ]
          },
          "metadata": {},
          "execution_count": 19
        }
      ]
    },
    {
      "cell_type": "code",
      "source": [
        "baseline_score = lin_reg.score(X_test, y_test) #accuracy\n",
        "baseline_score"
      ],
      "metadata": {
        "id": "lV5mWgnx0I8K",
        "outputId": "6f1d56e3-cf92-4c50-a532-8b034df382e7",
        "colab": {
          "base_uri": "https://localhost:8080/"
        }
      },
      "execution_count": 20,
      "outputs": [
        {
          "output_type": "execute_result",
          "data": {
            "text/plain": [
              "0.728"
            ]
          },
          "metadata": {},
          "execution_count": 20
        }
      ]
    },
    {
      "cell_type": "code",
      "source": [
        "from sklearn.metrics import confusion_matrix\n",
        "baseline_cm = confusion_matrix(y_test, lin_reg.predict(X_test))\n",
        "baseline_cm"
      ],
      "metadata": {
        "id": "H5rBesYTJc_E",
        "outputId": "18282714-ecd4-4e0a-d5d5-4405a0262d44",
        "colab": {
          "base_uri": "https://localhost:8080/"
        }
      },
      "execution_count": 21,
      "outputs": [
        {
          "output_type": "execute_result",
          "data": {
            "text/plain": [
              "array([[9211, 3289],\n",
              "       [3511, 8989]])"
            ]
          },
          "metadata": {},
          "execution_count": 21
        }
      ]
    },
    {
      "cell_type": "markdown",
      "source": [
        "### 2. Using term frequencies in at least 4 different flavors.\n",
        "- absolute freq. of each word in each review \n",
        "- relative tf matrix\n",
        "- one-hot\n",
        "- \"weighted\" tf -> \"IDF\""
      ],
      "metadata": {
        "id": "IbbGpJmM0JEs"
      }
    },
    {
      "cell_type": "markdown",
      "source": [
        "#### Absolute frequency"
      ],
      "metadata": {
        "id": "jevfTYwLAsIA"
      }
    },
    {
      "cell_type": "code",
      "source": [
        "train_abs = tf_sequences(train_data)\n",
        "test_abs = tf_sequences(test_data)"
      ],
      "metadata": {
        "id": "8Wpkw5KSGDIB"
      },
      "execution_count": 22,
      "outputs": []
    },
    {
      "cell_type": "code",
      "source": [
        "from sklearn.ensemble import RandomForestClassifier\n",
        "\n",
        "rf_abs = RandomForestClassifier()\n",
        "\n",
        "rf_abs.fit(train_abs, y_train)\n",
        "\n",
        "acc_abs = rf_abs.score(test_abs, y_test)\n",
        "print(acc_abs)\n",
        "\n",
        "abs_cm = confusion_matrix(y_test, rf_abs.predict(test_abs))\n",
        "print(abs_cm)\n"
      ],
      "metadata": {
        "id": "ZExT14hjF259",
        "outputId": "d86b59d0-3721-4560-958b-f049dac7d4f4",
        "colab": {
          "base_uri": "https://localhost:8080/"
        }
      },
      "execution_count": 23,
      "outputs": [
        {
          "output_type": "stream",
          "name": "stdout",
          "text": [
            "0.84836\n",
            "[[10632  1868]\n",
            " [ 1923 10577]]\n"
          ]
        }
      ]
    },
    {
      "cell_type": "markdown",
      "source": [
        "#### Relative frequency"
      ],
      "metadata": {
        "id": "-72w_XOwA0Gt"
      }
    },
    {
      "cell_type": "code",
      "source": [
        "len_train = np.array([len(review.split()) for review in decoded_reviews])\n",
        "len_test = np.array([len(review.split()) for review in decoded_reviews_test])"
      ],
      "metadata": {
        "id": "aIAyqe3cG-NV"
      },
      "execution_count": 24,
      "outputs": []
    },
    {
      "cell_type": "code",
      "source": [
        "# Divide each item in row by no. of words per review\n",
        "train_rel = train_abs/len_train[:,None]\n",
        "test_rel = test_abs/len_test[:,None]"
      ],
      "metadata": {
        "id": "RGP5M8WqAz42"
      },
      "execution_count": 25,
      "outputs": []
    },
    {
      "cell_type": "code",
      "source": [
        "rf_rel = RandomForestClassifier()\n",
        "\n",
        "rf_rel.fit(train_rel, y_train)\n",
        "\n",
        "acc_rel = rf_rel.score(test_rel, y_test)\n",
        "print(acc_rel)\n",
        "\n",
        "rel_cm = confusion_matrix(y_test, rf_rel.predict(test_rel))\n",
        "print(rel_cm)\n"
      ],
      "metadata": {
        "id": "ZCE1JeEqJKOU",
        "outputId": "0b3f6af3-521f-4e7f-8349-7e572f72bed8",
        "colab": {
          "base_uri": "https://localhost:8080/"
        }
      },
      "execution_count": 26,
      "outputs": [
        {
          "output_type": "stream",
          "name": "stdout",
          "text": [
            "0.84344\n",
            "[[10604  1896]\n",
            " [ 2018 10482]]\n"
          ]
        }
      ]
    },
    {
      "cell_type": "markdown",
      "source": [
        "#### One-hot encoded"
      ],
      "metadata": {
        "id": "vxXTHRo8Fj20"
      }
    },
    {
      "cell_type": "code",
      "source": [
        "train_OHE = vectorize_sequences(train_data)\n",
        "test_OHE = vectorize_sequences(test_data)"
      ],
      "metadata": {
        "id": "IfpvioQjA0Y8"
      },
      "execution_count": null,
      "outputs": []
    },
    {
      "cell_type": "code",
      "source": [
        "rf_OHE = RandomForestClassifier()\n",
        "\n",
        "rf_OHE.fit(train_OHE, y_train)\n",
        "\n",
        "acc_OHE = rf_OHE.score(test_OHE, y_test)\n",
        "print(acc_OHE)\n",
        "\n",
        "OHE_cm = confusion_matrix(y_test, rf_OHE.predict(test_OHE))\n",
        "print(OHE_cm)\n"
      ],
      "metadata": {
        "id": "YLWrCZM5A0P1"
      },
      "execution_count": null,
      "outputs": []
    },
    {
      "cell_type": "markdown",
      "source": [
        "#### \"Weighted\" total frequency = `IDF`"
      ],
      "metadata": {
        "id": "mQIllz0CGYWr"
      }
    },
    {
      "cell_type": "markdown",
      "source": [
        "![image.png](data:image/png;base64,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)"
      ],
      "metadata": {
        "id": "0SipdCV6UoVE"
      }
    },
    {
      "cell_type": "code",
      "source": [
        "train_idf = train_abs*np.log(train_abs.shape[0]/np.count_nonzero(train_abs, axis=0))\n",
        "test_idf = test_abs*np.log(test_abs.shape[0]/np.count_nonzero(test_abs, axis=0))"
      ],
      "metadata": {
        "id": "mmYnHIybVLl2"
      },
      "execution_count": null,
      "outputs": []
    },
    {
      "cell_type": "code",
      "source": [
        "rf_idf = RandomForestClassifier()\n",
        "\n",
        "rf_idf.fit(train_idf, y_train)\n",
        "\n",
        "acc_idf = rf_idf.score(train_idf, y_test)\n",
        "print(acc_idf)\n",
        "\n",
        "idf_cm = confusion_matrix(y_test, rf_idf.predict(test_idf))\n",
        "print(idf_cm)\n"
      ],
      "metadata": {
        "id": "koJAWbPxFjin"
      },
      "execution_count": null,
      "outputs": []
    },
    {
      "cell_type": "markdown",
      "source": [
        "## Two-grams task in class"
      ],
      "metadata": {
        "id": "H8VUnYkTUMGB"
      }
    },
    {
      "cell_type": "code",
      "source": [
        "from sklearn.feature_extraction.text import TfidfVectorizer, CountVectorizer\n",
        "\n",
        "bi_gram = CountVectorizer(ngram_range = (2,2))\n",
        "\n",
        "X_2g = bi_gram.fit_transform(decoded_reviews)"
      ],
      "metadata": {
        "id": "XpSxw8VwULvu"
      },
      "execution_count": null,
      "outputs": []
    },
    {
      "cell_type": "code",
      "source": [
        "bigram_col=bi_gram.get_feature_names()"
      ],
      "metadata": {
        "id": "Tv31NBf3WbnO"
      },
      "execution_count": null,
      "outputs": []
    },
    {
      "cell_type": "code",
      "source": [
        "bigram_nots = []\n",
        "for i in bigram_col:\n",
        "  if str.lower(i[:4])==\"not \":\n",
        "    bigram_nots.append(i)"
      ],
      "metadata": {
        "id": "Po_QmmomXw1Z"
      },
      "execution_count": null,
      "outputs": []
    },
    {
      "cell_type": "code",
      "source": [
        "print(len(bigram_nots))\n",
        "bigram_nots[:5]"
      ],
      "metadata": {
        "id": "r79p-zBpYbpk"
      },
      "execution_count": null,
      "outputs": []
    },
    {
      "cell_type": "markdown",
      "source": [
        "## 20-Newsgroups "
      ],
      "metadata": {
        "id": "ZJQNWqzltfPF"
      }
    },
    {
      "cell_type": "markdown",
      "metadata": {
        "id": "cZPVKf76JJf5"
      },
      "source": [
        "In this exercise, we will be using the 20-Newsgroups dataset. This version of the dataset contains about 11k newsgroups posts from 20 different topics."
      ]
    },
    {
      "cell_type": "markdown",
      "source": [
        ""
      ],
      "metadata": {
        "id": "y2vYL0x6tURi"
      }
    },
    {
      "cell_type": "code",
      "execution_count": null,
      "metadata": {
        "id": "8pt8XPwpJJf6"
      },
      "outputs": [],
      "source": [
        "# Import packages\n",
        "import pandas as pd\n",
        "import re\n",
        "from gensim.parsing.preprocessing import STOPWORDS, strip_tags, strip_numeric, strip_punctuation, strip_multiple_whitespaces, remove_stopwords, strip_short, stem_text\n",
        "import pickle\n",
        "import en_core_web_sm\n",
        "import nltk\n",
        "nltk.download('stopwords')"
      ]
    },
    {
      "cell_type": "code",
      "execution_count": null,
      "metadata": {
        "id": "iqbibgI_Apwb"
      },
      "outputs": [],
      "source": [
        "from nltk.corpus import stopwords"
      ]
    },
    {
      "cell_type": "markdown",
      "metadata": {
        "id": "5NRuxwx9JJf8"
      },
      "source": [
        "# 1. Import and examine data"
      ]
    },
    {
      "cell_type": "code",
      "execution_count": null,
      "metadata": {
        "id": "p34gaa_tJJf8"
      },
      "outputs": [],
      "source": [
        "# Import dataset\n",
        "df = pd.read_json('https://raw.githubusercontent.com/selva86/datasets/master/newsgroups.json')\n",
        "df.head()"
      ]
    },
    {
      "cell_type": "code",
      "execution_count": null,
      "metadata": {
        "id": "zSKKAbCIJJf8"
      },
      "outputs": [],
      "source": [
        "# Examine dataset\n",
        "print('Possible tagret values:')\n",
        "print(df.target_names.unique())\n",
        "print(' ')\n",
        "print('Class distribution:')\n",
        "print(df.target_names.value_counts())"
      ]
    },
    {
      "cell_type": "markdown",
      "source": [
        "*The classes are almost uniformly distributed.*"
      ],
      "metadata": {
        "id": "Jj_tNUJnvI9D"
      }
    },
    {
      "cell_type": "markdown",
      "metadata": {
        "id": "gCGteqesJJf9"
      },
      "source": [
        "\n",
        "## NLP in spacy\n"
      ]
    },
    {
      "cell_type": "code",
      "source": [
        "import spacy\n",
        "nlp = spacy.load('en')"
      ],
      "metadata": {
        "id": "xgo8-H37hrmS"
      },
      "execution_count": null,
      "outputs": []
    },
    {
      "cell_type": "code",
      "source": [
        "doc = nlp(u\"Apples and oranges are similar. Boots and hippos aren't.\")\n",
        "\n",
        "for token in doc:\n",
        "    print(token,  token.lemma_)"
      ],
      "metadata": {
        "id": "ZT0C-uI0h50V"
      },
      "execution_count": null,
      "outputs": []
    }
  ],
  "metadata": {
    "colab": {
      "name": "Class2.ipynb",
      "provenance": [],
      "collapsed_sections": [],
      "include_colab_link": true
    },
    "kernelspec": {
      "display_name": "Python 3",
      "language": "python",
      "name": "python3"
    },
    "language_info": {
      "codemirror_mode": {
        "name": "ipython",
        "version": 3
      },
      "file_extension": ".py",
      "mimetype": "text/x-python",
      "name": "python",
      "nbconvert_exporter": "python",
      "pygments_lexer": "ipython3",
      "version": "3.8.3"
    }
  },
  "nbformat": 4,
  "nbformat_minor": 0
}