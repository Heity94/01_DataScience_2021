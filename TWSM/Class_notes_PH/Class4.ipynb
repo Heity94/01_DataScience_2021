{
  "cells": [
    {
      "cell_type": "markdown",
      "metadata": {
        "id": "view-in-github",
        "colab_type": "text"
      },
      "source": [
        "<a href=\"https://colab.research.google.com/github/Heity94/01_DataScience_2021/blob/main/TWSM/Class_notes_PH/Class4.ipynb\" target=\"_parent\"><img src=\"https://colab.research.google.com/assets/colab-badge.svg\" alt=\"Open In Colab\"/></a>"
      ]
    },
    {
      "cell_type": "markdown",
      "source": [
        "### Libraries"
      ],
      "metadata": {
        "id": "L0HoGesYBC1E"
      }
    },
    {
      "cell_type": "code",
      "source": [
        "#from google.colab import drive\n",
        "#drive.mount('/content/drive')\n",
        "#TWSM_path = \"/content/drive/MyDrive/teaching/TWSM/WorkInClass/\"\n",
        "\n",
        "#from TWSM import *\n",
        "from tensorflow import keras\n",
        "#from tensorflow.keras import layers\n"
      ],
      "metadata": {
        "id": "4k1Km8WrvyWM"
      },
      "execution_count": 1,
      "outputs": []
    },
    {
      "cell_type": "code",
      "execution_count": 2,
      "metadata": {
        "colab": {
          "base_uri": "https://localhost:8080/"
        },
        "id": "9AczlUWfwpd6",
        "outputId": "b96ae406-80bd-4333-add4-6cf84804c9c7"
      },
      "outputs": [
        {
          "output_type": "stream",
          "name": "stdout",
          "text": [
            "Mounted at /content/drive\n"
          ]
        }
      ],
      "source": [
        "from google.colab import drive\n",
        "drive.mount('/content/drive')"
      ]
    },
    {
      "cell_type": "markdown",
      "source": [
        "## SVD\n"
      ],
      "metadata": {
        "id": "36qQQ1GgBc5b"
      }
    },
    {
      "cell_type": "markdown",
      "source": [
        "###**Minimal Example for the SVD**\n",
        "\n",
        "Running this example first prints the defined 3×2 matrix, then the 3×3 U matrix, 2 element Sigma vector, and 2×2 V^T matrix elements calculated from the decomposition."
      ],
      "metadata": {
        "id": "_Xp-PjqRB1x9"
      }
    },
    {
      "cell_type": "code",
      "source": [
        "# Singular-value decomposition\n",
        "import numpy as np\n",
        "from scipy.linalg import svd\n",
        "\n",
        "# define a matrix\n",
        "A = np.array([[1, 2], [3, 4], [5, 6]])\n",
        "print(A)\n",
        "\n",
        "# SVD\n",
        "U, s, VT = svd(A)\n",
        "print(U)\n",
        "print(s)\n",
        "print(VT)"
      ],
      "metadata": {
        "colab": {
          "base_uri": "https://localhost:8080/"
        },
        "id": "SE2u01F8BvuS",
        "outputId": "a2304e4d-bb10-45cd-a6fe-a29557a1fb89"
      },
      "execution_count": 3,
      "outputs": [
        {
          "output_type": "stream",
          "name": "stdout",
          "text": [
            "[[1 2]\n",
            " [3 4]\n",
            " [5 6]]\n",
            "[[-0.2298477   0.88346102  0.40824829]\n",
            " [-0.52474482  0.24078249 -0.81649658]\n",
            " [-0.81964194 -0.40189603  0.40824829]]\n",
            "[9.52551809 0.51430058]\n",
            "[[-0.61962948 -0.78489445]\n",
            " [-0.78489445  0.61962948]]\n"
          ]
        }
      ]
    },
    {
      "cell_type": "markdown",
      "source": [
        "**Reconstruct Matrix from SVD**\n",
        "\n",
        "The U, s, and V elements returned from the svd() cannot be multiplied directly.\n",
        "\n",
        "The s vector must be converted into a diagonal matrix using the diag() function. By default, this function will create a square matrix that is n x n, relative to our original matrix. This causes a problem as the size of the matrices do not fit the rules of matrix multiplication, where the number of columns in a matrix must match the number of rows in the subsequent matrix.\n",
        "\n",
        "After creating the square Sigma diagonal matrix, the sizes of the matrices are relative to the original m x n matrix that we are decomposing, as follows:\n",
        "\n",
        "$U (m x m) . Sigma (n x n) . V^T (n x n)$\n",
        "\n",
        "Where, in fact, we require:\n",
        "\n",
        "$U (m x m) . Sigma (m x n) . V^T (n x n)$\n",
        "\n",
        "We can achieve this by creating a new Sigma matrix of all zero values that is m x n (e.g. more rows) and populate the first n x n part of the matrix with the square diagonal matrix calculated via diag().\n",
        "\n"
      ],
      "metadata": {
        "id": "XLLfaHjrCMtY"
      }
    },
    {
      "cell_type": "code",
      "source": [
        "# Reconstruct SVD\n",
        "\n",
        "# create m x n Sigma matrix\n",
        "Sigma = np.zeros((A.shape[0], A.shape[1]))\n",
        "# populate Sigma with n x n diagonal matrix\n",
        "Sigma[:A.shape[1], :A.shape[1]] = np.diag(s)\n",
        "# reconstruct matrix\n",
        "B = U.dot(Sigma.dot(VT))\n",
        "print(B)"
      ],
      "metadata": {
        "colab": {
          "base_uri": "https://localhost:8080/"
        },
        "id": "dwy_PbDsCNaP",
        "outputId": "453fa696-8da4-4d46-efac-b0db17fcf3dd"
      },
      "execution_count": 4,
      "outputs": [
        {
          "output_type": "stream",
          "name": "stdout",
          "text": [
            "[[1. 2.]\n",
            " [3. 4.]\n",
            " [5. 6.]]\n"
          ]
        }
      ]
    },
    {
      "cell_type": "markdown",
      "source": [
        "The above complication with the Sigma diagonal only exists with the case where m and n are not equal. The diagonal matrix can be used directly when reconstructing a square matrix, as follows.\n",
        "\n",
        "#### Truncated SVD\n",
        "\n",
        "Data with a large number of features, such as more features (columns) than observations (rows) may be reduced to a smaller subset of features that are most relevant to the prediction problem.\n",
        "\n",
        "The result is a matrix with a lower rank that is said to approximate the original matrix.\n",
        "\n",
        "To do this we can perform an SVD operation on the original data and select the top k largest singular values in Sigma. These columns can be selected from Sigma and the rows selected from $V^T$.\n",
        "\n",
        "An approximate B of the original vector A can then be reconstructed.\n",
        "\n",
        "$$B = U . Sigma_k . V^T_k$$\n",
        "\n",
        "In natural language processing, this approach can be used on matrices of word occurrences or word frequencies in documents and is called **Latent Semantic Analysis** or **Latent Semantic Indexing**.\n",
        "\n"
      ],
      "metadata": {
        "id": "ZqaXAMPVDmrL"
      }
    },
    {
      "cell_type": "markdown",
      "source": [
        "\n",
        "## Tasks\n",
        "\n",
        "1. Compute the SVD for our movie rankings and find the first two eigenvectors for movies and users.\n",
        "2. Compute the SVD for the MNIST data\n",
        "3. Reconstruct the digits with a \"truncated SVD that captures 80% of the variance\""
      ],
      "metadata": {
        "id": "Ul4lw5qaFB2v"
      }
    },
    {
      "cell_type": "markdown",
      "source": [
        "### SVD for our movie rankings"
      ],
      "metadata": {
        "id": "YhEZsOc7BVqY"
      }
    },
    {
      "cell_type": "code",
      "source": [
        "import pandas as pd\n",
        "mov = pd.read_csv(\"/content/drive/MyDrive/Colab_Notebooks/02_HWR/00_data/Movie_Rankings_BIPM.csv\")\n",
        "mov.head()"
      ],
      "metadata": {
        "id": "nw28ShTvHXTr",
        "outputId": "7f50c702-6ec4-4d02-893b-73e27c635ea7",
        "colab": {
          "base_uri": "https://localhost:8080/",
          "height": 404
        }
      },
      "execution_count": 12,
      "outputs": [
        {
          "output_type": "execute_result",
          "data": {
            "text/plain": [
              "           First Name     Last Name  Princess Diaries  Dumb Dumber  \\\n",
              "0               Jafar  Abdurrahmaan               3.0          2.0   \n",
              "1  Moritz Kai Phillip        Deecke               2.0          3.0   \n",
              "2               Huong         Duong               NaN          NaN   \n",
              "3               Felix          Eger               2.0          2.0   \n",
              "4              Johana       Estrada               NaN          NaN   \n",
              "\n",
              "   Color Purple  Brave Heart  Narnia  Sense/Sensibility  LiarLiar  \\\n",
              "0           4.0          2.0     2.0                3.0       3.0   \n",
              "1           4.0          2.0     3.0                3.0       NaN   \n",
              "2           NaN          NaN     NaN                NaN       NaN   \n",
              "3           3.0          3.0     3.0                2.0       2.0   \n",
              "4           NaN          NaN     NaN                NaN       NaN   \n",
              "\n",
              "   Django Unchained  ...  SE7EN  The Intern  John Wick  Crazy Rich Asians  \\\n",
              "0               4.0  ...    4.0         5.0        5.0                5.0   \n",
              "1               5.0  ...    5.0         2.0        2.0                1.0   \n",
              "2               NaN  ...    NaN         NaN        NaN                NaN   \n",
              "3               5.0  ...    5.0         3.0        4.0                2.0   \n",
              "4               NaN  ...    NaN         NaN        NaN                NaN   \n",
              "\n",
              "   Call me by your Name  Gone Girl  Prisoners  Nightcrawler  Gran Torino  \\\n",
              "0                   5.0        4.0        4.0           3.0          NaN   \n",
              "1                   4.0        3.0        4.0           5.0          4.0   \n",
              "2                   NaN        NaN        NaN           NaN          NaN   \n",
              "3                   2.0        4.0        3.0           4.0          3.0   \n",
              "4                   NaN        NaN        NaN           NaN          NaN   \n",
              "\n",
              "   Million Dollar Baby  \n",
              "0                  NaN  \n",
              "1                  5.0  \n",
              "2                  NaN  \n",
              "3                  3.0  \n",
              "4                  NaN  \n",
              "\n",
              "[5 rows x 22 columns]"
            ],
            "text/html": [
              "\n",
              "  <div id=\"df-8b95cc8f-ab2e-4845-9068-b6d7f021256c\">\n",
              "    <div class=\"colab-df-container\">\n",
              "      <div>\n",
              "<style scoped>\n",
              "    .dataframe tbody tr th:only-of-type {\n",
              "        vertical-align: middle;\n",
              "    }\n",
              "\n",
              "    .dataframe tbody tr th {\n",
              "        vertical-align: top;\n",
              "    }\n",
              "\n",
              "    .dataframe thead th {\n",
              "        text-align: right;\n",
              "    }\n",
              "</style>\n",
              "<table border=\"1\" class=\"dataframe\">\n",
              "  <thead>\n",
              "    <tr style=\"text-align: right;\">\n",
              "      <th></th>\n",
              "      <th>First Name</th>\n",
              "      <th>Last Name</th>\n",
              "      <th>Princess Diaries</th>\n",
              "      <th>Dumb Dumber</th>\n",
              "      <th>Color Purple</th>\n",
              "      <th>Brave Heart</th>\n",
              "      <th>Narnia</th>\n",
              "      <th>Sense/Sensibility</th>\n",
              "      <th>LiarLiar</th>\n",
              "      <th>Django Unchained</th>\n",
              "      <th>...</th>\n",
              "      <th>SE7EN</th>\n",
              "      <th>The Intern</th>\n",
              "      <th>John Wick</th>\n",
              "      <th>Crazy Rich Asians</th>\n",
              "      <th>Call me by your Name</th>\n",
              "      <th>Gone Girl</th>\n",
              "      <th>Prisoners</th>\n",
              "      <th>Nightcrawler</th>\n",
              "      <th>Gran Torino</th>\n",
              "      <th>Million Dollar Baby</th>\n",
              "    </tr>\n",
              "  </thead>\n",
              "  <tbody>\n",
              "    <tr>\n",
              "      <th>0</th>\n",
              "      <td>Jafar</td>\n",
              "      <td>Abdurrahmaan</td>\n",
              "      <td>3.0</td>\n",
              "      <td>2.0</td>\n",
              "      <td>4.0</td>\n",
              "      <td>2.0</td>\n",
              "      <td>2.0</td>\n",
              "      <td>3.0</td>\n",
              "      <td>3.0</td>\n",
              "      <td>4.0</td>\n",
              "      <td>...</td>\n",
              "      <td>4.0</td>\n",
              "      <td>5.0</td>\n",
              "      <td>5.0</td>\n",
              "      <td>5.0</td>\n",
              "      <td>5.0</td>\n",
              "      <td>4.0</td>\n",
              "      <td>4.0</td>\n",
              "      <td>3.0</td>\n",
              "      <td>NaN</td>\n",
              "      <td>NaN</td>\n",
              "    </tr>\n",
              "    <tr>\n",
              "      <th>1</th>\n",
              "      <td>Moritz Kai Phillip</td>\n",
              "      <td>Deecke</td>\n",
              "      <td>2.0</td>\n",
              "      <td>3.0</td>\n",
              "      <td>4.0</td>\n",
              "      <td>2.0</td>\n",
              "      <td>3.0</td>\n",
              "      <td>3.0</td>\n",
              "      <td>NaN</td>\n",
              "      <td>5.0</td>\n",
              "      <td>...</td>\n",
              "      <td>5.0</td>\n",
              "      <td>2.0</td>\n",
              "      <td>2.0</td>\n",
              "      <td>1.0</td>\n",
              "      <td>4.0</td>\n",
              "      <td>3.0</td>\n",
              "      <td>4.0</td>\n",
              "      <td>5.0</td>\n",
              "      <td>4.0</td>\n",
              "      <td>5.0</td>\n",
              "    </tr>\n",
              "    <tr>\n",
              "      <th>2</th>\n",
              "      <td>Huong</td>\n",
              "      <td>Duong</td>\n",
              "      <td>NaN</td>\n",
              "      <td>NaN</td>\n",
              "      <td>NaN</td>\n",
              "      <td>NaN</td>\n",
              "      <td>NaN</td>\n",
              "      <td>NaN</td>\n",
              "      <td>NaN</td>\n",
              "      <td>NaN</td>\n",
              "      <td>...</td>\n",
              "      <td>NaN</td>\n",
              "      <td>NaN</td>\n",
              "      <td>NaN</td>\n",
              "      <td>NaN</td>\n",
              "      <td>NaN</td>\n",
              "      <td>NaN</td>\n",
              "      <td>NaN</td>\n",
              "      <td>NaN</td>\n",
              "      <td>NaN</td>\n",
              "      <td>NaN</td>\n",
              "    </tr>\n",
              "    <tr>\n",
              "      <th>3</th>\n",
              "      <td>Felix</td>\n",
              "      <td>Eger</td>\n",
              "      <td>2.0</td>\n",
              "      <td>2.0</td>\n",
              "      <td>3.0</td>\n",
              "      <td>3.0</td>\n",
              "      <td>3.0</td>\n",
              "      <td>2.0</td>\n",
              "      <td>2.0</td>\n",
              "      <td>5.0</td>\n",
              "      <td>...</td>\n",
              "      <td>5.0</td>\n",
              "      <td>3.0</td>\n",
              "      <td>4.0</td>\n",
              "      <td>2.0</td>\n",
              "      <td>2.0</td>\n",
              "      <td>4.0</td>\n",
              "      <td>3.0</td>\n",
              "      <td>4.0</td>\n",
              "      <td>3.0</td>\n",
              "      <td>3.0</td>\n",
              "    </tr>\n",
              "    <tr>\n",
              "      <th>4</th>\n",
              "      <td>Johana</td>\n",
              "      <td>Estrada</td>\n",
              "      <td>NaN</td>\n",
              "      <td>NaN</td>\n",
              "      <td>NaN</td>\n",
              "      <td>NaN</td>\n",
              "      <td>NaN</td>\n",
              "      <td>NaN</td>\n",
              "      <td>NaN</td>\n",
              "      <td>NaN</td>\n",
              "      <td>...</td>\n",
              "      <td>NaN</td>\n",
              "      <td>NaN</td>\n",
              "      <td>NaN</td>\n",
              "      <td>NaN</td>\n",
              "      <td>NaN</td>\n",
              "      <td>NaN</td>\n",
              "      <td>NaN</td>\n",
              "      <td>NaN</td>\n",
              "      <td>NaN</td>\n",
              "      <td>NaN</td>\n",
              "    </tr>\n",
              "  </tbody>\n",
              "</table>\n",
              "<p>5 rows × 22 columns</p>\n",
              "</div>\n",
              "      <button class=\"colab-df-convert\" onclick=\"convertToInteractive('df-8b95cc8f-ab2e-4845-9068-b6d7f021256c')\"\n",
              "              title=\"Convert this dataframe to an interactive table.\"\n",
              "              style=\"display:none;\">\n",
              "        \n",
              "  <svg xmlns=\"http://www.w3.org/2000/svg\" height=\"24px\"viewBox=\"0 0 24 24\"\n",
              "       width=\"24px\">\n",
              "    <path d=\"M0 0h24v24H0V0z\" fill=\"none\"/>\n",
              "    <path d=\"M18.56 5.44l.94 2.06.94-2.06 2.06-.94-2.06-.94-.94-2.06-.94 2.06-2.06.94zm-11 1L8.5 8.5l.94-2.06 2.06-.94-2.06-.94L8.5 2.5l-.94 2.06-2.06.94zm10 10l.94 2.06.94-2.06 2.06-.94-2.06-.94-.94-2.06-.94 2.06-2.06.94z\"/><path d=\"M17.41 7.96l-1.37-1.37c-.4-.4-.92-.59-1.43-.59-.52 0-1.04.2-1.43.59L10.3 9.45l-7.72 7.72c-.78.78-.78 2.05 0 2.83L4 21.41c.39.39.9.59 1.41.59.51 0 1.02-.2 1.41-.59l7.78-7.78 2.81-2.81c.8-.78.8-2.07 0-2.86zM5.41 20L4 18.59l7.72-7.72 1.47 1.35L5.41 20z\"/>\n",
              "  </svg>\n",
              "      </button>\n",
              "      \n",
              "  <style>\n",
              "    .colab-df-container {\n",
              "      display:flex;\n",
              "      flex-wrap:wrap;\n",
              "      gap: 12px;\n",
              "    }\n",
              "\n",
              "    .colab-df-convert {\n",
              "      background-color: #E8F0FE;\n",
              "      border: none;\n",
              "      border-radius: 50%;\n",
              "      cursor: pointer;\n",
              "      display: none;\n",
              "      fill: #1967D2;\n",
              "      height: 32px;\n",
              "      padding: 0 0 0 0;\n",
              "      width: 32px;\n",
              "    }\n",
              "\n",
              "    .colab-df-convert:hover {\n",
              "      background-color: #E2EBFA;\n",
              "      box-shadow: 0px 1px 2px rgba(60, 64, 67, 0.3), 0px 1px 3px 1px rgba(60, 64, 67, 0.15);\n",
              "      fill: #174EA6;\n",
              "    }\n",
              "\n",
              "    [theme=dark] .colab-df-convert {\n",
              "      background-color: #3B4455;\n",
              "      fill: #D2E3FC;\n",
              "    }\n",
              "\n",
              "    [theme=dark] .colab-df-convert:hover {\n",
              "      background-color: #434B5C;\n",
              "      box-shadow: 0px 1px 3px 1px rgba(0, 0, 0, 0.15);\n",
              "      filter: drop-shadow(0px 1px 2px rgba(0, 0, 0, 0.3));\n",
              "      fill: #FFFFFF;\n",
              "    }\n",
              "  </style>\n",
              "\n",
              "      <script>\n",
              "        const buttonEl =\n",
              "          document.querySelector('#df-8b95cc8f-ab2e-4845-9068-b6d7f021256c button.colab-df-convert');\n",
              "        buttonEl.style.display =\n",
              "          google.colab.kernel.accessAllowed ? 'block' : 'none';\n",
              "\n",
              "        async function convertToInteractive(key) {\n",
              "          const element = document.querySelector('#df-8b95cc8f-ab2e-4845-9068-b6d7f021256c');\n",
              "          const dataTable =\n",
              "            await google.colab.kernel.invokeFunction('convertToInteractive',\n",
              "                                                     [key], {});\n",
              "          if (!dataTable) return;\n",
              "\n",
              "          const docLinkHtml = 'Like what you see? Visit the ' +\n",
              "            '<a target=\"_blank\" href=https://colab.research.google.com/notebooks/data_table.ipynb>data table notebook</a>'\n",
              "            + ' to learn more about interactive tables.';\n",
              "          element.innerHTML = '';\n",
              "          dataTable['output_type'] = 'display_data';\n",
              "          await google.colab.output.renderOutput(dataTable, element);\n",
              "          const docLink = document.createElement('div');\n",
              "          docLink.innerHTML = docLinkHtml;\n",
              "          element.appendChild(docLink);\n",
              "        }\n",
              "      </script>\n",
              "    </div>\n",
              "  </div>\n",
              "  "
            ]
          },
          "metadata": {},
          "execution_count": 12
        }
      ]
    },
    {
      "cell_type": "code",
      "source": [
        "mov_clean = mov.dropna(axis=0, thresh=18) # drop students who rated less then 18 out of 20 movies \n",
        "mov_clean = mov.dropna(axis=1, thresh=8) # drop films which were rated by less then 8 students\n",
        "mov_clean"
      ],
      "metadata": {
        "id": "Xk9-iuODIBx4",
        "outputId": "a73688bc-cc2f-4f1c-af55-d9146839eca9",
        "colab": {
          "base_uri": "https://localhost:8080/",
          "height": 613
        }
      },
      "execution_count": 14,
      "outputs": [
        {
          "output_type": "execute_result",
          "data": {
            "text/plain": [
              "            First Name     Last Name  Princess Diaries  Dumb Dumber  \\\n",
              "0                Jafar  Abdurrahmaan               3.0          2.0   \n",
              "1   Moritz Kai Phillip        Deecke               2.0          3.0   \n",
              "3                Felix          Eger               2.0          2.0   \n",
              "6              Rukniya        Gurung               4.0          3.0   \n",
              "7                Lilit   Harutyunyan               3.0          2.0   \n",
              "8              Philipp      Heitmann               3.0          1.0   \n",
              "10             Clemens          Hopf               1.0          1.0   \n",
              "12      Ngoc Huynh Anh        Nguyen               1.0          2.0   \n",
              "13         Jonas Alois        Pieper               1.0          2.0   \n",
              "15                Eric        Schley               1.0          1.0   \n",
              "\n",
              "    Color Purple  Brave Heart  Narnia  Sense/Sensibility  LiarLiar  \\\n",
              "0            4.0          2.0     2.0                3.0       3.0   \n",
              "1            4.0          2.0     3.0                3.0       NaN   \n",
              "3            3.0          3.0     3.0                2.0       2.0   \n",
              "6            4.0          3.0     3.0                3.0       2.0   \n",
              "7            4.0          2.0     2.0                2.0       2.0   \n",
              "8            4.0          1.0     4.0                2.0       1.0   \n",
              "10           3.0          3.0     3.0                2.0       1.0   \n",
              "12           2.0          2.0     2.0                2.0       2.0   \n",
              "13           2.0          4.0     3.0                1.0       1.0   \n",
              "15           3.0          4.0     2.0                2.0       3.0   \n",
              "\n",
              "    Django Unchained  ...  Shrek  SE7EN  The Intern  John Wick  \\\n",
              "0                4.0  ...    4.0    4.0         5.0        5.0   \n",
              "1                5.0  ...    3.0    5.0         2.0        2.0   \n",
              "3                5.0  ...    2.0    5.0         3.0        4.0   \n",
              "6                5.0  ...    5.0    3.0         4.0        2.0   \n",
              "7                4.0  ...    5.0    5.0         5.0        3.0   \n",
              "8                5.0  ...    3.0    5.0         5.0        3.0   \n",
              "10               4.0  ...    3.0    4.0         1.0        4.0   \n",
              "12               3.0  ...    4.0    4.0         2.0        2.0   \n",
              "13               5.0  ...    2.0    4.0         3.0        4.0   \n",
              "15               5.0  ...    5.0    3.0         3.0        3.0   \n",
              "\n",
              "    Crazy Rich Asians  Call me by your Name  Gone Girl  Prisoners  \\\n",
              "0                 5.0                   5.0        4.0        4.0   \n",
              "1                 1.0                   4.0        3.0        4.0   \n",
              "3                 2.0                   2.0        4.0        3.0   \n",
              "6                 4.0                   4.0        4.0        4.0   \n",
              "7                 4.0                   5.0        5.0        5.0   \n",
              "8                 4.0                   3.0        5.0        4.0   \n",
              "10                1.0                   1.0        1.0        3.0   \n",
              "12                3.0                   2.0        3.0        5.0   \n",
              "13                3.0                   2.0        3.0        5.0   \n",
              "15                3.0                   3.0        3.0        5.0   \n",
              "\n",
              "    Nightcrawler  Gran Torino  \n",
              "0            3.0          NaN  \n",
              "1            5.0          4.0  \n",
              "3            4.0          3.0  \n",
              "6            3.0          NaN  \n",
              "7            3.0          3.0  \n",
              "8            5.0          4.0  \n",
              "10           3.0          4.0  \n",
              "12           5.0          3.0  \n",
              "13           4.0          5.0  \n",
              "15           4.0          5.0  \n",
              "\n",
              "[10 rows x 21 columns]"
            ],
            "text/html": [
              "\n",
              "  <div id=\"df-cf96b23b-b310-4aac-97fa-ee4e2bb8b9b2\">\n",
              "    <div class=\"colab-df-container\">\n",
              "      <div>\n",
              "<style scoped>\n",
              "    .dataframe tbody tr th:only-of-type {\n",
              "        vertical-align: middle;\n",
              "    }\n",
              "\n",
              "    .dataframe tbody tr th {\n",
              "        vertical-align: top;\n",
              "    }\n",
              "\n",
              "    .dataframe thead th {\n",
              "        text-align: right;\n",
              "    }\n",
              "</style>\n",
              "<table border=\"1\" class=\"dataframe\">\n",
              "  <thead>\n",
              "    <tr style=\"text-align: right;\">\n",
              "      <th></th>\n",
              "      <th>First Name</th>\n",
              "      <th>Last Name</th>\n",
              "      <th>Princess Diaries</th>\n",
              "      <th>Dumb Dumber</th>\n",
              "      <th>Color Purple</th>\n",
              "      <th>Brave Heart</th>\n",
              "      <th>Narnia</th>\n",
              "      <th>Sense/Sensibility</th>\n",
              "      <th>LiarLiar</th>\n",
              "      <th>Django Unchained</th>\n",
              "      <th>...</th>\n",
              "      <th>Shrek</th>\n",
              "      <th>SE7EN</th>\n",
              "      <th>The Intern</th>\n",
              "      <th>John Wick</th>\n",
              "      <th>Crazy Rich Asians</th>\n",
              "      <th>Call me by your Name</th>\n",
              "      <th>Gone Girl</th>\n",
              "      <th>Prisoners</th>\n",
              "      <th>Nightcrawler</th>\n",
              "      <th>Gran Torino</th>\n",
              "    </tr>\n",
              "  </thead>\n",
              "  <tbody>\n",
              "    <tr>\n",
              "      <th>0</th>\n",
              "      <td>Jafar</td>\n",
              "      <td>Abdurrahmaan</td>\n",
              "      <td>3.0</td>\n",
              "      <td>2.0</td>\n",
              "      <td>4.0</td>\n",
              "      <td>2.0</td>\n",
              "      <td>2.0</td>\n",
              "      <td>3.0</td>\n",
              "      <td>3.0</td>\n",
              "      <td>4.0</td>\n",
              "      <td>...</td>\n",
              "      <td>4.0</td>\n",
              "      <td>4.0</td>\n",
              "      <td>5.0</td>\n",
              "      <td>5.0</td>\n",
              "      <td>5.0</td>\n",
              "      <td>5.0</td>\n",
              "      <td>4.0</td>\n",
              "      <td>4.0</td>\n",
              "      <td>3.0</td>\n",
              "      <td>NaN</td>\n",
              "    </tr>\n",
              "    <tr>\n",
              "      <th>1</th>\n",
              "      <td>Moritz Kai Phillip</td>\n",
              "      <td>Deecke</td>\n",
              "      <td>2.0</td>\n",
              "      <td>3.0</td>\n",
              "      <td>4.0</td>\n",
              "      <td>2.0</td>\n",
              "      <td>3.0</td>\n",
              "      <td>3.0</td>\n",
              "      <td>NaN</td>\n",
              "      <td>5.0</td>\n",
              "      <td>...</td>\n",
              "      <td>3.0</td>\n",
              "      <td>5.0</td>\n",
              "      <td>2.0</td>\n",
              "      <td>2.0</td>\n",
              "      <td>1.0</td>\n",
              "      <td>4.0</td>\n",
              "      <td>3.0</td>\n",
              "      <td>4.0</td>\n",
              "      <td>5.0</td>\n",
              "      <td>4.0</td>\n",
              "    </tr>\n",
              "    <tr>\n",
              "      <th>3</th>\n",
              "      <td>Felix</td>\n",
              "      <td>Eger</td>\n",
              "      <td>2.0</td>\n",
              "      <td>2.0</td>\n",
              "      <td>3.0</td>\n",
              "      <td>3.0</td>\n",
              "      <td>3.0</td>\n",
              "      <td>2.0</td>\n",
              "      <td>2.0</td>\n",
              "      <td>5.0</td>\n",
              "      <td>...</td>\n",
              "      <td>2.0</td>\n",
              "      <td>5.0</td>\n",
              "      <td>3.0</td>\n",
              "      <td>4.0</td>\n",
              "      <td>2.0</td>\n",
              "      <td>2.0</td>\n",
              "      <td>4.0</td>\n",
              "      <td>3.0</td>\n",
              "      <td>4.0</td>\n",
              "      <td>3.0</td>\n",
              "    </tr>\n",
              "    <tr>\n",
              "      <th>6</th>\n",
              "      <td>Rukniya</td>\n",
              "      <td>Gurung</td>\n",
              "      <td>4.0</td>\n",
              "      <td>3.0</td>\n",
              "      <td>4.0</td>\n",
              "      <td>3.0</td>\n",
              "      <td>3.0</td>\n",
              "      <td>3.0</td>\n",
              "      <td>2.0</td>\n",
              "      <td>5.0</td>\n",
              "      <td>...</td>\n",
              "      <td>5.0</td>\n",
              "      <td>3.0</td>\n",
              "      <td>4.0</td>\n",
              "      <td>2.0</td>\n",
              "      <td>4.0</td>\n",
              "      <td>4.0</td>\n",
              "      <td>4.0</td>\n",
              "      <td>4.0</td>\n",
              "      <td>3.0</td>\n",
              "      <td>NaN</td>\n",
              "    </tr>\n",
              "    <tr>\n",
              "      <th>7</th>\n",
              "      <td>Lilit</td>\n",
              "      <td>Harutyunyan</td>\n",
              "      <td>3.0</td>\n",
              "      <td>2.0</td>\n",
              "      <td>4.0</td>\n",
              "      <td>2.0</td>\n",
              "      <td>2.0</td>\n",
              "      <td>2.0</td>\n",
              "      <td>2.0</td>\n",
              "      <td>4.0</td>\n",
              "      <td>...</td>\n",
              "      <td>5.0</td>\n",
              "      <td>5.0</td>\n",
              "      <td>5.0</td>\n",
              "      <td>3.0</td>\n",
              "      <td>4.0</td>\n",
              "      <td>5.0</td>\n",
              "      <td>5.0</td>\n",
              "      <td>5.0</td>\n",
              "      <td>3.0</td>\n",
              "      <td>3.0</td>\n",
              "    </tr>\n",
              "    <tr>\n",
              "      <th>8</th>\n",
              "      <td>Philipp</td>\n",
              "      <td>Heitmann</td>\n",
              "      <td>3.0</td>\n",
              "      <td>1.0</td>\n",
              "      <td>4.0</td>\n",
              "      <td>1.0</td>\n",
              "      <td>4.0</td>\n",
              "      <td>2.0</td>\n",
              "      <td>1.0</td>\n",
              "      <td>5.0</td>\n",
              "      <td>...</td>\n",
              "      <td>3.0</td>\n",
              "      <td>5.0</td>\n",
              "      <td>5.0</td>\n",
              "      <td>3.0</td>\n",
              "      <td>4.0</td>\n",
              "      <td>3.0</td>\n",
              "      <td>5.0</td>\n",
              "      <td>4.0</td>\n",
              "      <td>5.0</td>\n",
              "      <td>4.0</td>\n",
              "    </tr>\n",
              "    <tr>\n",
              "      <th>10</th>\n",
              "      <td>Clemens</td>\n",
              "      <td>Hopf</td>\n",
              "      <td>1.0</td>\n",
              "      <td>1.0</td>\n",
              "      <td>3.0</td>\n",
              "      <td>3.0</td>\n",
              "      <td>3.0</td>\n",
              "      <td>2.0</td>\n",
              "      <td>1.0</td>\n",
              "      <td>4.0</td>\n",
              "      <td>...</td>\n",
              "      <td>3.0</td>\n",
              "      <td>4.0</td>\n",
              "      <td>1.0</td>\n",
              "      <td>4.0</td>\n",
              "      <td>1.0</td>\n",
              "      <td>1.0</td>\n",
              "      <td>1.0</td>\n",
              "      <td>3.0</td>\n",
              "      <td>3.0</td>\n",
              "      <td>4.0</td>\n",
              "    </tr>\n",
              "    <tr>\n",
              "      <th>12</th>\n",
              "      <td>Ngoc Huynh Anh</td>\n",
              "      <td>Nguyen</td>\n",
              "      <td>1.0</td>\n",
              "      <td>2.0</td>\n",
              "      <td>2.0</td>\n",
              "      <td>2.0</td>\n",
              "      <td>2.0</td>\n",
              "      <td>2.0</td>\n",
              "      <td>2.0</td>\n",
              "      <td>3.0</td>\n",
              "      <td>...</td>\n",
              "      <td>4.0</td>\n",
              "      <td>4.0</td>\n",
              "      <td>2.0</td>\n",
              "      <td>2.0</td>\n",
              "      <td>3.0</td>\n",
              "      <td>2.0</td>\n",
              "      <td>3.0</td>\n",
              "      <td>5.0</td>\n",
              "      <td>5.0</td>\n",
              "      <td>3.0</td>\n",
              "    </tr>\n",
              "    <tr>\n",
              "      <th>13</th>\n",
              "      <td>Jonas Alois</td>\n",
              "      <td>Pieper</td>\n",
              "      <td>1.0</td>\n",
              "      <td>2.0</td>\n",
              "      <td>2.0</td>\n",
              "      <td>4.0</td>\n",
              "      <td>3.0</td>\n",
              "      <td>1.0</td>\n",
              "      <td>1.0</td>\n",
              "      <td>5.0</td>\n",
              "      <td>...</td>\n",
              "      <td>2.0</td>\n",
              "      <td>4.0</td>\n",
              "      <td>3.0</td>\n",
              "      <td>4.0</td>\n",
              "      <td>3.0</td>\n",
              "      <td>2.0</td>\n",
              "      <td>3.0</td>\n",
              "      <td>5.0</td>\n",
              "      <td>4.0</td>\n",
              "      <td>5.0</td>\n",
              "    </tr>\n",
              "    <tr>\n",
              "      <th>15</th>\n",
              "      <td>Eric</td>\n",
              "      <td>Schley</td>\n",
              "      <td>1.0</td>\n",
              "      <td>1.0</td>\n",
              "      <td>3.0</td>\n",
              "      <td>4.0</td>\n",
              "      <td>2.0</td>\n",
              "      <td>2.0</td>\n",
              "      <td>3.0</td>\n",
              "      <td>5.0</td>\n",
              "      <td>...</td>\n",
              "      <td>5.0</td>\n",
              "      <td>3.0</td>\n",
              "      <td>3.0</td>\n",
              "      <td>3.0</td>\n",
              "      <td>3.0</td>\n",
              "      <td>3.0</td>\n",
              "      <td>3.0</td>\n",
              "      <td>5.0</td>\n",
              "      <td>4.0</td>\n",
              "      <td>5.0</td>\n",
              "    </tr>\n",
              "  </tbody>\n",
              "</table>\n",
              "<p>10 rows × 21 columns</p>\n",
              "</div>\n",
              "      <button class=\"colab-df-convert\" onclick=\"convertToInteractive('df-cf96b23b-b310-4aac-97fa-ee4e2bb8b9b2')\"\n",
              "              title=\"Convert this dataframe to an interactive table.\"\n",
              "              style=\"display:none;\">\n",
              "        \n",
              "  <svg xmlns=\"http://www.w3.org/2000/svg\" height=\"24px\"viewBox=\"0 0 24 24\"\n",
              "       width=\"24px\">\n",
              "    <path d=\"M0 0h24v24H0V0z\" fill=\"none\"/>\n",
              "    <path d=\"M18.56 5.44l.94 2.06.94-2.06 2.06-.94-2.06-.94-.94-2.06-.94 2.06-2.06.94zm-11 1L8.5 8.5l.94-2.06 2.06-.94-2.06-.94L8.5 2.5l-.94 2.06-2.06.94zm10 10l.94 2.06.94-2.06 2.06-.94-2.06-.94-.94-2.06-.94 2.06-2.06.94z\"/><path d=\"M17.41 7.96l-1.37-1.37c-.4-.4-.92-.59-1.43-.59-.52 0-1.04.2-1.43.59L10.3 9.45l-7.72 7.72c-.78.78-.78 2.05 0 2.83L4 21.41c.39.39.9.59 1.41.59.51 0 1.02-.2 1.41-.59l7.78-7.78 2.81-2.81c.8-.78.8-2.07 0-2.86zM5.41 20L4 18.59l7.72-7.72 1.47 1.35L5.41 20z\"/>\n",
              "  </svg>\n",
              "      </button>\n",
              "      \n",
              "  <style>\n",
              "    .colab-df-container {\n",
              "      display:flex;\n",
              "      flex-wrap:wrap;\n",
              "      gap: 12px;\n",
              "    }\n",
              "\n",
              "    .colab-df-convert {\n",
              "      background-color: #E8F0FE;\n",
              "      border: none;\n",
              "      border-radius: 50%;\n",
              "      cursor: pointer;\n",
              "      display: none;\n",
              "      fill: #1967D2;\n",
              "      height: 32px;\n",
              "      padding: 0 0 0 0;\n",
              "      width: 32px;\n",
              "    }\n",
              "\n",
              "    .colab-df-convert:hover {\n",
              "      background-color: #E2EBFA;\n",
              "      box-shadow: 0px 1px 2px rgba(60, 64, 67, 0.3), 0px 1px 3px 1px rgba(60, 64, 67, 0.15);\n",
              "      fill: #174EA6;\n",
              "    }\n",
              "\n",
              "    [theme=dark] .colab-df-convert {\n",
              "      background-color: #3B4455;\n",
              "      fill: #D2E3FC;\n",
              "    }\n",
              "\n",
              "    [theme=dark] .colab-df-convert:hover {\n",
              "      background-color: #434B5C;\n",
              "      box-shadow: 0px 1px 3px 1px rgba(0, 0, 0, 0.15);\n",
              "      filter: drop-shadow(0px 1px 2px rgba(0, 0, 0, 0.3));\n",
              "      fill: #FFFFFF;\n",
              "    }\n",
              "  </style>\n",
              "\n",
              "      <script>\n",
              "        const buttonEl =\n",
              "          document.querySelector('#df-cf96b23b-b310-4aac-97fa-ee4e2bb8b9b2 button.colab-df-convert');\n",
              "        buttonEl.style.display =\n",
              "          google.colab.kernel.accessAllowed ? 'block' : 'none';\n",
              "\n",
              "        async function convertToInteractive(key) {\n",
              "          const element = document.querySelector('#df-cf96b23b-b310-4aac-97fa-ee4e2bb8b9b2');\n",
              "          const dataTable =\n",
              "            await google.colab.kernel.invokeFunction('convertToInteractive',\n",
              "                                                     [key], {});\n",
              "          if (!dataTable) return;\n",
              "\n",
              "          const docLinkHtml = 'Like what you see? Visit the ' +\n",
              "            '<a target=\"_blank\" href=https://colab.research.google.com/notebooks/data_table.ipynb>data table notebook</a>'\n",
              "            + ' to learn more about interactive tables.';\n",
              "          element.innerHTML = '';\n",
              "          dataTable['output_type'] = 'display_data';\n",
              "          await google.colab.output.renderOutput(dataTable, element);\n",
              "          const docLink = document.createElement('div');\n",
              "          docLink.innerHTML = docLinkHtml;\n",
              "          element.appendChild(docLink);\n",
              "        }\n",
              "      </script>\n",
              "    </div>\n",
              "  </div>\n",
              "  "
            ]
          },
          "metadata": {},
          "execution_count": 14
        }
      ]
    },
    {
      "cell_type": "code",
      "source": [
        "mov_clean.mean(axis=1)"
      ],
      "metadata": {
        "id": "t7Q5lKJHJFUC",
        "outputId": "488c26b8-0e75-4027-826e-b063f3c0660f",
        "colab": {
          "base_uri": "https://localhost:8080/"
        }
      },
      "execution_count": 21,
      "outputs": [
        {
          "output_type": "stream",
          "name": "stderr",
          "text": [
            "/usr/local/lib/python3.7/dist-packages/ipykernel_launcher.py:1: FutureWarning: Dropping of nuisance columns in DataFrame reductions (with 'numeric_only=None') is deprecated; in a future version this will raise TypeError.  Select only valid columns before calling the reduction.\n",
            "  \"\"\"Entry point for launching an IPython kernel.\n"
          ]
        },
        {
          "output_type": "execute_result",
          "data": {
            "text/plain": [
              "0     3.611111\n",
              "1     3.333333\n",
              "3     3.052632\n",
              "6     3.500000\n",
              "7     3.631579\n",
              "8     3.526316\n",
              "10    2.421053\n",
              "12    2.842105\n",
              "13    3.105263\n",
              "15    3.263158\n",
              "dtype: float64"
            ]
          },
          "metadata": {},
          "execution_count": 21
        }
      ]
    },
    {
      "cell_type": "code",
      "source": [
        "m = mov_clean.mean(axis=1)\n",
        "for i, col in enumerate(mov_clean):\n",
        "    # using i allows for duplicate columns\n",
        "    # inplace *may* not always work here, so IMO the next line is preferred\n",
        "    # df.iloc[:, i].fillna(m, inplace=True)\n",
        "    mov_clean.iloc[:, i] = mov_clean.iloc[:, i].fillna(m)\n",
        "mov_clean"
      ],
      "metadata": {
        "id": "SfAn7yniIBqR",
        "outputId": "0915c77f-171b-4026-db67-efd69c1f598d",
        "colab": {
          "base_uri": "https://localhost:8080/",
          "height": 751
        }
      },
      "execution_count": 22,
      "outputs": [
        {
          "output_type": "stream",
          "name": "stderr",
          "text": [
            "/usr/local/lib/python3.7/dist-packages/ipykernel_launcher.py:1: FutureWarning: Dropping of nuisance columns in DataFrame reductions (with 'numeric_only=None') is deprecated; in a future version this will raise TypeError.  Select only valid columns before calling the reduction.\n",
            "  \"\"\"Entry point for launching an IPython kernel.\n",
            "/usr/local/lib/python3.7/dist-packages/pandas/core/indexing.py:1773: SettingWithCopyWarning: \n",
            "A value is trying to be set on a copy of a slice from a DataFrame.\n",
            "Try using .loc[row_indexer,col_indexer] = value instead\n",
            "\n",
            "See the caveats in the documentation: https://pandas.pydata.org/pandas-docs/stable/user_guide/indexing.html#returning-a-view-versus-a-copy\n",
            "  self._setitem_single_column(ilocs[0], value, pi)\n"
          ]
        },
        {
          "output_type": "execute_result",
          "data": {
            "text/plain": [
              "            First Name     Last Name  Princess Diaries  Dumb Dumber  \\\n",
              "0                Jafar  Abdurrahmaan               3.0          2.0   \n",
              "1   Moritz Kai Phillip        Deecke               2.0          3.0   \n",
              "3                Felix          Eger               2.0          2.0   \n",
              "6              Rukniya        Gurung               4.0          3.0   \n",
              "7                Lilit   Harutyunyan               3.0          2.0   \n",
              "8              Philipp      Heitmann               3.0          1.0   \n",
              "10             Clemens          Hopf               1.0          1.0   \n",
              "12      Ngoc Huynh Anh        Nguyen               1.0          2.0   \n",
              "13         Jonas Alois        Pieper               1.0          2.0   \n",
              "15                Eric        Schley               1.0          1.0   \n",
              "\n",
              "    Color Purple  Brave Heart  Narnia  Sense/Sensibility  LiarLiar  \\\n",
              "0            4.0          2.0     2.0                3.0  3.000000   \n",
              "1            4.0          2.0     3.0                3.0  3.333333   \n",
              "3            3.0          3.0     3.0                2.0  2.000000   \n",
              "6            4.0          3.0     3.0                3.0  2.000000   \n",
              "7            4.0          2.0     2.0                2.0  2.000000   \n",
              "8            4.0          1.0     4.0                2.0  1.000000   \n",
              "10           3.0          3.0     3.0                2.0  1.000000   \n",
              "12           2.0          2.0     2.0                2.0  2.000000   \n",
              "13           2.0          4.0     3.0                1.0  1.000000   \n",
              "15           3.0          4.0     2.0                2.0  3.000000   \n",
              "\n",
              "    Django Unchained  ...  Shrek  SE7EN  The Intern  John Wick  \\\n",
              "0                4.0  ...    4.0    4.0         5.0        5.0   \n",
              "1                5.0  ...    3.0    5.0         2.0        2.0   \n",
              "3                5.0  ...    2.0    5.0         3.0        4.0   \n",
              "6                5.0  ...    5.0    3.0         4.0        2.0   \n",
              "7                4.0  ...    5.0    5.0         5.0        3.0   \n",
              "8                5.0  ...    3.0    5.0         5.0        3.0   \n",
              "10               4.0  ...    3.0    4.0         1.0        4.0   \n",
              "12               3.0  ...    4.0    4.0         2.0        2.0   \n",
              "13               5.0  ...    2.0    4.0         3.0        4.0   \n",
              "15               5.0  ...    5.0    3.0         3.0        3.0   \n",
              "\n",
              "    Crazy Rich Asians  Call me by your Name  Gone Girl  Prisoners  \\\n",
              "0                 5.0                   5.0        4.0        4.0   \n",
              "1                 1.0                   4.0        3.0        4.0   \n",
              "3                 2.0                   2.0        4.0        3.0   \n",
              "6                 4.0                   4.0        4.0        4.0   \n",
              "7                 4.0                   5.0        5.0        5.0   \n",
              "8                 4.0                   3.0        5.0        4.0   \n",
              "10                1.0                   1.0        1.0        3.0   \n",
              "12                3.0                   2.0        3.0        5.0   \n",
              "13                3.0                   2.0        3.0        5.0   \n",
              "15                3.0                   3.0        3.0        5.0   \n",
              "\n",
              "    Nightcrawler  Gran Torino  \n",
              "0            3.0     3.611111  \n",
              "1            5.0     4.000000  \n",
              "3            4.0     3.000000  \n",
              "6            3.0     3.500000  \n",
              "7            3.0     3.000000  \n",
              "8            5.0     4.000000  \n",
              "10           3.0     4.000000  \n",
              "12           5.0     3.000000  \n",
              "13           4.0     5.000000  \n",
              "15           4.0     5.000000  \n",
              "\n",
              "[10 rows x 21 columns]"
            ],
            "text/html": [
              "\n",
              "  <div id=\"df-0e54c60f-4e23-4ea1-8976-e62f1f190fb4\">\n",
              "    <div class=\"colab-df-container\">\n",
              "      <div>\n",
              "<style scoped>\n",
              "    .dataframe tbody tr th:only-of-type {\n",
              "        vertical-align: middle;\n",
              "    }\n",
              "\n",
              "    .dataframe tbody tr th {\n",
              "        vertical-align: top;\n",
              "    }\n",
              "\n",
              "    .dataframe thead th {\n",
              "        text-align: right;\n",
              "    }\n",
              "</style>\n",
              "<table border=\"1\" class=\"dataframe\">\n",
              "  <thead>\n",
              "    <tr style=\"text-align: right;\">\n",
              "      <th></th>\n",
              "      <th>First Name</th>\n",
              "      <th>Last Name</th>\n",
              "      <th>Princess Diaries</th>\n",
              "      <th>Dumb Dumber</th>\n",
              "      <th>Color Purple</th>\n",
              "      <th>Brave Heart</th>\n",
              "      <th>Narnia</th>\n",
              "      <th>Sense/Sensibility</th>\n",
              "      <th>LiarLiar</th>\n",
              "      <th>Django Unchained</th>\n",
              "      <th>...</th>\n",
              "      <th>Shrek</th>\n",
              "      <th>SE7EN</th>\n",
              "      <th>The Intern</th>\n",
              "      <th>John Wick</th>\n",
              "      <th>Crazy Rich Asians</th>\n",
              "      <th>Call me by your Name</th>\n",
              "      <th>Gone Girl</th>\n",
              "      <th>Prisoners</th>\n",
              "      <th>Nightcrawler</th>\n",
              "      <th>Gran Torino</th>\n",
              "    </tr>\n",
              "  </thead>\n",
              "  <tbody>\n",
              "    <tr>\n",
              "      <th>0</th>\n",
              "      <td>Jafar</td>\n",
              "      <td>Abdurrahmaan</td>\n",
              "      <td>3.0</td>\n",
              "      <td>2.0</td>\n",
              "      <td>4.0</td>\n",
              "      <td>2.0</td>\n",
              "      <td>2.0</td>\n",
              "      <td>3.0</td>\n",
              "      <td>3.000000</td>\n",
              "      <td>4.0</td>\n",
              "      <td>...</td>\n",
              "      <td>4.0</td>\n",
              "      <td>4.0</td>\n",
              "      <td>5.0</td>\n",
              "      <td>5.0</td>\n",
              "      <td>5.0</td>\n",
              "      <td>5.0</td>\n",
              "      <td>4.0</td>\n",
              "      <td>4.0</td>\n",
              "      <td>3.0</td>\n",
              "      <td>3.611111</td>\n",
              "    </tr>\n",
              "    <tr>\n",
              "      <th>1</th>\n",
              "      <td>Moritz Kai Phillip</td>\n",
              "      <td>Deecke</td>\n",
              "      <td>2.0</td>\n",
              "      <td>3.0</td>\n",
              "      <td>4.0</td>\n",
              "      <td>2.0</td>\n",
              "      <td>3.0</td>\n",
              "      <td>3.0</td>\n",
              "      <td>3.333333</td>\n",
              "      <td>5.0</td>\n",
              "      <td>...</td>\n",
              "      <td>3.0</td>\n",
              "      <td>5.0</td>\n",
              "      <td>2.0</td>\n",
              "      <td>2.0</td>\n",
              "      <td>1.0</td>\n",
              "      <td>4.0</td>\n",
              "      <td>3.0</td>\n",
              "      <td>4.0</td>\n",
              "      <td>5.0</td>\n",
              "      <td>4.000000</td>\n",
              "    </tr>\n",
              "    <tr>\n",
              "      <th>3</th>\n",
              "      <td>Felix</td>\n",
              "      <td>Eger</td>\n",
              "      <td>2.0</td>\n",
              "      <td>2.0</td>\n",
              "      <td>3.0</td>\n",
              "      <td>3.0</td>\n",
              "      <td>3.0</td>\n",
              "      <td>2.0</td>\n",
              "      <td>2.000000</td>\n",
              "      <td>5.0</td>\n",
              "      <td>...</td>\n",
              "      <td>2.0</td>\n",
              "      <td>5.0</td>\n",
              "      <td>3.0</td>\n",
              "      <td>4.0</td>\n",
              "      <td>2.0</td>\n",
              "      <td>2.0</td>\n",
              "      <td>4.0</td>\n",
              "      <td>3.0</td>\n",
              "      <td>4.0</td>\n",
              "      <td>3.000000</td>\n",
              "    </tr>\n",
              "    <tr>\n",
              "      <th>6</th>\n",
              "      <td>Rukniya</td>\n",
              "      <td>Gurung</td>\n",
              "      <td>4.0</td>\n",
              "      <td>3.0</td>\n",
              "      <td>4.0</td>\n",
              "      <td>3.0</td>\n",
              "      <td>3.0</td>\n",
              "      <td>3.0</td>\n",
              "      <td>2.000000</td>\n",
              "      <td>5.0</td>\n",
              "      <td>...</td>\n",
              "      <td>5.0</td>\n",
              "      <td>3.0</td>\n",
              "      <td>4.0</td>\n",
              "      <td>2.0</td>\n",
              "      <td>4.0</td>\n",
              "      <td>4.0</td>\n",
              "      <td>4.0</td>\n",
              "      <td>4.0</td>\n",
              "      <td>3.0</td>\n",
              "      <td>3.500000</td>\n",
              "    </tr>\n",
              "    <tr>\n",
              "      <th>7</th>\n",
              "      <td>Lilit</td>\n",
              "      <td>Harutyunyan</td>\n",
              "      <td>3.0</td>\n",
              "      <td>2.0</td>\n",
              "      <td>4.0</td>\n",
              "      <td>2.0</td>\n",
              "      <td>2.0</td>\n",
              "      <td>2.0</td>\n",
              "      <td>2.000000</td>\n",
              "      <td>4.0</td>\n",
              "      <td>...</td>\n",
              "      <td>5.0</td>\n",
              "      <td>5.0</td>\n",
              "      <td>5.0</td>\n",
              "      <td>3.0</td>\n",
              "      <td>4.0</td>\n",
              "      <td>5.0</td>\n",
              "      <td>5.0</td>\n",
              "      <td>5.0</td>\n",
              "      <td>3.0</td>\n",
              "      <td>3.000000</td>\n",
              "    </tr>\n",
              "    <tr>\n",
              "      <th>8</th>\n",
              "      <td>Philipp</td>\n",
              "      <td>Heitmann</td>\n",
              "      <td>3.0</td>\n",
              "      <td>1.0</td>\n",
              "      <td>4.0</td>\n",
              "      <td>1.0</td>\n",
              "      <td>4.0</td>\n",
              "      <td>2.0</td>\n",
              "      <td>1.000000</td>\n",
              "      <td>5.0</td>\n",
              "      <td>...</td>\n",
              "      <td>3.0</td>\n",
              "      <td>5.0</td>\n",
              "      <td>5.0</td>\n",
              "      <td>3.0</td>\n",
              "      <td>4.0</td>\n",
              "      <td>3.0</td>\n",
              "      <td>5.0</td>\n",
              "      <td>4.0</td>\n",
              "      <td>5.0</td>\n",
              "      <td>4.000000</td>\n",
              "    </tr>\n",
              "    <tr>\n",
              "      <th>10</th>\n",
              "      <td>Clemens</td>\n",
              "      <td>Hopf</td>\n",
              "      <td>1.0</td>\n",
              "      <td>1.0</td>\n",
              "      <td>3.0</td>\n",
              "      <td>3.0</td>\n",
              "      <td>3.0</td>\n",
              "      <td>2.0</td>\n",
              "      <td>1.000000</td>\n",
              "      <td>4.0</td>\n",
              "      <td>...</td>\n",
              "      <td>3.0</td>\n",
              "      <td>4.0</td>\n",
              "      <td>1.0</td>\n",
              "      <td>4.0</td>\n",
              "      <td>1.0</td>\n",
              "      <td>1.0</td>\n",
              "      <td>1.0</td>\n",
              "      <td>3.0</td>\n",
              "      <td>3.0</td>\n",
              "      <td>4.000000</td>\n",
              "    </tr>\n",
              "    <tr>\n",
              "      <th>12</th>\n",
              "      <td>Ngoc Huynh Anh</td>\n",
              "      <td>Nguyen</td>\n",
              "      <td>1.0</td>\n",
              "      <td>2.0</td>\n",
              "      <td>2.0</td>\n",
              "      <td>2.0</td>\n",
              "      <td>2.0</td>\n",
              "      <td>2.0</td>\n",
              "      <td>2.000000</td>\n",
              "      <td>3.0</td>\n",
              "      <td>...</td>\n",
              "      <td>4.0</td>\n",
              "      <td>4.0</td>\n",
              "      <td>2.0</td>\n",
              "      <td>2.0</td>\n",
              "      <td>3.0</td>\n",
              "      <td>2.0</td>\n",
              "      <td>3.0</td>\n",
              "      <td>5.0</td>\n",
              "      <td>5.0</td>\n",
              "      <td>3.000000</td>\n",
              "    </tr>\n",
              "    <tr>\n",
              "      <th>13</th>\n",
              "      <td>Jonas Alois</td>\n",
              "      <td>Pieper</td>\n",
              "      <td>1.0</td>\n",
              "      <td>2.0</td>\n",
              "      <td>2.0</td>\n",
              "      <td>4.0</td>\n",
              "      <td>3.0</td>\n",
              "      <td>1.0</td>\n",
              "      <td>1.000000</td>\n",
              "      <td>5.0</td>\n",
              "      <td>...</td>\n",
              "      <td>2.0</td>\n",
              "      <td>4.0</td>\n",
              "      <td>3.0</td>\n",
              "      <td>4.0</td>\n",
              "      <td>3.0</td>\n",
              "      <td>2.0</td>\n",
              "      <td>3.0</td>\n",
              "      <td>5.0</td>\n",
              "      <td>4.0</td>\n",
              "      <td>5.000000</td>\n",
              "    </tr>\n",
              "    <tr>\n",
              "      <th>15</th>\n",
              "      <td>Eric</td>\n",
              "      <td>Schley</td>\n",
              "      <td>1.0</td>\n",
              "      <td>1.0</td>\n",
              "      <td>3.0</td>\n",
              "      <td>4.0</td>\n",
              "      <td>2.0</td>\n",
              "      <td>2.0</td>\n",
              "      <td>3.000000</td>\n",
              "      <td>5.0</td>\n",
              "      <td>...</td>\n",
              "      <td>5.0</td>\n",
              "      <td>3.0</td>\n",
              "      <td>3.0</td>\n",
              "      <td>3.0</td>\n",
              "      <td>3.0</td>\n",
              "      <td>3.0</td>\n",
              "      <td>3.0</td>\n",
              "      <td>5.0</td>\n",
              "      <td>4.0</td>\n",
              "      <td>5.000000</td>\n",
              "    </tr>\n",
              "  </tbody>\n",
              "</table>\n",
              "<p>10 rows × 21 columns</p>\n",
              "</div>\n",
              "      <button class=\"colab-df-convert\" onclick=\"convertToInteractive('df-0e54c60f-4e23-4ea1-8976-e62f1f190fb4')\"\n",
              "              title=\"Convert this dataframe to an interactive table.\"\n",
              "              style=\"display:none;\">\n",
              "        \n",
              "  <svg xmlns=\"http://www.w3.org/2000/svg\" height=\"24px\"viewBox=\"0 0 24 24\"\n",
              "       width=\"24px\">\n",
              "    <path d=\"M0 0h24v24H0V0z\" fill=\"none\"/>\n",
              "    <path d=\"M18.56 5.44l.94 2.06.94-2.06 2.06-.94-2.06-.94-.94-2.06-.94 2.06-2.06.94zm-11 1L8.5 8.5l.94-2.06 2.06-.94-2.06-.94L8.5 2.5l-.94 2.06-2.06.94zm10 10l.94 2.06.94-2.06 2.06-.94-2.06-.94-.94-2.06-.94 2.06-2.06.94z\"/><path d=\"M17.41 7.96l-1.37-1.37c-.4-.4-.92-.59-1.43-.59-.52 0-1.04.2-1.43.59L10.3 9.45l-7.72 7.72c-.78.78-.78 2.05 0 2.83L4 21.41c.39.39.9.59 1.41.59.51 0 1.02-.2 1.41-.59l7.78-7.78 2.81-2.81c.8-.78.8-2.07 0-2.86zM5.41 20L4 18.59l7.72-7.72 1.47 1.35L5.41 20z\"/>\n",
              "  </svg>\n",
              "      </button>\n",
              "      \n",
              "  <style>\n",
              "    .colab-df-container {\n",
              "      display:flex;\n",
              "      flex-wrap:wrap;\n",
              "      gap: 12px;\n",
              "    }\n",
              "\n",
              "    .colab-df-convert {\n",
              "      background-color: #E8F0FE;\n",
              "      border: none;\n",
              "      border-radius: 50%;\n",
              "      cursor: pointer;\n",
              "      display: none;\n",
              "      fill: #1967D2;\n",
              "      height: 32px;\n",
              "      padding: 0 0 0 0;\n",
              "      width: 32px;\n",
              "    }\n",
              "\n",
              "    .colab-df-convert:hover {\n",
              "      background-color: #E2EBFA;\n",
              "      box-shadow: 0px 1px 2px rgba(60, 64, 67, 0.3), 0px 1px 3px 1px rgba(60, 64, 67, 0.15);\n",
              "      fill: #174EA6;\n",
              "    }\n",
              "\n",
              "    [theme=dark] .colab-df-convert {\n",
              "      background-color: #3B4455;\n",
              "      fill: #D2E3FC;\n",
              "    }\n",
              "\n",
              "    [theme=dark] .colab-df-convert:hover {\n",
              "      background-color: #434B5C;\n",
              "      box-shadow: 0px 1px 3px 1px rgba(0, 0, 0, 0.15);\n",
              "      filter: drop-shadow(0px 1px 2px rgba(0, 0, 0, 0.3));\n",
              "      fill: #FFFFFF;\n",
              "    }\n",
              "  </style>\n",
              "\n",
              "      <script>\n",
              "        const buttonEl =\n",
              "          document.querySelector('#df-0e54c60f-4e23-4ea1-8976-e62f1f190fb4 button.colab-df-convert');\n",
              "        buttonEl.style.display =\n",
              "          google.colab.kernel.accessAllowed ? 'block' : 'none';\n",
              "\n",
              "        async function convertToInteractive(key) {\n",
              "          const element = document.querySelector('#df-0e54c60f-4e23-4ea1-8976-e62f1f190fb4');\n",
              "          const dataTable =\n",
              "            await google.colab.kernel.invokeFunction('convertToInteractive',\n",
              "                                                     [key], {});\n",
              "          if (!dataTable) return;\n",
              "\n",
              "          const docLinkHtml = 'Like what you see? Visit the ' +\n",
              "            '<a target=\"_blank\" href=https://colab.research.google.com/notebooks/data_table.ipynb>data table notebook</a>'\n",
              "            + ' to learn more about interactive tables.';\n",
              "          element.innerHTML = '';\n",
              "          dataTable['output_type'] = 'display_data';\n",
              "          await google.colab.output.renderOutput(dataTable, element);\n",
              "          const docLink = document.createElement('div');\n",
              "          docLink.innerHTML = docLinkHtml;\n",
              "          element.appendChild(docLink);\n",
              "        }\n",
              "      </script>\n",
              "    </div>\n",
              "  </div>\n",
              "  "
            ]
          },
          "metadata": {},
          "execution_count": 22
        }
      ]
    },
    {
      "cell_type": "code",
      "source": [
        "#SVD\n",
        "U, s, VT = svd(mov_clean[mov_clean.columns[2:]])"
      ],
      "metadata": {
        "id": "LJqDq9ZdIBj0"
      },
      "execution_count": 23,
      "outputs": []
    },
    {
      "cell_type": "code",
      "source": [
        "#Plot first two new features\n",
        "import matplotlib.pyplot as plt\n",
        "\n",
        "names = mov_clean[\"First Name\"]\n",
        "fig, ax = plt.subplots()\n",
        "X = U[:,0]\n",
        "Y = U[:,1]\n",
        "ax.scatter(X, Y)\n",
        "\n",
        "for i, txt in enumerate(names):\n",
        "    ax.annotate(txt, (X[i], Y[i]))"
      ],
      "metadata": {
        "id": "fVAFZVi9IBcQ",
        "outputId": "98bbda91-d48e-44d7-9b8f-4177304a59bc",
        "colab": {
          "base_uri": "https://localhost:8080/",
          "height": 265
        }
      },
      "execution_count": 24,
      "outputs": [
        {
          "output_type": "display_data",
          "data": {
            "text/plain": [
              "<Figure size 432x288 with 1 Axes>"
            ],
            "image/png": "[encoded data removed]"
          },
          "metadata": {
            "needs_background": "light"
          }
        }
      ]
    },
    {
      "cell_type": "code",
      "source": [
        "# plot movies\n",
        "names_m = mov_clean.columns[2:]\n",
        "fig, ax = plt.subplots()\n",
        "X = VT[0,:]\n",
        "Y = VT[1,:]\n",
        "ax.scatter(X, Y)\n",
        "\n",
        "for i, txt in enumerate(names_m):\n",
        "    ax.annotate(txt, (X[i], Y[i]))"
      ],
      "metadata": {
        "id": "iTDyGEo1MVKx",
        "outputId": "45dcd02c-9274-46da-929a-2d7b6f4e1efa",
        "colab": {
          "base_uri": "https://localhost:8080/",
          "height": 265
        }
      },
      "execution_count": 26,
      "outputs": [
        {
          "output_type": "display_data",
          "data": {
            "text/plain": [
              "<Figure size 432x288 with 1 Axes>"
            ],
            "image/png": "[encoded data removed]"
          },
          "metadata": {
            "needs_background": "light"
          }
        }
      ]
    },
    {
      "cell_type": "markdown",
      "source": [
        "#### MNIST\n"
      ],
      "metadata": {
        "id": "U8UfjdbKBX51"
      }
    },
    {
      "cell_type": "code",
      "source": [
        "(x_train, y_train), (x_test, y_test) = keras.datasets.mnist.load_data()"
      ],
      "metadata": {
        "id": "ttuqcxffBZ9M"
      },
      "execution_count": null,
      "outputs": []
    },
    {
      "cell_type": "code",
      "source": [
        "assert x_train.shape == (60000, 28, 28)\n",
        "assert x_test.shape == (10000, 28, 28)\n",
        "assert y_train.shape == (60000,)\n",
        "assert y_test.shape == (10000,)"
      ],
      "metadata": {
        "id": "V_BXXkX3EVbY"
      },
      "execution_count": null,
      "outputs": []
    },
    {
      "cell_type": "code",
      "execution_count": null,
      "metadata": {
        "id": "k4aHIUAQMNhR"
      },
      "outputs": [],
      "source": [
        "# flatten data\n",
        "x_train_flat = np.reshape(x_train, [60_000, 784])[:5000]"
      ]
    },
    {
      "cell_type": "code",
      "execution_count": null,
      "metadata": {
        "id": "2YCgtzMQM6o0"
      },
      "outputs": [],
      "source": [
        "# flatten data\n",
        "x_train_flat = np.reshape(x_train, [60_000, 784])[:5000]"
      ]
    },
    {
      "cell_type": "code",
      "execution_count": null,
      "metadata": {
        "outputId": "be43da36-f4b0-4085-ec56-f7a6593a8971",
        "id": "owop0wkOM6o-"
      },
      "outputs": [
        {
          "data": {
            "text/plain": [
              "(5000, 784)"
            ]
          },
          "execution_count": 45,
          "metadata": {},
          "output_type": "execute_result"
        }
      ],
      "source": [
        "x_train_flat.shape"
      ]
    },
    {
      "cell_type": "code",
      "execution_count": null,
      "metadata": {
        "id": "BwZfJJUJM6o_"
      },
      "outputs": [],
      "source": [
        "U, s, VT = svd(x_train_flat)"
      ]
    },
    {
      "cell_type": "code",
      "execution_count": null,
      "metadata": {
        "id": "7M5qyjUdM6o_"
      },
      "outputs": [],
      "source": [
        "# s is a vector right now so you need to convert it\n",
        "Sigma = np.diag(s)"
      ]
    },
    {
      "cell_type": "code",
      "execution_count": null,
      "metadata": {
        "outputId": "7474b890-ae83-4f39-c689-c42ac793aeb8",
        "id": "9dKAYJWBM6o_"
      },
      "outputs": [
        {
          "data": {
            "text/plain": [
              "(5000, 784)"
            ]
          },
          "execution_count": 48,
          "metadata": {},
          "output_type": "execute_result"
        }
      ],
      "source": [
        "k = 20 #no of latent factos we keep\n",
        "m = x_train_flat.shape[0]\n",
        "n = x_train_flat.shape[1]\n",
        "\n",
        "Sigma = np.zeros((m, n))\n",
        "Sigma[:n,:n]=np.diag(s)\n",
        "Sigma\n",
        "\n",
        "Xreconstruct = np.dot(U, np.dot(Sigma, VT))\n",
        "Xreconstruct.shape"
      ]
    },
    {
      "cell_type": "code",
      "execution_count": null,
      "metadata": {
        "outputId": "c3db5e2e-f9b3-426b-e116-79e96247fdb8",
        "id": "PmaUUqTEM6o_"
      },
      "outputs": [
        {
          "data": {
            "text/plain": [
              "8.489269658933122e-05"
            ]
          },
          "execution_count": 53,
          "metadata": {},
          "output_type": "execute_result"
        }
      ],
      "source": [
        "RMSE = np.sqrt(np.mean((Xreconstruct-x_train_flat)**2))\n",
        "RMSE "
      ]
    },
    {
      "cell_type": "code",
      "execution_count": null,
      "metadata": {
        "outputId": "f5379720-634a-49e2-d75a-4b740cb862c4",
        "id": "mmJG2vIhM6pA"
      },
      "outputs": [
        {
          "data": {
            "text/plain": [
              "(5000, 784)"
            ]
          },
          "execution_count": 50,
          "metadata": {},
          "output_type": "execute_result"
        }
      ],
      "source": [
        "k = 50 #no of latent factos we keep\n",
        "\n",
        "Sigmak = Sigma[:,:k]\n",
        "VTk = VT[:k,:]\n",
        "Xtrunc = np.dot(U, np.dot(Sigmak, VTk))\n",
        "Xtrunc.shape"
      ]
    },
    {
      "cell_type": "code",
      "execution_count": null,
      "metadata": {
        "id": "e3ofzmU3fbUH"
      },
      "outputs": [],
      "source": [
        "# flatten data\n",
        "x_train_flat = np.reshape(x_train, [60_000, 784])[:5000]"
      ]
    },
    {
      "cell_type": "code",
      "execution_count": null,
      "metadata": {
        "id": "Jk-T8ET1HfAs",
        "outputId": "be43da36-f4b0-4085-ec56-f7a6593a8971"
      },
      "outputs": [
        {
          "data": {
            "text/plain": [
              "(5000, 784)"
            ]
          },
          "execution_count": 45,
          "metadata": {},
          "output_type": "execute_result"
        }
      ],
      "source": [
        "x_train_flat.shape"
      ]
    },
    {
      "cell_type": "code",
      "execution_count": null,
      "metadata": {
        "id": "-d7gcnuJHfAt"
      },
      "outputs": [],
      "source": [
        "U, s, VT = svd(x_train_flat)"
      ]
    },
    {
      "cell_type": "code",
      "execution_count": null,
      "metadata": {
        "id": "fRrckeoVHfAt"
      },
      "outputs": [],
      "source": [
        "# s is a vector right now so you need to convert it\n",
        "Sigma = np.diag(s)"
      ]
    },
    {
      "cell_type": "code",
      "execution_count": null,
      "metadata": {
        "id": "qxU7Sr3wHfAu",
        "outputId": "7474b890-ae83-4f39-c689-c42ac793aeb8"
      },
      "outputs": [
        {
          "data": {
            "text/plain": [
              "(5000, 784)"
            ]
          },
          "execution_count": 48,
          "metadata": {},
          "output_type": "execute_result"
        }
      ],
      "source": [
        "k = 20 #no of latent factos we keep\n",
        "m = x_train_flat.shape[0]\n",
        "n = x_train_flat.shape[1]\n",
        "\n",
        "Sigma = np.zeros((m, n))\n",
        "Sigma[:n,:n]=np.diag(s)\n",
        "Sigma\n",
        "\n",
        "Xreconstruct = np.dot(U, np.dot(Sigma, VT))\n",
        "Xreconstruct.shape"
      ]
    },
    {
      "cell_type": "code",
      "execution_count": null,
      "metadata": {
        "id": "ekYfvQLPHfAu",
        "outputId": "c3db5e2e-f9b3-426b-e116-79e96247fdb8"
      },
      "outputs": [
        {
          "data": {
            "text/plain": [
              "8.489269658933122e-05"
            ]
          },
          "execution_count": 53,
          "metadata": {},
          "output_type": "execute_result"
        }
      ],
      "source": [
        "RMSE = np.sqrt(np.mean((Xreconstruct-x_train_flat)**2))\n",
        "RMSE "
      ]
    },
    {
      "cell_type": "code",
      "execution_count": null,
      "metadata": {
        "id": "XDV_KjodHfAv",
        "outputId": "f5379720-634a-49e2-d75a-4b740cb862c4"
      },
      "outputs": [
        {
          "data": {
            "text/plain": [
              "(5000, 784)"
            ]
          },
          "execution_count": 50,
          "metadata": {},
          "output_type": "execute_result"
        }
      ],
      "source": [
        "k = 50 #no of latent factos we keep\n",
        "\n",
        "Sigmak = Sigma[:,:k]\n",
        "VTk = VT[:k,:]\n",
        "Xtrunc = np.dot(U, np.dot(Sigmak, VTk))\n",
        "Xtrunc.shape"
      ]
    },
    {
      "cell_type": "code",
      "execution_count": null,
      "metadata": {
        "id": "k_FG_dsKHfAv",
        "outputId": "6e40b68a-3446-44dd-daa2-e493a5094e40"
      },
      "outputs": [
        {
          "data": {
            "text/plain": [
              "27.330037942983793"
            ]
          },
          "execution_count": 52,
          "metadata": {},
          "output_type": "execute_result"
        }
      ],
      "source": [
        "RMSE = np.sqrt(np.mean((Xtrunc-x_train_flat)**2))\n",
        "RMSE "
      ]
    },
    {
      "cell_type": "code",
      "execution_count": null,
      "metadata": {
        "id": "tYBEn4dcHfAw",
        "outputId": "d6b1f718-ed0b-420d-c3c8-6fe1f039918d"
      },
      "outputs": [
        {
          "data": {
            "text/plain": [
              "<matplotlib.image.AxesImage at 0x130dd9430>"
            ]
          },
          "execution_count": 58,
          "metadata": {},
          "output_type": "execute_result"
        },
        {
          "data": {
            "image/png": "[encoded data removed]",
            "text/plain": [
              "<Figure size 432x288 with 1 Axes>"
            ]
          },
          "metadata": {
            "needs_background": "light"
          },
          "output_type": "display_data"
        }
      ],
      "source": [
        "plt. imshow(Xreconstruct[1,:].reshape(28,28))"
      ]
    },
    {
      "cell_type": "code",
      "execution_count": null,
      "metadata": {
        "id": "eGTNp8ZOHfAw",
        "outputId": "6939db9a-2dd3-46b8-82b5-46f7e71efec3"
      },
      "outputs": [
        {
          "data": {
            "text/plain": [
              "<matplotlib.image.AxesImage at 0x130d980a0>"
            ]
          },
          "execution_count": 57,
          "metadata": {},
          "output_type": "execute_result"
        },
        {
          "data": {
            "image/png": "[encoded data removed]",
            "text/plain": [
              "<Figure size 432x288 with 1 Axes>"
            ]
          },
          "metadata": {
            "needs_background": "light"
          },
          "output_type": "display_data"
        }
      ],
      "source": [
        "plt.imshow(Xtrunc[1,:].reshape(28,28))"
      ]
    }
  ],
  "metadata": {
    "colab": {
      "name": "Class4.ipynb",
      "provenance": [],
      "collapsed_sections": [],
      "include_colab_link": true
    },
    "kernelspec": {
      "display_name": "Python 3",
      "language": "python",
      "name": "python3"
    },
    "language_info": {
      "codemirror_mode": {
        "name": "ipython",
        "version": 3
      },
      "file_extension": ".py",
      "mimetype": "text/x-python",
      "name": "python",
      "nbconvert_exporter": "python",
      "pygments_lexer": "ipython3",
      "version": "3.8.3"
    }
  },
  "nbformat": 4,
  "nbformat_minor": 0
}