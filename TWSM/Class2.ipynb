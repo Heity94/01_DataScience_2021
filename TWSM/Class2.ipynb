{
  "cells": [
    {
      "cell_type": "markdown",
      "metadata": {
        "id": "view-in-github",
        "colab_type": "text"
      },
      "source": [
        "<a href=\"https://colab.research.google.com/github/markusloecher/DataScience2021/blob/main/TWSM/Class2.ipynb\" target=\"_parent\"><img src=\"https://colab.research.google.com/assets/colab-badge.svg\" alt=\"Open In Colab\"/></a>"
      ]
    },
    {
      "cell_type": "markdown",
      "source": [
        "## Functions"
      ],
      "metadata": {
        "id": "-B3RMcw6CeZQ"
      }
    },
    {
      "cell_type": "code",
      "source": [
        "import numpy as np\n",
        "import pandas as pd\n",
        "\n",
        "# function for transformation\n",
        "def transform_df(text):\n",
        "    \n",
        "    (unique, counts) = np.unique(text.split(), return_counts=True)\n",
        "    df_words = pd.DataFrame(unique, counts).reset_index().rename(columns = {\"index\":\"counts\", 0:\"word\"}).sort_values(by = \"counts\", ascending = False)\n",
        "    df_words[\"rank\"] =  df_words[\"counts\"].rank(ascending=False)\n",
        "    \n",
        "    return df_words\n",
        "\n",
        "\n",
        "\n",
        "def vectorize_sequences(sequences, dimension=10000):\n",
        "    results = np.zeros((len(sequences), dimension))\n",
        "    for i, sequence in enumerate(sequences):\n",
        "        for j in sequence:\n",
        "            results[i, j] = 1.\n",
        "    return results"
      ],
      "metadata": {
        "id": "cVATPaIWf6cG"
      },
      "execution_count": 7,
      "outputs": []
    },
    {
      "cell_type": "markdown",
      "source": [
        "## Data Sets"
      ],
      "metadata": {
        "id": "eH2B6Yzmf4_J"
      }
    },
    {
      "cell_type": "code",
      "execution_count": 2,
      "metadata": {
        "colab": {
          "base_uri": "https://localhost:8080/"
        },
        "id": "9AczlUWfwpd6",
        "outputId": "400ed01b-aacb-41df-ca7d-b83e3deb140a"
      },
      "outputs": [
        {
          "output_type": "stream",
          "name": "stdout",
          "text": [
            "Mounted at /content/drive\n"
          ]
        }
      ],
      "source": [
        "from google.colab import drive\n",
        "drive.mount('/content/drive')"
      ]
    },
    {
      "cell_type": "code",
      "source": [
        "TWSM_path = \"/content/drive/MyDrive/teaching/TWSM/WorkInClass/\"\n",
        "bing = pd.read_csv(TWSM_path+\"bing.csv\")\n",
        "\n",
        "bing"
      ],
      "metadata": {
        "colab": {
          "base_uri": "https://localhost:8080/",
          "height": 424
        },
        "id": "4qfh7ik6Pii9",
        "outputId": "144a6f6d-0477-4809-c1b1-5cf0292a7e09"
      },
      "execution_count": 5,
      "outputs": [
        {
          "output_type": "execute_result",
          "data": {
            "text/plain": [
              "      Unnamed: 0        word sentiment\n",
              "0              1     2-faces  negative\n",
              "1              2    abnormal  negative\n",
              "2              3     abolish  negative\n",
              "3              4  abominable  negative\n",
              "4              5  abominably  negative\n",
              "...          ...         ...       ...\n",
              "6781        6782   zealously  negative\n",
              "6782        6783      zenith  positive\n",
              "6783        6784        zest  positive\n",
              "6784        6785       zippy  positive\n",
              "6785        6786      zombie  negative\n",
              "\n",
              "[6786 rows x 3 columns]"
            ],
            "text/html": [
              "\n",
              "  <div id=\"df-8d2bbf7b-4f5d-4324-9608-733773b04812\">\n",
              "    <div class=\"colab-df-container\">\n",
              "      <div>\n",
              "<style scoped>\n",
              "    .dataframe tbody tr th:only-of-type {\n",
              "        vertical-align: middle;\n",
              "    }\n",
              "\n",
              "    .dataframe tbody tr th {\n",
              "        vertical-align: top;\n",
              "    }\n",
              "\n",
              "    .dataframe thead th {\n",
              "        text-align: right;\n",
              "    }\n",
              "</style>\n",
              "<table border=\"1\" class=\"dataframe\">\n",
              "  <thead>\n",
              "    <tr style=\"text-align: right;\">\n",
              "      <th></th>\n",
              "      <th>Unnamed: 0</th>\n",
              "      <th>word</th>\n",
              "      <th>sentiment</th>\n",
              "    </tr>\n",
              "  </thead>\n",
              "  <tbody>\n",
              "    <tr>\n",
              "      <th>0</th>\n",
              "      <td>1</td>\n",
              "      <td>2-faces</td>\n",
              "      <td>negative</td>\n",
              "    </tr>\n",
              "    <tr>\n",
              "      <th>1</th>\n",
              "      <td>2</td>\n",
              "      <td>abnormal</td>\n",
              "      <td>negative</td>\n",
              "    </tr>\n",
              "    <tr>\n",
              "      <th>2</th>\n",
              "      <td>3</td>\n",
              "      <td>abolish</td>\n",
              "      <td>negative</td>\n",
              "    </tr>\n",
              "    <tr>\n",
              "      <th>3</th>\n",
              "      <td>4</td>\n",
              "      <td>abominable</td>\n",
              "      <td>negative</td>\n",
              "    </tr>\n",
              "    <tr>\n",
              "      <th>4</th>\n",
              "      <td>5</td>\n",
              "      <td>abominably</td>\n",
              "      <td>negative</td>\n",
              "    </tr>\n",
              "    <tr>\n",
              "      <th>...</th>\n",
              "      <td>...</td>\n",
              "      <td>...</td>\n",
              "      <td>...</td>\n",
              "    </tr>\n",
              "    <tr>\n",
              "      <th>6781</th>\n",
              "      <td>6782</td>\n",
              "      <td>zealously</td>\n",
              "      <td>negative</td>\n",
              "    </tr>\n",
              "    <tr>\n",
              "      <th>6782</th>\n",
              "      <td>6783</td>\n",
              "      <td>zenith</td>\n",
              "      <td>positive</td>\n",
              "    </tr>\n",
              "    <tr>\n",
              "      <th>6783</th>\n",
              "      <td>6784</td>\n",
              "      <td>zest</td>\n",
              "      <td>positive</td>\n",
              "    </tr>\n",
              "    <tr>\n",
              "      <th>6784</th>\n",
              "      <td>6785</td>\n",
              "      <td>zippy</td>\n",
              "      <td>positive</td>\n",
              "    </tr>\n",
              "    <tr>\n",
              "      <th>6785</th>\n",
              "      <td>6786</td>\n",
              "      <td>zombie</td>\n",
              "      <td>negative</td>\n",
              "    </tr>\n",
              "  </tbody>\n",
              "</table>\n",
              "<p>6786 rows × 3 columns</p>\n",
              "</div>\n",
              "      <button class=\"colab-df-convert\" onclick=\"convertToInteractive('df-8d2bbf7b-4f5d-4324-9608-733773b04812')\"\n",
              "              title=\"Convert this dataframe to an interactive table.\"\n",
              "              style=\"display:none;\">\n",
              "        \n",
              "  <svg xmlns=\"http://www.w3.org/2000/svg\" height=\"24px\"viewBox=\"0 0 24 24\"\n",
              "       width=\"24px\">\n",
              "    <path d=\"M0 0h24v24H0V0z\" fill=\"none\"/>\n",
              "    <path d=\"M18.56 5.44l.94 2.06.94-2.06 2.06-.94-2.06-.94-.94-2.06-.94 2.06-2.06.94zm-11 1L8.5 8.5l.94-2.06 2.06-.94-2.06-.94L8.5 2.5l-.94 2.06-2.06.94zm10 10l.94 2.06.94-2.06 2.06-.94-2.06-.94-.94-2.06-.94 2.06-2.06.94z\"/><path d=\"M17.41 7.96l-1.37-1.37c-.4-.4-.92-.59-1.43-.59-.52 0-1.04.2-1.43.59L10.3 9.45l-7.72 7.72c-.78.78-.78 2.05 0 2.83L4 21.41c.39.39.9.59 1.41.59.51 0 1.02-.2 1.41-.59l7.78-7.78 2.81-2.81c.8-.78.8-2.07 0-2.86zM5.41 20L4 18.59l7.72-7.72 1.47 1.35L5.41 20z\"/>\n",
              "  </svg>\n",
              "      </button>\n",
              "      \n",
              "  <style>\n",
              "    .colab-df-container {\n",
              "      display:flex;\n",
              "      flex-wrap:wrap;\n",
              "      gap: 12px;\n",
              "    }\n",
              "\n",
              "    .colab-df-convert {\n",
              "      background-color: #E8F0FE;\n",
              "      border: none;\n",
              "      border-radius: 50%;\n",
              "      cursor: pointer;\n",
              "      display: none;\n",
              "      fill: #1967D2;\n",
              "      height: 32px;\n",
              "      padding: 0 0 0 0;\n",
              "      width: 32px;\n",
              "    }\n",
              "\n",
              "    .colab-df-convert:hover {\n",
              "      background-color: #E2EBFA;\n",
              "      box-shadow: 0px 1px 2px rgba(60, 64, 67, 0.3), 0px 1px 3px 1px rgba(60, 64, 67, 0.15);\n",
              "      fill: #174EA6;\n",
              "    }\n",
              "\n",
              "    [theme=dark] .colab-df-convert {\n",
              "      background-color: #3B4455;\n",
              "      fill: #D2E3FC;\n",
              "    }\n",
              "\n",
              "    [theme=dark] .colab-df-convert:hover {\n",
              "      background-color: #434B5C;\n",
              "      box-shadow: 0px 1px 3px 1px rgba(0, 0, 0, 0.15);\n",
              "      filter: drop-shadow(0px 1px 2px rgba(0, 0, 0, 0.3));\n",
              "      fill: #FFFFFF;\n",
              "    }\n",
              "  </style>\n",
              "\n",
              "      <script>\n",
              "        const buttonEl =\n",
              "          document.querySelector('#df-8d2bbf7b-4f5d-4324-9608-733773b04812 button.colab-df-convert');\n",
              "        buttonEl.style.display =\n",
              "          google.colab.kernel.accessAllowed ? 'block' : 'none';\n",
              "\n",
              "        async function convertToInteractive(key) {\n",
              "          const element = document.querySelector('#df-8d2bbf7b-4f5d-4324-9608-733773b04812');\n",
              "          const dataTable =\n",
              "            await google.colab.kernel.invokeFunction('convertToInteractive',\n",
              "                                                     [key], {});\n",
              "          if (!dataTable) return;\n",
              "\n",
              "          const docLinkHtml = 'Like what you see? Visit the ' +\n",
              "            '<a target=\"_blank\" href=https://colab.research.google.com/notebooks/data_table.ipynb>data table notebook</a>'\n",
              "            + ' to learn more about interactive tables.';\n",
              "          element.innerHTML = '';\n",
              "          dataTable['output_type'] = 'display_data';\n",
              "          await google.colab.output.renderOutput(dataTable, element);\n",
              "          const docLink = document.createElement('div');\n",
              "          docLink.innerHTML = docLinkHtml;\n",
              "          element.appendChild(docLink);\n",
              "        }\n",
              "      </script>\n",
              "    </div>\n",
              "  </div>\n",
              "  "
            ]
          },
          "metadata": {},
          "execution_count": 5
        }
      ]
    },
    {
      "cell_type": "markdown",
      "source": [
        ""
      ],
      "metadata": {
        "id": "2qNHjmb0Pyhq"
      }
    },
    {
      "cell_type": "markdown",
      "source": [
        ""
      ],
      "metadata": {
        "id": "wqKAMATyPyPG"
      }
    },
    {
      "cell_type": "markdown",
      "source": [
        "## Gutenberg"
      ],
      "metadata": {
        "id": "a1yymRS8ta7o"
      }
    },
    {
      "cell_type": "code",
      "source": [
        "!pip install gutenberg\n",
        "\n",
        "from gutenberg.acquire import load_etext\n",
        "from gutenberg.cleanup import strip_headers"
      ],
      "metadata": {
        "id": "_z87j_urtv6n",
        "colab": {
          "base_uri": "https://localhost:8080/"
        },
        "outputId": "2a6b8dcd-7b21-423a-e997-0355cb0dbe83"
      },
      "execution_count": 9,
      "outputs": [
        {
          "output_type": "stream",
          "name": "stdout",
          "text": [
            "Collecting gutenberg\n",
            "  Downloading Gutenberg-0.8.2-py3-none-any.whl (26 kB)\n",
            "Requirement already satisfied: future>=0.15.2 in /usr/local/lib/python3.7/dist-packages (from gutenberg) (0.16.0)\n",
            "Requirement already satisfied: setuptools>=18.5 in /usr/local/lib/python3.7/dist-packages (from gutenberg) (57.4.0)\n",
            "Requirement already satisfied: requests>=2.5.1 in /usr/local/lib/python3.7/dist-packages (from gutenberg) (2.23.0)\n",
            "Collecting rdflib<5.0.0,>=4.2.0\n",
            "  Downloading rdflib-4.2.2-py3-none-any.whl (344 kB)\n",
            "\u001b[K     |████████████████████████████████| 344 kB 8.4 MB/s \n",
            "\u001b[?25hCollecting pyparsing<3.0.0\n",
            "  Downloading pyparsing-2.4.7-py2.py3-none-any.whl (67 kB)\n",
            "\u001b[K     |████████████████████████████████| 67 kB 4.2 MB/s \n",
            "\u001b[?25hRequirement already satisfied: six>=1.10.0 in /usr/local/lib/python3.7/dist-packages (from gutenberg) (1.15.0)\n",
            "Collecting rdflib-sqlalchemy>=0.3.8\n",
            "  Downloading rdflib_sqlalchemy-0.5.1-py3-none-any.whl (19 kB)\n",
            "Collecting bsddb3>=6.1.0\n",
            "  Downloading bsddb3-6.2.9.tar.gz (230 kB)\n",
            "\u001b[K     |████████████████████████████████| 230 kB 48.4 MB/s \n",
            "\u001b[33mWARNING: Discarding https://files.pythonhosted.org/packages/f0/24/92034482656945fc6ceb10551222b43a0ff8d0c87e15839120487820067e/bsddb3-6.2.9.tar.gz#sha256=70d05ec8dc568f42e70fc919a442e0daadc2a905a1cfb7ca77f549d49d6e7801 (from https://pypi.org/simple/bsddb3/). Command errored out with exit status 1: python setup.py egg_info Check the logs for full command output.\u001b[0m\n",
            "\u001b[?25h  Downloading bsddb3-6.2.7.tar.gz (437 kB)\n",
            "\u001b[K     |████████████████████████████████| 437 kB 43.4 MB/s \n",
            "\u001b[33mWARNING: Discarding https://files.pythonhosted.org/packages/fa/ad/eb82bcccbfb076b6a6797f48c339460699103065fb2a2fc72403b16970fe/bsddb3-6.2.7.tar.gz#sha256=b0f7fa63eb240cd5815809c9d1d7df9f7cc8d6fa9619d0edbe9c794afc02dc9f (from https://pypi.org/simple/bsddb3/). Command errored out with exit status 1: python setup.py egg_info Check the logs for full command output.\u001b[0m\n",
            "\u001b[?25h  Downloading bsddb3-6.2.6.tar.gz (239 kB)\n",
            "\u001b[K     |████████████████████████████████| 239 kB 54.8 MB/s \n",
            "\u001b[33mWARNING: Discarding https://files.pythonhosted.org/packages/e9/fc/ebfbd4de236b493f9ece156f816c21df0ae87ccc22604c5f9b664efef1b9/bsddb3-6.2.6.tar.gz#sha256=42d621f4037425afcb16b67d5600c4556271a071a9a7f7f2c2b1ba65bc582d05 (from https://pypi.org/simple/bsddb3/). Command errored out with exit status 1: python setup.py egg_info Check the logs for full command output.\u001b[0m\n",
            "\u001b[?25h  Downloading bsddb3-6.2.5.tar.gz (237 kB)\n",
            "\u001b[K     |████████████████████████████████| 237 kB 58.5 MB/s \n",
            "\u001b[33mWARNING: Discarding https://files.pythonhosted.org/packages/ba/a7/131dfd4e3a5002ef30e20bee679d5e6bcb2fcc6af21bd5079dc1707a132c/bsddb3-6.2.5.tar.gz#sha256=784bf40ad935258507594a89b32ea11f362cde120751c8b96de163955ced7db8 (from https://pypi.org/simple/bsddb3/). Command errored out with exit status 1: python setup.py egg_info Check the logs for full command output.\u001b[0m\n",
            "\u001b[?25h  Downloading bsddb3-6.2.4.tar.gz (242 kB)\n",
            "\u001b[K     |████████████████████████████████| 242 kB 55.1 MB/s \n",
            "\u001b[33mWARNING: Discarding https://files.pythonhosted.org/packages/8d/9b/c3b01ff14e19254b2e031d8ae5ebe472e5523a47acc6f7d49300960d406d/bsddb3-6.2.4.tar.gz#sha256=4866aa32ad6ec6d5ff401d9aec8da07c4e84502298dc27f7c758545e243550e6 (from https://pypi.org/simple/bsddb3/). Command errored out with exit status 1: python setup.py egg_info Check the logs for full command output.\u001b[0m\n",
            "\u001b[?25h  Downloading bsddb3-6.2.3.tar.gz (240 kB)\n",
            "\u001b[K     |████████████████████████████████| 240 kB 65.2 MB/s \n",
            "\u001b[33mWARNING: Discarding https://files.pythonhosted.org/packages/04/22/5e7151ce2774300d821d14c6f2254cee3da72a50468f5089311d41621c7e/bsddb3-6.2.3.tar.gz#sha256=b5454d631949d83674651020331dbed8c8b8288225139bb005dac3aea940c989 (from https://pypi.org/simple/bsddb3/). Command errored out with exit status 1: python setup.py egg_info Check the logs for full command output.\u001b[0m\n",
            "\u001b[?25h  Downloading bsddb3-6.2.2.tar.gz (239 kB)\n",
            "\u001b[K     |████████████████████████████████| 239 kB 51.7 MB/s \n",
            "\u001b[33mWARNING: Discarding https://files.pythonhosted.org/packages/f7/37/d19c08c8ac6098cf73ebfe51e428045dcf39ba5f031fa129ab018dd70b07/bsddb3-6.2.2.tar.gz#sha256=6f013e1155ffb212678435bb06decb50df5b138c2d96e7f297fe9b4a27a60f50 (from https://pypi.org/simple/bsddb3/). Command errored out with exit status 1: python setup.py egg_info Check the logs for full command output.\u001b[0m\n",
            "\u001b[?25h  Downloading bsddb3-6.2.1.zip (326 kB)\n",
            "\u001b[K     |████████████████████████████████| 326 kB 42.1 MB/s \n",
            "\u001b[33mWARNING: Discarding https://files.pythonhosted.org/packages/b2/a8/b200f97abf1e3742968b4f0418fa2e5541032837f49355ffa2362dab29c2/bsddb3-6.2.1.zip#sha256=9c315efddbff5e8e7a156fb31eacd9535ae0df2b48cbc72c3e12bc78951b6e31 (from https://pypi.org/simple/bsddb3/). Command errored out with exit status 1: python setup.py egg_info Check the logs for full command output.\u001b[0m\n",
            "\u001b[?25h  Downloading bsddb3-6.2.1.tar.gz (228 kB)\n",
            "\u001b[K     |████████████████████████████████| 228 kB 44.4 MB/s \n",
            "\u001b[33mWARNING: Discarding https://files.pythonhosted.org/packages/73/73/58954679be79a1c6031a421c81f3c8e283cd700455ad3af1de7da8fabd67/bsddb3-6.2.1.tar.gz#sha256=319a599236b0843a36c17749c0041c18a07ef28dbe9539064fd7c0fff972567c (from https://pypi.org/simple/bsddb3/). Command errored out with exit status 1: python setup.py egg_info Check the logs for full command output.\u001b[0m\n",
            "\u001b[?25h  Downloading bsddb3-6.2.0.zip (325 kB)\n",
            "\u001b[K     |████████████████████████████████| 325 kB 55.1 MB/s \n",
            "\u001b[33mWARNING: Discarding https://files.pythonhosted.org/packages/f7/cf/60c3e5cf4e3f8f6295a0f47b64a743db75c460dc7acada57b1e70a1e9fa5/bsddb3-6.2.0.zip#sha256=1908ec59d5ddd7238d7a18450f9363f30785f03d16a45e3269a1890fb4935ac6 (from https://pypi.org/simple/bsddb3/). Command errored out with exit status 1: python setup.py egg_info Check the logs for full command output.\u001b[0m\n",
            "\u001b[?25h  Downloading bsddb3-6.2.0.tar.gz (236 kB)\n",
            "\u001b[K     |████████████████████████████████| 236 kB 63.9 MB/s \n",
            "\u001b[33mWARNING: Discarding https://files.pythonhosted.org/packages/df/e7/0498e403ade8b37eec52a79998c8d9e3e40e2d16795ee26fc863be5c2341/bsddb3-6.2.0.tar.gz#sha256=3c24cb287e1dd08be387a2b4d32ae5dfeba5ef4e3785878f0030e4d4f608aba9 (from https://pypi.org/simple/bsddb3/). Command errored out with exit status 1: python setup.py egg_info Check the logs for full command output.\u001b[0m\n",
            "\u001b[?25h  Downloading bsddb3-6.1.1.zip (563 kB)\n",
            "\u001b[K     |████████████████████████████████| 563 kB 51.3 MB/s \n",
            "\u001b[33mWARNING: Discarding https://files.pythonhosted.org/packages/61/d6/65d31212d01f423e75f89386817791029fb87be8ac83c4ff294c61dba07a/bsddb3-6.1.1.zip#sha256=52a357a648d2a2f58de1f3f6c2606629fdd58f6cd5079271d8a1a7156874c55f (from https://pypi.org/simple/bsddb3/). Command errored out with exit status 1: python setup.py egg_info Check the logs for full command output.\u001b[0m\n",
            "\u001b[?25h  Downloading bsddb3-6.1.1.tar.gz (450 kB)\n",
            "\u001b[K     |████████████████████████████████| 450 kB 55.5 MB/s \n",
            "\u001b[33mWARNING: Discarding https://files.pythonhosted.org/packages/95/1c/e8fb33007192f30b9a7276560c3c16499ab2a2c08abc59141b84e1afd3a9/bsddb3-6.1.1.tar.gz#sha256=6f21b0252125c07798d784c164ef135ad153d226c01b290258ee1c5b9e7c4dd3 (from https://pypi.org/simple/bsddb3/). Command errored out with exit status 1: python setup.py egg_info Check the logs for full command output.\u001b[0m\n",
            "\u001b[?25h  Downloading bsddb3-6.1.0.zip (456 kB)\n",
            "\u001b[K     |████████████████████████████████| 456 kB 45.5 MB/s \n",
            "\u001b[33mWARNING: Discarding https://files.pythonhosted.org/packages/a3/ea/b07fb1c39758e0ec29bf6f98753b56bc3f1f25dafb0aa1d0eeb1b254864e/bsddb3-6.1.0.zip#sha256=6bd427b5a9b0f7e4f0b6a32046de6919feff1065b625eb5bbbef0bfa17db2325 (from https://pypi.org/simple/bsddb3/). Command errored out with exit status 1: python setup.py egg_info Check the logs for full command output.\u001b[0m\n",
            "\u001b[?25h  Downloading bsddb3-6.1.0.tar.gz (340 kB)\n",
            "\u001b[K     |████████████████████████████████| 340 kB 57.6 MB/s \n",
            "\u001b[33mWARNING: Discarding https://files.pythonhosted.org/packages/3d/4d/aa534edd481c196071eb6a8295b8be14d4dec830a51b298ba26cb24c6149/bsddb3-6.1.0.tar.gz#sha256=b13163e3891c32390aea66edcf7880eb245abc89199a766b7b1907fc5c1efd15 (from https://pypi.org/simple/bsddb3/). Command errored out with exit status 1: python setup.py egg_info Check the logs for full command output.\u001b[0m\n",
            "\u001b[?25hCollecting gutenberg\n",
            "  Downloading Gutenberg-0.8.1.tar.gz (19 kB)\n",
            "Collecting SPARQLWrapper>=1.8.2\n",
            "  Downloading SPARQLWrapper-2.0.0-py3-none-any.whl (28 kB)\n",
            "Collecting gutenberg\n",
            "  Downloading Gutenberg-0.8.0.tar.gz (20 kB)\n",
            "  Downloading Gutenberg-0.7.0.tar.gz (18 kB)\n",
            "\u001b[33mWARNING: Discarding https://files.pythonhosted.org/packages/14/b1/6e99867c38e70d46366966a0a861c580377f38312cf9dbad38b82ed1823d/Gutenberg-0.7.0.tar.gz#sha256=f033d038ca77a9fa367d4b655be89280758b039bbd80fdcc433ef2462d7b52db (from https://pypi.org/simple/gutenberg/) (requires-python:>=2.7.*,!=3.0.*,!=3.1.*,!=3.2.*,!=3.3.*). Command errored out with exit status 1: python setup.py egg_info Check the logs for full command output.\u001b[0m\n",
            "  Downloading Gutenberg-0.6.1.tar.gz (18 kB)\n",
            "\u001b[33mWARNING: Discarding https://files.pythonhosted.org/packages/f0/1e/46097d6f4240533c6d8a98161da0ebfa7b03fd8e61fed50866ed7686df2e/Gutenberg-0.6.1.tar.gz#sha256=351256dc33319a2b371fa68ec9019be409823cde5f3fd0b318ea50ccfc41c6d8 (from https://pypi.org/simple/gutenberg/) (requires-python:>=2.7.*,!=3.0.*,!=3.1.*,!=3.2.*,!=3.3.*). Command errored out with exit status 1: python setup.py egg_info Check the logs for full command output.\u001b[0m\n",
            "  Downloading Gutenberg-0.5.0.tar.gz (16 kB)\n",
            "\u001b[33mWARNING: Discarding https://files.pythonhosted.org/packages/08/ca/94eee4b5ffef01f973c31fe66c9e3c0f1b3bd786a8a67f38c8c113b281d4/Gutenberg-0.5.0.tar.gz#sha256=9d6dab6b57a79033f4a63145aabe5ffe01a542ea6e82e643f4f9f8dc776cc709 (from https://pypi.org/simple/gutenberg/). Command errored out with exit status 1: python setup.py egg_info Check the logs for full command output.\u001b[0m\n",
            "  Downloading Gutenberg-0.4.5.tar.gz (14 kB)\n",
            "\u001b[33mWARNING: Discarding https://files.pythonhosted.org/packages/f8/4c/97c1854f619c21b6a9d6b0ab0e3502e0aa82d827448cb60252333b52c76a/Gutenberg-0.4.5.tar.gz#sha256=08feb04f77d46bff52732d0551a678f2c16151ab94cfa3148c9da1a6680d9c85 (from https://pypi.org/simple/gutenberg/). Command errored out with exit status 1: python setup.py egg_info Check the logs for full command output.\u001b[0m\n",
            "  Downloading Gutenberg-0.4.4.tar.gz (14 kB)\n",
            "\u001b[33mWARNING: Discarding https://files.pythonhosted.org/packages/8a/66/4924f00056d0377e2b73190ba28e64328ecfb2a210a1808681c36ac4a120/Gutenberg-0.4.4.tar.gz#sha256=0ad7f200ce14017849e7912d76842dc41bfcc4425413736f54a3463019399390 (from https://pypi.org/simple/gutenberg/). Command errored out with exit status 1: python setup.py egg_info Check the logs for full command output.\u001b[0m\n",
            "  Downloading Gutenberg-0.4.2.tar.gz (10 kB)\n",
            "  Downloading Gutenberg-0.4.1.tar.gz (9.9 kB)\n",
            "\u001b[33mWARNING: Discarding https://files.pythonhosted.org/packages/6e/52/9d00f84986e30f39d3926b9e58ca418431f0497ace818b30b1bf8b6bb3c5/Gutenberg-0.4.1.tar.gz#sha256=286525e599303c09a803616426647229bef65bca0cfe94e222b751ccbb591230 (from https://pypi.org/simple/gutenberg/). Command errored out with exit status 1: python setup.py egg_info Check the logs for full command output.\u001b[0m\n",
            "  Downloading Gutenberg-0.4.0.tar.gz (14 kB)\n",
            "Collecting rdflib>=4.2.0\n",
            "  Downloading rdflib-6.1.1-py3-none-any.whl (482 kB)\n",
            "\u001b[K     |████████████████████████████████| 482 kB 45.7 MB/s \n",
            "\u001b[?25hCollecting isodate\n",
            "  Downloading isodate-0.6.1-py2.py3-none-any.whl (41 kB)\n",
            "\u001b[K     |████████████████████████████████| 41 kB 490 kB/s \n",
            "\u001b[?25hRequirement already satisfied: pyparsing in /usr/local/lib/python3.7/dist-packages (from rdflib>=4.2.0->gutenberg) (3.0.7)\n",
            "Requirement already satisfied: importlib-metadata in /usr/local/lib/python3.7/dist-packages (from rdflib>=4.2.0->gutenberg) (4.11.3)\n",
            "Requirement already satisfied: certifi>=2017.4.17 in /usr/local/lib/python3.7/dist-packages (from requests>=2.5.1->gutenberg) (2021.10.8)\n",
            "Requirement already satisfied: idna<3,>=2.5 in /usr/local/lib/python3.7/dist-packages (from requests>=2.5.1->gutenberg) (2.10)\n",
            "Requirement already satisfied: chardet<4,>=3.0.2 in /usr/local/lib/python3.7/dist-packages (from requests>=2.5.1->gutenberg) (3.0.4)\n",
            "Requirement already satisfied: urllib3!=1.25.0,!=1.25.1,<1.26,>=1.21.1 in /usr/local/lib/python3.7/dist-packages (from requests>=2.5.1->gutenberg) (1.24.3)\n",
            "Requirement already satisfied: typing-extensions>=3.6.4 in /usr/local/lib/python3.7/dist-packages (from importlib-metadata->rdflib>=4.2.0->gutenberg) (3.10.0.2)\n",
            "Requirement already satisfied: zipp>=0.5 in /usr/local/lib/python3.7/dist-packages (from importlib-metadata->rdflib>=4.2.0->gutenberg) (3.7.0)\n",
            "Building wheels for collected packages: gutenberg\n",
            "  Building wheel for gutenberg (setup.py) ... \u001b[?25l\u001b[?25hdone\n",
            "  Created wheel for gutenberg: filename=Gutenberg-0.4.0-py3-none-any.whl size=18370 sha256=1ba46a8b94c04e0c4a992c190a663691f91cee0a9514dfd15cbadc3bf91da335\n",
            "  Stored in directory: /root/.cache/pip/wheels/c6/96/73/f2b85aa3f6087eae6df052effeb195396cc0e2e56965bcb52f\n",
            "Successfully built gutenberg\n",
            "Installing collected packages: isodate, rdflib, gutenberg\n",
            "Successfully installed gutenberg-0.4.0 isodate-0.6.1 rdflib-6.1.1\n"
          ]
        }
      ]
    },
    {
      "cell_type": "code",
      "source": [
        "text = strip_headers(load_etext(42671)).strip()\n",
        "#text = load_etext(42671)\n",
        "#print(text)"
      ],
      "metadata": {
        "id": "vKy-W6a-twxh"
      },
      "execution_count": 10,
      "outputs": []
    },
    {
      "cell_type": "code",
      "source": [
        "TWSM_path = \"/content/drive/MyDrive/teaching/TWSM/WorkInClass/\"\n",
        "afinn = pd.read_csv(TWSM_path+\"afinn.csv\")\n",
        "\n",
        "afinn"
      ],
      "metadata": {
        "colab": {
          "base_uri": "https://localhost:8080/",
          "height": 424
        },
        "id": "rPYoge-eiNcc",
        "outputId": "63ed03a8-78ce-40d8-874f-32aed9990c31"
      },
      "execution_count": 11,
      "outputs": [
        {
          "output_type": "execute_result",
          "data": {
            "text/plain": [
              "      Unnamed: 0       word  value\n",
              "0              1    abandon     -2\n",
              "1              2  abandoned     -2\n",
              "2              3   abandons     -2\n",
              "3              4   abducted     -2\n",
              "4              5  abduction     -2\n",
              "...          ...        ...    ...\n",
              "2472        2473      yucky     -2\n",
              "2473        2474      yummy      3\n",
              "2474        2475     zealot     -2\n",
              "2475        2476    zealots     -2\n",
              "2476        2477    zealous      2\n",
              "\n",
              "[2477 rows x 3 columns]"
            ],
            "text/html": [
              "\n",
              "  <div id=\"df-c740f181-09b4-48e4-a226-d85dc5a3bb33\">\n",
              "    <div class=\"colab-df-container\">\n",
              "      <div>\n",
              "<style scoped>\n",
              "    .dataframe tbody tr th:only-of-type {\n",
              "        vertical-align: middle;\n",
              "    }\n",
              "\n",
              "    .dataframe tbody tr th {\n",
              "        vertical-align: top;\n",
              "    }\n",
              "\n",
              "    .dataframe thead th {\n",
              "        text-align: right;\n",
              "    }\n",
              "</style>\n",
              "<table border=\"1\" class=\"dataframe\">\n",
              "  <thead>\n",
              "    <tr style=\"text-align: right;\">\n",
              "      <th></th>\n",
              "      <th>Unnamed: 0</th>\n",
              "      <th>word</th>\n",
              "      <th>value</th>\n",
              "    </tr>\n",
              "  </thead>\n",
              "  <tbody>\n",
              "    <tr>\n",
              "      <th>0</th>\n",
              "      <td>1</td>\n",
              "      <td>abandon</td>\n",
              "      <td>-2</td>\n",
              "    </tr>\n",
              "    <tr>\n",
              "      <th>1</th>\n",
              "      <td>2</td>\n",
              "      <td>abandoned</td>\n",
              "      <td>-2</td>\n",
              "    </tr>\n",
              "    <tr>\n",
              "      <th>2</th>\n",
              "      <td>3</td>\n",
              "      <td>abandons</td>\n",
              "      <td>-2</td>\n",
              "    </tr>\n",
              "    <tr>\n",
              "      <th>3</th>\n",
              "      <td>4</td>\n",
              "      <td>abducted</td>\n",
              "      <td>-2</td>\n",
              "    </tr>\n",
              "    <tr>\n",
              "      <th>4</th>\n",
              "      <td>5</td>\n",
              "      <td>abduction</td>\n",
              "      <td>-2</td>\n",
              "    </tr>\n",
              "    <tr>\n",
              "      <th>...</th>\n",
              "      <td>...</td>\n",
              "      <td>...</td>\n",
              "      <td>...</td>\n",
              "    </tr>\n",
              "    <tr>\n",
              "      <th>2472</th>\n",
              "      <td>2473</td>\n",
              "      <td>yucky</td>\n",
              "      <td>-2</td>\n",
              "    </tr>\n",
              "    <tr>\n",
              "      <th>2473</th>\n",
              "      <td>2474</td>\n",
              "      <td>yummy</td>\n",
              "      <td>3</td>\n",
              "    </tr>\n",
              "    <tr>\n",
              "      <th>2474</th>\n",
              "      <td>2475</td>\n",
              "      <td>zealot</td>\n",
              "      <td>-2</td>\n",
              "    </tr>\n",
              "    <tr>\n",
              "      <th>2475</th>\n",
              "      <td>2476</td>\n",
              "      <td>zealots</td>\n",
              "      <td>-2</td>\n",
              "    </tr>\n",
              "    <tr>\n",
              "      <th>2476</th>\n",
              "      <td>2477</td>\n",
              "      <td>zealous</td>\n",
              "      <td>2</td>\n",
              "    </tr>\n",
              "  </tbody>\n",
              "</table>\n",
              "<p>2477 rows × 3 columns</p>\n",
              "</div>\n",
              "      <button class=\"colab-df-convert\" onclick=\"convertToInteractive('df-c740f181-09b4-48e4-a226-d85dc5a3bb33')\"\n",
              "              title=\"Convert this dataframe to an interactive table.\"\n",
              "              style=\"display:none;\">\n",
              "        \n",
              "  <svg xmlns=\"http://www.w3.org/2000/svg\" height=\"24px\"viewBox=\"0 0 24 24\"\n",
              "       width=\"24px\">\n",
              "    <path d=\"M0 0h24v24H0V0z\" fill=\"none\"/>\n",
              "    <path d=\"M18.56 5.44l.94 2.06.94-2.06 2.06-.94-2.06-.94-.94-2.06-.94 2.06-2.06.94zm-11 1L8.5 8.5l.94-2.06 2.06-.94-2.06-.94L8.5 2.5l-.94 2.06-2.06.94zm10 10l.94 2.06.94-2.06 2.06-.94-2.06-.94-.94-2.06-.94 2.06-2.06.94z\"/><path d=\"M17.41 7.96l-1.37-1.37c-.4-.4-.92-.59-1.43-.59-.52 0-1.04.2-1.43.59L10.3 9.45l-7.72 7.72c-.78.78-.78 2.05 0 2.83L4 21.41c.39.39.9.59 1.41.59.51 0 1.02-.2 1.41-.59l7.78-7.78 2.81-2.81c.8-.78.8-2.07 0-2.86zM5.41 20L4 18.59l7.72-7.72 1.47 1.35L5.41 20z\"/>\n",
              "  </svg>\n",
              "      </button>\n",
              "      \n",
              "  <style>\n",
              "    .colab-df-container {\n",
              "      display:flex;\n",
              "      flex-wrap:wrap;\n",
              "      gap: 12px;\n",
              "    }\n",
              "\n",
              "    .colab-df-convert {\n",
              "      background-color: #E8F0FE;\n",
              "      border: none;\n",
              "      border-radius: 50%;\n",
              "      cursor: pointer;\n",
              "      display: none;\n",
              "      fill: #1967D2;\n",
              "      height: 32px;\n",
              "      padding: 0 0 0 0;\n",
              "      width: 32px;\n",
              "    }\n",
              "\n",
              "    .colab-df-convert:hover {\n",
              "      background-color: #E2EBFA;\n",
              "      box-shadow: 0px 1px 2px rgba(60, 64, 67, 0.3), 0px 1px 3px 1px rgba(60, 64, 67, 0.15);\n",
              "      fill: #174EA6;\n",
              "    }\n",
              "\n",
              "    [theme=dark] .colab-df-convert {\n",
              "      background-color: #3B4455;\n",
              "      fill: #D2E3FC;\n",
              "    }\n",
              "\n",
              "    [theme=dark] .colab-df-convert:hover {\n",
              "      background-color: #434B5C;\n",
              "      box-shadow: 0px 1px 3px 1px rgba(0, 0, 0, 0.15);\n",
              "      filter: drop-shadow(0px 1px 2px rgba(0, 0, 0, 0.3));\n",
              "      fill: #FFFFFF;\n",
              "    }\n",
              "  </style>\n",
              "\n",
              "      <script>\n",
              "        const buttonEl =\n",
              "          document.querySelector('#df-c740f181-09b4-48e4-a226-d85dc5a3bb33 button.colab-df-convert');\n",
              "        buttonEl.style.display =\n",
              "          google.colab.kernel.accessAllowed ? 'block' : 'none';\n",
              "\n",
              "        async function convertToInteractive(key) {\n",
              "          const element = document.querySelector('#df-c740f181-09b4-48e4-a226-d85dc5a3bb33');\n",
              "          const dataTable =\n",
              "            await google.colab.kernel.invokeFunction('convertToInteractive',\n",
              "                                                     [key], {});\n",
              "          if (!dataTable) return;\n",
              "\n",
              "          const docLinkHtml = 'Like what you see? Visit the ' +\n",
              "            '<a target=\"_blank\" href=https://colab.research.google.com/notebooks/data_table.ipynb>data table notebook</a>'\n",
              "            + ' to learn more about interactive tables.';\n",
              "          element.innerHTML = '';\n",
              "          dataTable['output_type'] = 'display_data';\n",
              "          await google.colab.output.renderOutput(dataTable, element);\n",
              "          const docLink = document.createElement('div');\n",
              "          docLink.innerHTML = docLinkHtml;\n",
              "          element.appendChild(docLink);\n",
              "        }\n",
              "      </script>\n",
              "    </div>\n",
              "  </div>\n",
              "  "
            ]
          },
          "metadata": {},
          "execution_count": 11
        }
      ]
    },
    {
      "cell_type": "code",
      "source": [
        "dic = afinn\n",
        "\n",
        "#sentiment_merge = pd.merge(dic, df_words, how=\"inner\", on=\"word\")\n",
        "#sentiment_merge = pd.merge(dic, df_words, left_on=\"word\", right_on=\"words\")\n",
        "#sentiment_merge[\"total_value\"] = sentiment_merge[\"value\"] * sentiment_merge[\"counts\"]\n",
        "#ovr_score = np.mean(sentiment_merge[\"total_value\"])\n",
        "\n",
        "#print(ovr_score)"
      ],
      "metadata": {
        "id": "bIH6ufMKhzqM"
      },
      "execution_count": null,
      "outputs": []
    },
    {
      "cell_type": "markdown",
      "source": [
        ""
      ],
      "metadata": {
        "id": "e3ofzmU3fbUH"
      }
    },
    {
      "cell_type": "markdown",
      "source": [
        "## IMD Movie Reviews\n"
      ],
      "metadata": {
        "id": "QG0vmczitVQy"
      }
    },
    {
      "cell_type": "markdown",
      "source": [
        "***Loading the IMDB dataset***"
      ],
      "metadata": {
        "id": "ljUFLmLJtlnA"
      }
    },
    {
      "cell_type": "code",
      "source": [
        "from tensorflow.keras.datasets import imdb\n",
        "(train_data, train_labels), (test_data, test_labels) = imdb.load_data(\n",
        "    num_words=10000)"
      ],
      "metadata": {
        "colab": {
          "base_uri": "https://localhost:8080/"
        },
        "id": "PMLV2uy1tmpe",
        "outputId": "cc525844-8bd9-40b3-f9cb-1aa397ab26b7"
      },
      "execution_count": 14,
      "outputs": [
        {
          "output_type": "stream",
          "name": "stdout",
          "text": [
            "Downloading data from https://storage.googleapis.com/tensorflow/tf-keras-datasets/imdb.npz\n",
            "17465344/17464789 [==============================] - 0s 0us/step\n",
            "17473536/17464789 [==============================] - 0s 0us/step\n"
          ]
        }
      ]
    },
    {
      "cell_type": "markdown",
      "source": [
        "**Decoding reviews back to text**"
      ],
      "metadata": {
        "id": "6xrmGZDsPfUr"
      }
    },
    {
      "cell_type": "code",
      "source": [
        "word_index = imdb.get_word_index()\n",
        "reverse_word_index = dict(\n",
        "    [(value, key) for (key, value) in word_index.items()])\n",
        "decoded_review = \" \".join(\n",
        "    [reverse_word_index.get(i - 3, \"?\") for i in train_data[0]])\n",
        "\n",
        "decoded_review"
      ],
      "metadata": {
        "colab": {
          "base_uri": "https://localhost:8080/",
          "height": 209
        },
        "id": "muyre50UtroS",
        "outputId": "170852e9-9d9f-4419-b8df-54923e527602"
      },
      "execution_count": 15,
      "outputs": [
        {
          "output_type": "stream",
          "name": "stdout",
          "text": [
            "Downloading data from https://storage.googleapis.com/tensorflow/tf-keras-datasets/imdb_word_index.json\n",
            "1646592/1641221 [==============================] - 0s 0us/step\n",
            "1654784/1641221 [==============================] - 0s 0us/step\n"
          ]
        },
        {
          "output_type": "execute_result",
          "data": {
            "text/plain": [
              "\"? this film was just brilliant casting location scenery story direction everyone's really suited the part they played and you could just imagine being there robert ? is an amazing actor and now the same being director ? father came from the same scottish island as myself so i loved the fact there was a real connection with this film the witty remarks throughout the film were great it was just brilliant so much that i bought the film as soon as it was released for ? and would recommend it to everyone to watch and the fly fishing was amazing really cried at the end it was so sad and you know what they say if you cry at a film it must have been good and this definitely was also ? to the two little boy's that played the ? of norman and paul they were just brilliant children are often left out of the ? list i think because the stars that play them all grown up are such a big profile for the whole film but these children are amazing and should be praised for what they have done don't you think the whole story was so lovely because it was true and was someone's life after all that was shared with us all\""
            ],
            "application/vnd.google.colaboratory.intrinsic+json": {
              "type": "string"
            }
          },
          "metadata": {},
          "execution_count": 15
        }
      ]
    },
    {
      "cell_type": "code",
      "source": [
        "N=len(train_data)\n",
        "decoded_reviews = [\"\" for x in range(N)]\n",
        "\n",
        "for j in range(N):\n",
        "  decoded_reviews[j] = \" \".join(\n",
        "    [reverse_word_index.get(i - 3, \"?\") for i in train_data[j]])"
      ],
      "metadata": {
        "id": "1Mo-oPtJPj6r"
      },
      "execution_count": null,
      "outputs": []
    },
    {
      "cell_type": "code",
      "source": [
        "re.findall(\"robert\", decoded_review)"
      ],
      "metadata": {
        "id": "DAp3KFrlPt-8"
      },
      "execution_count": null,
      "outputs": []
    },
    {
      "cell_type": "markdown",
      "source": [
        "### Tasks\n",
        "\n",
        "Build a classifier on the train data in at least five different ways:\n",
        "\n",
        "1. using sentiment analysis\n",
        "2. using term frequencies in at least **4** different flavors.\n",
        "\n",
        "The data set in 2. is VERY high-dimensional so please choose a classifier that can deal with feature selection."
      ],
      "metadata": {
        "id": "aahZJsZnisW8"
      }
    },
    {
      "cell_type": "markdown",
      "source": [
        "## 20-Newsgroups "
      ],
      "metadata": {
        "id": "ZJQNWqzltfPF"
      }
    },
    {
      "cell_type": "markdown",
      "metadata": {
        "id": "cZPVKf76JJf5"
      },
      "source": [
        "In this exercise, we will be using the 20-Newsgroups dataset. This version of the dataset contains about 11k newsgroups posts from 20 different topics."
      ]
    },
    {
      "cell_type": "markdown",
      "source": [
        ""
      ],
      "metadata": {
        "id": "y2vYL0x6tURi"
      }
    },
    {
      "cell_type": "code",
      "execution_count": null,
      "metadata": {
        "id": "8pt8XPwpJJf6"
      },
      "outputs": [],
      "source": [
        "# Import packages\n",
        "import pandas as pd\n",
        "import re\n",
        "from gensim.parsing.preprocessing import STOPWORDS, strip_tags, strip_numeric, strip_punctuation, strip_multiple_whitespaces, remove_stopwords, strip_short, stem_text\n",
        "import pickle\n",
        "import en_core_web_sm\n",
        "import nltk\n",
        "nltk.download('stopwords')"
      ]
    },
    {
      "cell_type": "code",
      "execution_count": null,
      "metadata": {
        "id": "iqbibgI_Apwb"
      },
      "outputs": [],
      "source": [
        "from nltk.corpus import stopwords"
      ]
    },
    {
      "cell_type": "markdown",
      "metadata": {
        "id": "5NRuxwx9JJf8"
      },
      "source": [
        "# 1. Import and examine data"
      ]
    },
    {
      "cell_type": "code",
      "execution_count": null,
      "metadata": {
        "id": "p34gaa_tJJf8"
      },
      "outputs": [],
      "source": [
        "# Import dataset\n",
        "df = pd.read_json('https://raw.githubusercontent.com/selva86/datasets/master/newsgroups.json')\n",
        "df.head()"
      ]
    },
    {
      "cell_type": "code",
      "execution_count": null,
      "metadata": {
        "id": "zSKKAbCIJJf8"
      },
      "outputs": [],
      "source": [
        "# Examine dataset\n",
        "print('Possible tagret values:')\n",
        "print(df.target_names.unique())\n",
        "print(' ')\n",
        "print('Class distribution:')\n",
        "print(df.target_names.value_counts())"
      ]
    },
    {
      "cell_type": "markdown",
      "source": [
        "*The classes are almost uniformly distributed.*"
      ],
      "metadata": {
        "id": "Jj_tNUJnvI9D"
      }
    },
    {
      "cell_type": "markdown",
      "metadata": {
        "id": "gCGteqesJJf9"
      },
      "source": [
        "\n",
        "## NLP in spacy\n"
      ]
    },
    {
      "cell_type": "code",
      "source": [
        "import spacy\n",
        "nlp = spacy.load('en')"
      ],
      "metadata": {
        "id": "xgo8-H37hrmS"
      },
      "execution_count": null,
      "outputs": []
    },
    {
      "cell_type": "code",
      "source": [
        "doc = nlp(u\"Apples and oranges are similar. Boots and hippos aren't.\")\n",
        "\n",
        "for token in doc:\n",
        "    print(token,  token.lemma_)"
      ],
      "metadata": {
        "id": "ZT0C-uI0h50V"
      },
      "execution_count": null,
      "outputs": []
    }
  ],
  "metadata": {
    "colab": {
      "name": "Class2.ipynb",
      "provenance": [],
      "collapsed_sections": [],
      "include_colab_link": true
    },
    "kernelspec": {
      "display_name": "Python 3",
      "language": "python",
      "name": "python3"
    },
    "language_info": {
      "codemirror_mode": {
        "name": "ipython",
        "version": 3
      },
      "file_extension": ".py",
      "mimetype": "text/x-python",
      "name": "python",
      "nbconvert_exporter": "python",
      "pygments_lexer": "ipython3",
      "version": "3.8.3"
    }
  },
  "nbformat": 4,
  "nbformat_minor": 0
}