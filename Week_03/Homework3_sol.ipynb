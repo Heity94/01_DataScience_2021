{
 "cells": [
  {
   "cell_type": "markdown",
   "metadata": {},
   "source": [
    "# Homework 3\n",
    "\n",
    "**Bootstrap and Testing**\n",
    "\n",
    "1. Test the hypothesis that the survival rates for female passengers in Pclass 1 was no larger than in Pclass 2.\n",
    "2. Create a boxplot `mpg ~ cylinders`. It does seem that the mpg for cars with 4 cylinders is quite different from those with 3 cylinders. What does a bootstrap test tell you about this hypothesis?\n",
    "3. Can you think of more interesting hypotheses to test regarding the pregnancy data ?"
   ]
  },
  {
   "cell_type": "code",
   "execution_count": 29,
   "metadata": {},
   "outputs": [],
   "source": [
    "# running our functions\n",
    "%run ../ourFunctions.py"
   ]
  },
  {
   "cell_type": "code",
   "execution_count": 30,
   "metadata": {},
   "outputs": [
    {
     "data": {
      "text/html": [
       "<div>\n",
       "<style scoped>\n",
       "    .dataframe tbody tr th:only-of-type {\n",
       "        vertical-align: middle;\n",
       "    }\n",
       "\n",
       "    .dataframe tbody tr th {\n",
       "        vertical-align: top;\n",
       "    }\n",
       "\n",
       "    .dataframe thead th {\n",
       "        text-align: right;\n",
       "    }\n",
       "</style>\n",
       "<table border=\"1\" class=\"dataframe\">\n",
       "  <thead>\n",
       "    <tr style=\"text-align: right;\">\n",
       "      <th></th>\n",
       "      <th>survived</th>\n",
       "      <th>pclass</th>\n",
       "      <th>sex</th>\n",
       "      <th>age</th>\n",
       "      <th>sibsp</th>\n",
       "      <th>parch</th>\n",
       "      <th>fare</th>\n",
       "      <th>embarked</th>\n",
       "      <th>class</th>\n",
       "      <th>who</th>\n",
       "      <th>adult_male</th>\n",
       "      <th>deck</th>\n",
       "      <th>embark_town</th>\n",
       "      <th>alive</th>\n",
       "      <th>alone</th>\n",
       "    </tr>\n",
       "  </thead>\n",
       "  <tbody>\n",
       "    <tr>\n",
       "      <th>0</th>\n",
       "      <td>0</td>\n",
       "      <td>3</td>\n",
       "      <td>male</td>\n",
       "      <td>22.0</td>\n",
       "      <td>1</td>\n",
       "      <td>0</td>\n",
       "      <td>7.2500</td>\n",
       "      <td>S</td>\n",
       "      <td>Third</td>\n",
       "      <td>man</td>\n",
       "      <td>True</td>\n",
       "      <td>NaN</td>\n",
       "      <td>Southampton</td>\n",
       "      <td>no</td>\n",
       "      <td>False</td>\n",
       "    </tr>\n",
       "    <tr>\n",
       "      <th>1</th>\n",
       "      <td>1</td>\n",
       "      <td>1</td>\n",
       "      <td>female</td>\n",
       "      <td>38.0</td>\n",
       "      <td>1</td>\n",
       "      <td>0</td>\n",
       "      <td>71.2833</td>\n",
       "      <td>C</td>\n",
       "      <td>First</td>\n",
       "      <td>woman</td>\n",
       "      <td>False</td>\n",
       "      <td>C</td>\n",
       "      <td>Cherbourg</td>\n",
       "      <td>yes</td>\n",
       "      <td>False</td>\n",
       "    </tr>\n",
       "    <tr>\n",
       "      <th>2</th>\n",
       "      <td>1</td>\n",
       "      <td>3</td>\n",
       "      <td>female</td>\n",
       "      <td>26.0</td>\n",
       "      <td>0</td>\n",
       "      <td>0</td>\n",
       "      <td>7.9250</td>\n",
       "      <td>S</td>\n",
       "      <td>Third</td>\n",
       "      <td>woman</td>\n",
       "      <td>False</td>\n",
       "      <td>NaN</td>\n",
       "      <td>Southampton</td>\n",
       "      <td>yes</td>\n",
       "      <td>True</td>\n",
       "    </tr>\n",
       "    <tr>\n",
       "      <th>3</th>\n",
       "      <td>1</td>\n",
       "      <td>1</td>\n",
       "      <td>female</td>\n",
       "      <td>35.0</td>\n",
       "      <td>1</td>\n",
       "      <td>0</td>\n",
       "      <td>53.1000</td>\n",
       "      <td>S</td>\n",
       "      <td>First</td>\n",
       "      <td>woman</td>\n",
       "      <td>False</td>\n",
       "      <td>C</td>\n",
       "      <td>Southampton</td>\n",
       "      <td>yes</td>\n",
       "      <td>False</td>\n",
       "    </tr>\n",
       "    <tr>\n",
       "      <th>4</th>\n",
       "      <td>0</td>\n",
       "      <td>3</td>\n",
       "      <td>male</td>\n",
       "      <td>35.0</td>\n",
       "      <td>0</td>\n",
       "      <td>0</td>\n",
       "      <td>8.0500</td>\n",
       "      <td>S</td>\n",
       "      <td>Third</td>\n",
       "      <td>man</td>\n",
       "      <td>True</td>\n",
       "      <td>NaN</td>\n",
       "      <td>Southampton</td>\n",
       "      <td>no</td>\n",
       "      <td>True</td>\n",
       "    </tr>\n",
       "  </tbody>\n",
       "</table>\n",
       "</div>"
      ],
      "text/plain": [
       "   survived  pclass     sex   age  sibsp  parch     fare embarked  class  \\\n",
       "0         0       3    male  22.0      1      0   7.2500        S  Third   \n",
       "1         1       1  female  38.0      1      0  71.2833        C  First   \n",
       "2         1       3  female  26.0      0      0   7.9250        S  Third   \n",
       "3         1       1  female  35.0      1      0  53.1000        S  First   \n",
       "4         0       3    male  35.0      0      0   8.0500        S  Third   \n",
       "\n",
       "     who  adult_male deck  embark_town alive  alone  \n",
       "0    man        True  NaN  Southampton    no  False  \n",
       "1  woman       False    C    Cherbourg   yes  False  \n",
       "2  woman       False  NaN  Southampton   yes   True  \n",
       "3  woman       False    C  Southampton   yes  False  \n",
       "4    man        True  NaN  Southampton    no   True  "
      ]
     },
     "execution_count": 30,
     "metadata": {},
     "output_type": "execute_result"
    }
   ],
   "source": [
    "# load titanic data\n",
    "import seaborn as sns\n",
    "titanic = sns.load_dataset('titanic')\n",
    "titanic.head()"
   ]
  },
  {
   "cell_type": "markdown",
   "metadata": {},
   "source": [
    "## Task 1\n",
    "### Task 1.1\n",
    "* **Test the hypothesis that the survival rates for female passengers in Pclass 1 was no larger than in Pclass 2.**\n",
    "    * toss away first class and men for this exercise"
   ]
  },
  {
   "cell_type": "code",
   "execution_count": 31,
   "metadata": {},
   "outputs": [
    {
     "name": "stdout",
     "output_type": "stream",
     "text": [
      "mean survival rate female first class: 0.9680851063829787\n",
      "mean survival rate female second class: 0.9210526315789473\n"
     ]
    }
   ],
   "source": [
    "FemPass12 = titanic[(titanic['pclass']!=3) & (titanic['sex']=='female')]\n",
    "\n",
    "# mean survival rate female first class \n",
    "a = FemPass12[FemPass12['pclass']==1]['survived'].mean()\n",
    "\n",
    "# mean survival rate female second class\n",
    "b = FemPass12[FemPass12['pclass']==2]['survived'].mean()\n",
    "\n",
    "print(f'mean survival rate female first class: {a}')\n",
    "print(f'mean survival rate female second class: {b}')"
   ]
  },
  {
   "cell_type": "code",
   "execution_count": 51,
   "metadata": {
    "code_folding": []
   },
   "outputs": [],
   "source": [
    "def print_pVal(pVal,a,empirical_diff_means):\n",
    "    s = \"smaller\";s2 = \"\";s3=\"is extremely unlikely to\"\n",
    "    if (pVal >= a):\n",
    "        s = \"greater or equal\"\n",
    "        s2 = \"fail to\"\n",
    "        s3 =\"could\"\n",
    "        \n",
    "    print(\"The one sided p value of\", np.round(pVal,3), \"is \",s,\" than alpha=\",a,\", so we\",s2,\" reject the Null\" ) \n",
    "\n",
    "    print(\"-> The observed difference of \", np.round(empirical_diff_means,3), s3,\" have occurred by chance alone\")\n",
    "\n",
    "\n",
    "def bs_2sampletest(titanic, M=1000, func = np.mean, a = 0.05):\n",
    "    \n",
    "    # pooled mean\n",
    "    meanNull = np.mean(titanic[titanic['pclass']!=3]['survived'])\n",
    "    \n",
    "    p1 = titanic[titanic['pclass']==1]['survived']\n",
    "    p2 = titanic[titanic['pclass']==2]['survived']\n",
    "\n",
    "    empirical_diff_means = np.mean(p2)-np.mean(p1) \n",
    "   \n",
    "    #shift:\n",
    "    p2_shifted = p2 - np.mean(p2) + meanNull\n",
    "    #plt.hist(p2_shifted, density=True, color=\"red\");\n",
    "    p1_shifted = p1 - np.mean(p1) + meanNull\n",
    "    #plt.hist(p1_shifted, density=True, color=\"blue\");\n",
    "    \n",
    "\n",
    "    # Compute 1000 bootstrap replicates from shifted arrays\n",
    "    bs_replicates_m = draw_bs_reps(p2_shifted, func, M)\n",
    "    bs_replicates_f = draw_bs_reps(p1_shifted, func, M)\n",
    "    ##plt.hist(bs_replicates_m, density=True, color=\"red\", alpha=0.5)\n",
    "    #plt.hist(bs_replicates_f, density=True, color=\"blue\", alpha=0.5)\n",
    "    \n",
    "    # Get replicates of difference of means: bs_replicates\n",
    "    bs_replicates = bs_replicates_m - bs_replicates_f\n",
    "    plt.hist(bs_replicates, density=True, color=\"blue\", alpha=0.5)\n",
    "    plt.vlines(empirical_diff_means, 0,15)\n",
    "    \n",
    "    # Compute and print p-value: p\n",
    "    pVal = np.mean(bs_replicates > empirical_diff_means)\n",
    "    print_pVal(pVal,a,empirical_diff_means)\n",
    "    return bs_replicates"
   ]
  },
  {
   "cell_type": "code",
   "execution_count": 52,
   "metadata": {},
   "outputs": [
    {
     "name": "stdout",
     "output_type": "stream",
     "text": [
      "The one sided p value of 0.898 is  greater or equal  than alpha= 0.05 , so we fail to  reject the Null\n",
      "-> The observed difference of  -0.047 could  have occurred by chance alone\n"
     ]
    },
    {
     "data": {
      "image/png": "[encoded data removed]",
      "text/plain": [
       "<Figure size 432x288 with 1 Axes>"
      ]
     },
     "metadata": {
      "needs_background": "light"
     },
     "output_type": "display_data"
    }
   ],
   "source": [
    "bs_replicates=bs_2sampletest(FemPass12)\n",
    "#plt.hist(bs_replicates, density=True);"
   ]
  },
  {
   "cell_type": "markdown",
   "metadata": {},
   "source": [
    "### Task 1.2\n",
    "* **Create a boxplot mpg ~ cylinders. It does seem that the mpg for cars with 4 cylinders is quite different from those with 3 cylinders. What does a bootstrap test tell you about this hypothesis?**\n"
   ]
  },
  {
   "cell_type": "code",
   "execution_count": 15,
   "metadata": {},
   "outputs": [
    {
     "data": {
      "text/html": [
       "<div>\n",
       "<style scoped>\n",
       "    .dataframe tbody tr th:only-of-type {\n",
       "        vertical-align: middle;\n",
       "    }\n",
       "\n",
       "    .dataframe tbody tr th {\n",
       "        vertical-align: top;\n",
       "    }\n",
       "\n",
       "    .dataframe thead th {\n",
       "        text-align: right;\n",
       "    }\n",
       "</style>\n",
       "<table border=\"1\" class=\"dataframe\">\n",
       "  <thead>\n",
       "    <tr style=\"text-align: right;\">\n",
       "      <th></th>\n",
       "      <th>mpg</th>\n",
       "      <th>cylinders</th>\n",
       "      <th>displacement</th>\n",
       "      <th>horsepower</th>\n",
       "      <th>weight</th>\n",
       "      <th>acceleration</th>\n",
       "      <th>year</th>\n",
       "      <th>origin</th>\n",
       "      <th>name</th>\n",
       "      <th>Manufacturer</th>\n",
       "    </tr>\n",
       "  </thead>\n",
       "  <tbody>\n",
       "    <tr>\n",
       "      <th>0</th>\n",
       "      <td>18.0</td>\n",
       "      <td>8</td>\n",
       "      <td>307.0</td>\n",
       "      <td>130</td>\n",
       "      <td>3504</td>\n",
       "      <td>12.0</td>\n",
       "      <td>70</td>\n",
       "      <td>1</td>\n",
       "      <td>chevrolet chevelle malibu</td>\n",
       "      <td>chevrolet</td>\n",
       "    </tr>\n",
       "    <tr>\n",
       "      <th>1</th>\n",
       "      <td>15.0</td>\n",
       "      <td>8</td>\n",
       "      <td>350.0</td>\n",
       "      <td>165</td>\n",
       "      <td>3693</td>\n",
       "      <td>11.5</td>\n",
       "      <td>70</td>\n",
       "      <td>1</td>\n",
       "      <td>buick skylark 320</td>\n",
       "      <td>buick</td>\n",
       "    </tr>\n",
       "  </tbody>\n",
       "</table>\n",
       "</div>"
      ],
      "text/plain": [
       "    mpg  cylinders  displacement  horsepower  weight  acceleration  year  \\\n",
       "0  18.0          8         307.0         130    3504          12.0    70   \n",
       "1  15.0          8         350.0         165    3693          11.5    70   \n",
       "\n",
       "   origin                       name Manufacturer  \n",
       "0       1  chevrolet chevelle malibu    chevrolet  \n",
       "1       1          buick skylark 320        buick  "
      ]
     },
     "execution_count": 15,
     "metadata": {},
     "output_type": "execute_result"
    }
   ],
   "source": [
    "# load auto dataframe\n",
    "cars = pd.read_csv('../data/Auto.csv')\n",
    "\n",
    "# cars with 3 or 4 cylinders\n",
    "cars34 = cars[ (cars['cylinders']==3) | (cars['cylinders']==4)]\n",
    "cars.head(2)"
   ]
  },
  {
   "cell_type": "code",
   "execution_count": 16,
   "metadata": {
    "scrolled": true
   },
   "outputs": [
    {
     "data": {
      "image/png": "[encoded data removed]",
      "text/plain": [
       "<Figure size 432x288 with 1 Axes>"
      ]
     },
     "metadata": {
      "needs_background": "light"
     },
     "output_type": "display_data"
    }
   ],
   "source": [
    "tmp=cars.boxplot( \"mpg\",\"cylinders\")\n",
    "plt.tight_layout()"
   ]
  },
  {
   "cell_type": "markdown",
   "metadata": {},
   "source": [
    "So, the observed mean for cyl==4 is larger than for cyl==3, which implies that we need to test \n",
    "$$\n",
    "H_0: \\mu_4 \\leq \\mu_3, H_A: \\mu_4 > \\mu_3, \n",
    "$$\n",
    "or, in some other books:\n",
    "$$\n",
    "H_0: \\mu_4 == \\mu_3, H_A: \\mu_4 > \\mu_3, \n",
    "$$\n",
    "(Why ? Your Null hypothesis cannot \"agree with the data\", you need to choose $H_0$ to be in conflict with the observed evidence. Otherwise, there is nothing to refute/test)\n",
    "\n",
    "Hence, this is a right-sided test, which means we can only reject on the right tail."
   ]
  },
  {
   "cell_type": "code",
   "execution_count": 59,
   "metadata": {},
   "outputs": [],
   "source": [
    "def bs_2sampletest(df, M=1000, func = np.mean, a = 0.05):\n",
    "    \n",
    "    # pooled mean\n",
    "    meanNull = np.mean(df['mpg'])\n",
    "    \n",
    "    mpg3 = df[df['cylinders']==3]['mpg']\n",
    "    mpg4 = df[df['cylinders']==4]['mpg']\n",
    "\n",
    "    empirical_diff_means = np.mean(mpg4)-np.mean(mpg3) \n",
    "    \n",
    "    #shift:\n",
    "    mpg3_shifted = mpg3 - np.mean(mpg3) + meanNull\n",
    "    mpg4_shifted = mpg4 - np.mean(mpg4) + meanNull\n",
    "\n",
    "    # Compute M bootstrap replicates from shifted arrays\n",
    "    bs_replicates_3 = draw_bs_reps(mpg3_shifted, func, M)\n",
    "    bs_replicates_4 = draw_bs_reps(mpg4_shifted, func, M)\n",
    "\n",
    "    # Get replicates of difference of means: bs_replicates\n",
    "    bs_replicates = bs_replicates_4 - bs_replicates_3\n",
    "    plt.hist(bs_replicates, density=True, color=\"blue\", alpha=0.5)\n",
    "    plt.vlines(empirical_diff_means, 0,0.3)\n",
    "    \n",
    "    # Compute and print p-value: p\n",
    "    pVal = np.mean(bs_replicates > empirical_diff_means)\n",
    "    #cutoff right tail\n",
    "    #np.percentile(bs_replicates, 95)\n",
    "    s = \"smaller\";s2 = \"\";s3=\"is extremely unlikely to\"\n",
    "    if (pVal >= a):\n",
    "        s = \"greater or equal\"\n",
    "        s2 = \"fail to\"\n",
    "        s3 =\"could\"\n",
    "        \n",
    "    print(\"The one sided p value of\", np.round(pVal,3), \"is \",s,\" than alpha=\",a,\", so we\",s2,\" reject the Null\" ) \n",
    "\n",
    "    print(\"-> The observed difference of \", np.round(empirical_diff_means,3), s3,\" have occurred by chance alone\")\n",
    "\n",
    "    return bs_replicates"
   ]
  },
  {
   "cell_type": "code",
   "execution_count": 60,
   "metadata": {},
   "outputs": [
    {
     "name": "stdout",
     "output_type": "stream",
     "text": [
      "The one sided p value of 0.0 is  smaller  than alpha= 0.05 , so we   reject the Null\n",
      "-> The observed difference of  8.734 is extremely unlikely to  have occurred by chance alone\n"
     ]
    },
    {
     "data": {
      "image/png": "[encoded data removed]",
      "text/plain": [
       "<Figure size 432x288 with 1 Axes>"
      ]
     },
     "metadata": {
      "needs_background": "light"
     },
     "output_type": "display_data"
    }
   ],
   "source": [
    "bs_replicates=bs_2sampletest(cars34, M=5000)\n",
    "#plt.hist(bs_replicates, density=True, bins=20);"
   ]
  },
  {
   "cell_type": "markdown",
   "metadata": {},
   "source": [
    "### Task 1.3\n",
    "* **Can you think of more interesting hypotheses to test regarding the pregnancy data ?**"
   ]
  },
  {
   "cell_type": "code",
   "execution_count": 64,
   "metadata": {},
   "outputs": [
    {
     "data": {
      "text/html": [
       "<div>\n",
       "<style scoped>\n",
       "    .dataframe tbody tr th:only-of-type {\n",
       "        vertical-align: middle;\n",
       "    }\n",
       "\n",
       "    .dataframe tbody tr th {\n",
       "        vertical-align: top;\n",
       "    }\n",
       "\n",
       "    .dataframe thead th {\n",
       "        text-align: right;\n",
       "    }\n",
       "</style>\n",
       "<table border=\"1\" class=\"dataframe\">\n",
       "  <thead>\n",
       "    <tr style=\"text-align: right;\">\n",
       "      <th></th>\n",
       "      <th>caseid</th>\n",
       "      <th>pregordr</th>\n",
       "      <th>howpreg_n</th>\n",
       "      <th>howpreg_p</th>\n",
       "      <th>moscurrp</th>\n",
       "      <th>nowprgdk</th>\n",
       "      <th>pregend1</th>\n",
       "      <th>pregend2</th>\n",
       "      <th>nbrnaliv</th>\n",
       "      <th>multbrth</th>\n",
       "      <th>...</th>\n",
       "      <th>laborfor_i</th>\n",
       "      <th>religion_i</th>\n",
       "      <th>metro_i</th>\n",
       "      <th>basewgt</th>\n",
       "      <th>adj_mod_basewgt</th>\n",
       "      <th>finalwgt</th>\n",
       "      <th>secu_p</th>\n",
       "      <th>sest</th>\n",
       "      <th>cmintvw</th>\n",
       "      <th>totalwgt_lb</th>\n",
       "    </tr>\n",
       "  </thead>\n",
       "  <tbody>\n",
       "    <tr>\n",
       "      <th>0</th>\n",
       "      <td>1</td>\n",
       "      <td>1</td>\n",
       "      <td>NaN</td>\n",
       "      <td>NaN</td>\n",
       "      <td>NaN</td>\n",
       "      <td>NaN</td>\n",
       "      <td>6.0</td>\n",
       "      <td>NaN</td>\n",
       "      <td>1.0</td>\n",
       "      <td>NaN</td>\n",
       "      <td>...</td>\n",
       "      <td>0</td>\n",
       "      <td>0</td>\n",
       "      <td>0</td>\n",
       "      <td>3410.389399</td>\n",
       "      <td>3869.349602</td>\n",
       "      <td>6448.271112</td>\n",
       "      <td>2</td>\n",
       "      <td>9</td>\n",
       "      <td>NaN</td>\n",
       "      <td>8.8125</td>\n",
       "    </tr>\n",
       "    <tr>\n",
       "      <th>1</th>\n",
       "      <td>1</td>\n",
       "      <td>2</td>\n",
       "      <td>NaN</td>\n",
       "      <td>NaN</td>\n",
       "      <td>NaN</td>\n",
       "      <td>NaN</td>\n",
       "      <td>6.0</td>\n",
       "      <td>NaN</td>\n",
       "      <td>1.0</td>\n",
       "      <td>NaN</td>\n",
       "      <td>...</td>\n",
       "      <td>0</td>\n",
       "      <td>0</td>\n",
       "      <td>0</td>\n",
       "      <td>3410.389399</td>\n",
       "      <td>3869.349602</td>\n",
       "      <td>6448.271112</td>\n",
       "      <td>2</td>\n",
       "      <td>9</td>\n",
       "      <td>NaN</td>\n",
       "      <td>7.8750</td>\n",
       "    </tr>\n",
       "  </tbody>\n",
       "</table>\n",
       "<p>2 rows × 244 columns</p>\n",
       "</div>"
      ],
      "text/plain": [
       "   caseid  pregordr  howpreg_n  howpreg_p  moscurrp  nowprgdk  pregend1  \\\n",
       "0       1         1        NaN        NaN       NaN       NaN       6.0   \n",
       "1       1         2        NaN        NaN       NaN       NaN       6.0   \n",
       "\n",
       "   pregend2  nbrnaliv  multbrth  ...  laborfor_i  religion_i  metro_i  \\\n",
       "0       NaN       1.0       NaN  ...           0           0        0   \n",
       "1       NaN       1.0       NaN  ...           0           0        0   \n",
       "\n",
       "       basewgt  adj_mod_basewgt     finalwgt  secu_p  sest  cmintvw  \\\n",
       "0  3410.389399      3869.349602  6448.271112       2     9      NaN   \n",
       "1  3410.389399      3869.349602  6448.271112       2     9      NaN   \n",
       "\n",
       "   totalwgt_lb  \n",
       "0       8.8125  \n",
       "1       7.8750  \n",
       "\n",
       "[2 rows x 244 columns]"
      ]
     },
     "execution_count": 64,
     "metadata": {},
     "output_type": "execute_result"
    }
   ],
   "source": [
    "# load pregnancy dataframe\n",
    "preg = pd.read_csv(\"../data/pregNSFG.csv.gz\").drop([\"Unnamed: 0\"],axis=1)\n",
    "#preg=pd.read_hdf('../data/pregNSFG.h5', 'df')\n",
    "\n",
    "#only look at live births\n",
    "live = preg[preg.outcome == 1]\n",
    "live.head(2)"
   ]
  },
  {
   "cell_type": "markdown",
   "metadata": {},
   "source": [
    "* We saw a significant difference between male and female babies weights. Could it be that the lion share of the weight gain is \"achieved\" in the last weeks of the pregnancy ?\n",
    "* So let us test the weight difference for premature babies only:"
   ]
  },
  {
   "cell_type": "code",
   "execution_count": 65,
   "metadata": {},
   "outputs": [
    {
     "data": {
      "text/html": [
       "<div>\n",
       "<style scoped>\n",
       "    .dataframe tbody tr th:only-of-type {\n",
       "        vertical-align: middle;\n",
       "    }\n",
       "\n",
       "    .dataframe tbody tr th {\n",
       "        vertical-align: top;\n",
       "    }\n",
       "\n",
       "    .dataframe thead th {\n",
       "        text-align: right;\n",
       "    }\n",
       "</style>\n",
       "<table border=\"1\" class=\"dataframe\">\n",
       "  <thead>\n",
       "    <tr style=\"text-align: right;\">\n",
       "      <th></th>\n",
       "      <th>babysex</th>\n",
       "      <th>totalwgt_lb</th>\n",
       "    </tr>\n",
       "  </thead>\n",
       "  <tbody>\n",
       "    <tr>\n",
       "      <th>138</th>\n",
       "      <td>female</td>\n",
       "      <td>6.5000</td>\n",
       "    </tr>\n",
       "    <tr>\n",
       "      <th>157</th>\n",
       "      <td>male</td>\n",
       "      <td>1.3750</td>\n",
       "    </tr>\n",
       "    <tr>\n",
       "      <th>237</th>\n",
       "      <td>male</td>\n",
       "      <td>6.3750</td>\n",
       "    </tr>\n",
       "    <tr>\n",
       "      <th>541</th>\n",
       "      <td>male</td>\n",
       "      <td>1.3750</td>\n",
       "    </tr>\n",
       "    <tr>\n",
       "      <th>628</th>\n",
       "      <td>female</td>\n",
       "      <td>1.6250</td>\n",
       "    </tr>\n",
       "    <tr>\n",
       "      <th>...</th>\n",
       "      <td>...</td>\n",
       "      <td>...</td>\n",
       "    </tr>\n",
       "    <tr>\n",
       "      <th>12717</th>\n",
       "      <td>male</td>\n",
       "      <td>7.0000</td>\n",
       "    </tr>\n",
       "    <tr>\n",
       "      <th>12938</th>\n",
       "      <td>female</td>\n",
       "      <td>2.1875</td>\n",
       "    </tr>\n",
       "    <tr>\n",
       "      <th>13093</th>\n",
       "      <td>male</td>\n",
       "      <td>3.0000</td>\n",
       "    </tr>\n",
       "    <tr>\n",
       "      <th>13173</th>\n",
       "      <td>male</td>\n",
       "      <td>1.5000</td>\n",
       "    </tr>\n",
       "    <tr>\n",
       "      <th>13309</th>\n",
       "      <td>male</td>\n",
       "      <td>8.6875</td>\n",
       "    </tr>\n",
       "  </tbody>\n",
       "</table>\n",
       "<p>121 rows × 2 columns</p>\n",
       "</div>"
      ],
      "text/plain": [
       "      babysex  totalwgt_lb\n",
       "138    female       6.5000\n",
       "157      male       1.3750\n",
       "237      male       6.3750\n",
       "541      male       1.3750\n",
       "628    female       1.6250\n",
       "...       ...          ...\n",
       "12717    male       7.0000\n",
       "12938  female       2.1875\n",
       "13093    male       3.0000\n",
       "13173    male       1.5000\n",
       "13309    male       8.6875\n",
       "\n",
       "[121 rows x 2 columns]"
      ]
     },
     "execution_count": 65,
     "metadata": {},
     "output_type": "execute_result"
    }
   ],
   "source": [
    "#we reduce the sample size further by conditioning on the mother's age at the end of pregnancy\n",
    "#firsts = preg[(preg.outcome == 1) & (preg.birthord == 1)]\n",
    "bwt = live[(live['agepreg'] < 40) & (live['prglngth'] < 30)][[\"babysex\",\"totalwgt_lb\"]] \n",
    "\n",
    "# replacing for male and female\n",
    "bwt['babysex'].replace([1.0],\"male\",inplace=True)\n",
    "bwt['babysex'].replace([2.0],\"female\",inplace=True)\n",
    "\n",
    "# dropping empty cells\n",
    "bwt = bwt.dropna()\n",
    "\n",
    "bwt"
   ]
  },
  {
   "cell_type": "code",
   "execution_count": 72,
   "metadata": {},
   "outputs": [
    {
     "name": "stdout",
     "output_type": "stream",
     "text": [
      "3.4288793103448274\n",
      "3.392857142857143\n"
     ]
    }
   ],
   "source": [
    "print(np.mean(w_m))\n",
    "print(np.mean(w_f))"
   ]
  },
  {
   "cell_type": "code",
   "execution_count": 76,
   "metadata": {},
   "outputs": [
    {
     "data": {
      "text/plain": [
       "<matplotlib.collections.LineCollection at 0x133cb9c10>"
      ]
     },
     "execution_count": 76,
     "metadata": {},
     "output_type": "execute_result"
    },
    {
     "data": {
      "image/png": "[encoded data removed]",
      "text/plain": [
       "<Figure size 432x288 with 1 Axes>"
      ]
     },
     "metadata": {
      "needs_background": "light"
     },
     "output_type": "display_data"
    }
   ],
   "source": [
    "# pooled mean\n",
    "meanNull = np.mean(bwt['totalwgt_lb'])\n",
    "\n",
    "w_m = bwt[bwt[\"babysex\"]==\"male\"].totalwgt_lb\n",
    "w_f = bwt[bwt[\"babysex\"]==\"female\"].totalwgt_lb\n",
    "\n",
    "empirical_diff_means = np.mean(w_m)-np.mean(w_f) \n",
    "\n",
    "#shift:\n",
    "w_m_shifted = w_m - np.mean(w_m) + meanNull\n",
    "w_f_shifted = w_f - np.mean(w_f) + meanNull\n",
    "\n",
    "\n",
    "# Compute 1000 bootstrap replicates from shifted arrays\n",
    "M=1000\n",
    "bs_replicates_m = draw_bs_reps(w_m_shifted, np.mean, M)\n",
    "bs_replicates_f = draw_bs_reps(w_f_shifted, np.mean, M)\n",
    "\n",
    "# Get replicates of difference of means: bs_replicates\n",
    "bs_replicates = bs_replicates_m - bs_replicates_f\n",
    "\n",
    "plt.hist(bs_replicates, density=True)\n",
    "plt.vlines(empirical_diff_means,0,1,color=\"red\")"
   ]
  },
  {
   "cell_type": "code",
   "execution_count": 75,
   "metadata": {},
   "outputs": [
    {
     "name": "stdout",
     "output_type": "stream",
     "text": [
      "The one sided p value of 0.448 is  greater or equal  than alpha= 0.05 , so we fail to  reject the Null\n",
      "-> The observed difference of  -0.036 could  have occurred by chance alone\n"
     ]
    }
   ],
   "source": [
    "a=0.05\n",
    "pVal = np.mean(bs_replicates > empirical_diff_means)\n",
    "print_pVal(pVal,a,empirical_diff_means)"
   ]
  },
  {
   "cell_type": "code",
   "execution_count": null,
   "metadata": {},
   "outputs": [],
   "source": []
  }
 ],
 "metadata": {
  "hide_input": false,
  "kernelspec": {
   "display_name": "Python 3 (ipykernel)",
   "language": "python",
   "name": "python3"
  },
  "language_info": {
   "codemirror_mode": {
    "name": "ipython",
    "version": 3
   },
   "file_extension": ".py",
   "mimetype": "text/x-python",
   "name": "python",
   "nbconvert_exporter": "python",
   "pygments_lexer": "ipython3",
   "version": "3.8.6"
  },
  "toc": {
   "base_numbering": 1,
   "nav_menu": {},
   "number_sections": true,
   "sideBar": true,
   "skip_h1_title": false,
   "title_cell": "Table of Contents",
   "title_sidebar": "Contents",
   "toc_cell": false,
   "toc_position": {},
   "toc_section_display": true,
   "toc_window_display": false
  },
  "varInspector": {
   "cols": {
    "lenName": 16,
    "lenType": 16,
    "lenVar": 40
   },
   "kernels_config": {
    "python": {
     "delete_cmd_postfix": "",
     "delete_cmd_prefix": "del ",
     "library": "var_list.py",
     "varRefreshCmd": "print(var_dic_list())"
    },
    "r": {
     "delete_cmd_postfix": ") ",
     "delete_cmd_prefix": "rm(",
     "library": "var_list.r",
     "varRefreshCmd": "cat(var_dic_list()) "
    }
   },
   "types_to_exclude": [
    "module",
    "function",
    "builtin_function_or_method",
    "instance",
    "_Feature"
   ],
   "window_display": false
  }
 },
 "nbformat": 4,
 "nbformat_minor": 2
}
