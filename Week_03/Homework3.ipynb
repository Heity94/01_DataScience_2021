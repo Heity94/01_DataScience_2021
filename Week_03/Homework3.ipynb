{
 "cells": [
  {
   "cell_type": "markdown",
   "metadata": {},
   "source": [
    "# Homework 3\n",
    "\n",
    "**Bootstrap and Testing**\n",
    "\n",
    "1. Test the hypothesis that the survival rates for female passengers in Pclass 1 was no larger than in Pclass 2.\n",
    "2. Create a boxplot `mpg ~ cylinders`. It does seem that the mpg for cars with 4 cylinders is quite different from those with 3 cylinders. What does a bootstrap test tell you about this hypothesis?\n",
    "3. Can you think of more interesting hypotheses to test regarding the pregnancy data ?"
   ]
  },
  {
   "cell_type": "code",
   "execution_count": 1,
   "metadata": {},
   "outputs": [],
   "source": [
    "%run ../ourFunctions.py"
   ]
  },
  {
   "cell_type": "markdown",
   "metadata": {},
   "source": [
    "## Task 1\n",
    "Test the hypothesis that the survival rates for female passengers in Pclass 1 was no larger than in Pclass 2."
   ]
  },
  {
   "cell_type": "code",
   "execution_count": 2,
   "metadata": {},
   "outputs": [],
   "source": [
    "#Titanic data:\n",
    "import seaborn as sns\n",
    "titanic = sns.load_dataset('titanic')"
   ]
  },
  {
   "cell_type": "markdown",
   "metadata": {},
   "source": [
    "### EDA"
   ]
  },
  {
   "cell_type": "code",
   "execution_count": 3,
   "metadata": {},
   "outputs": [
    {
     "name": "stdout",
     "output_type": "stream",
     "text": [
      "Survival rate for female passengers in Pclass 1 0.97\n",
      "Survival rate for female passengers in Pclass 2 0.92\n"
     ]
    }
   ],
   "source": [
    "# Survival rate per class and sex\n",
    "surv_rate_group = titanic[['survived', 'pclass', 'sex']].groupby([\"pclass\", \"sex\"]).mean()\n",
    "\n",
    "# Survival rate for female passengers in Pclass 1 and Pclass 2\n",
    "surv_rate_pcf1 = surv_rate_group.xs(key=\"female\",level=1).iloc[0,0]\n",
    "surv_rate_pcf2 = surv_rate_group.xs(key=\"female\",level=1).iloc[1,0]\n",
    "\n",
    "print(\"Survival rate for female passengers in Pclass 1\",round(surv_rate_pcf1,2))\n",
    "print(\"Survival rate for female passengers in Pclass 2\",round(surv_rate_pcf2,2))"
   ]
  },
  {
   "cell_type": "code",
   "execution_count": 4,
   "metadata": {},
   "outputs": [],
   "source": [
    "def ecdf(data):\n",
    "    \"\"\"Compute ECDF for a one-dimensional array of measurements.\"\"\"\n",
    "    # Number of data points: n\n",
    "    n = len(data)\n",
    "\n",
    "    # x-data for the ECDF: x\n",
    "    x = np.sort(data)\n",
    "\n",
    "    # y-data for the ECDF: y\n",
    "    y = np.arange(1, n+1) / n\n",
    "\n",
    "    return x, y"
   ]
  },
  {
   "cell_type": "code",
   "execution_count": 5,
   "metadata": {},
   "outputs": [
    {
     "data": {
      "image/png": "[encoded data removed]",
      "text/plain": [
       "<Figure size 1080x360 with 2 Axes>"
      ]
     },
     "metadata": {
      "needs_background": "light"
     },
     "output_type": "display_data"
    }
   ],
   "source": [
    "titanic_small = titanic[['survived', 'pclass', 'sex']]\n",
    "\n",
    "# Filter df for female passengers in Pclass 1 and Pclass 2 \n",
    "pcf1 =titanic_small[(titanic_small[\"sex\"]==\"female\") & (titanic_small[\"pclass\"]==1)][\"survived\"]\n",
    "pcf2 =titanic_small[(titanic_small[\"sex\"]==\"female\") & (titanic_small[\"pclass\"]==2)][\"survived\"]\n",
    "\n",
    "# Compute ECDF for female passengers in class 1 and 2 \n",
    "x_1, y_1 = ecdf(pcf1)\n",
    "x_2, y_2 = ecdf(pcf2)\n",
    "\n",
    "#Create two subplots \n",
    "figure, (ax1, ax2) = plt.subplots(1,2,figsize=(15,5))\n",
    "\n",
    "#Plot 1:\n",
    "\n",
    "# Plot all ECDFs on the same plot\n",
    "ax1.plot(y_1, x_1, marker = '.', linestyle = 'none', alpha=0.5)\n",
    "ax1.plot(y_2, x_2, marker = '.', linestyle = 'none', alpha=0.5, color=\"orange\")\n",
    "\n",
    "# Make nice margins\n",
    "ax1.margins(0.02)\n",
    "ax1.set_ylabel(\"Survived [1=yes, 0=no]\")\n",
    "ax1.set_xlabel(\"ECDF\")\n",
    "\n",
    "# Add grid\n",
    "ax1.grid()\n",
    "\n",
    "#--------------------------------------\n",
    "#Plot 2:\n",
    "female_both_classes = titanic_small[(titanic_small[\"sex\"]==\"female\") & ((titanic_small[\"pclass\"]==1) | (titanic_small[\"pclass\"]==2))]\n",
    "ax2 = sns.stripplot(x=\"pclass\",y=\"survived\", data=female_both_classes);\n"
   ]
  },
  {
   "cell_type": "markdown",
   "metadata": {},
   "source": [
    "### Hypothesis testing through permutation sampling"
   ]
  },
  {
   "cell_type": "markdown",
   "metadata": {},
   "source": [
    "1. Clearly state the null hypothesis: \\\n",
    "The survival rates for female passengers in Pclass 1 was not larger than in Pclass 2\n",
    "\n",
    "2. Define your test statistic: \\\n",
    "Survival rate \n",
    "----\n",
    "3. Generate many sets of simulated data assuming the null hypothesis is true (Permutation samples)"
   ]
  },
  {
   "cell_type": "code",
   "execution_count": 6,
   "metadata": {},
   "outputs": [],
   "source": [
    "def permutation_sample(data1, data2):\n",
    "    \"\"\"Generate a permutation sample from two data sets.\"\"\"\n",
    "\n",
    "    # Concatenate the data sets: data\n",
    "    data = np.concatenate((data1,data2))\n",
    "\n",
    "    # Permute the concatenated array: permuted_data\n",
    "    permuted_data = np.random.permutation(data)\n",
    "\n",
    "    # Split the permuted array into two: perm_sample_1, perm_sample_2\n",
    "    perm_sample_1 = permuted_data[:len(data1)]\n",
    "    perm_sample_2 = permuted_data[len(data1):]\n",
    "\n",
    "    return perm_sample_1, perm_sample_2"
   ]
  },
  {
   "cell_type": "code",
   "execution_count": 7,
   "metadata": {},
   "outputs": [
    {
     "data": {
      "image/png": "[encoded data removed]",
      "text/plain": [
       "<Figure size 432x288 with 1 Axes>"
      ]
     },
     "metadata": {
      "needs_background": "light"
     },
     "output_type": "display_data"
    }
   ],
   "source": [
    "for i in range(0,50):\n",
    "    # Generate permutation samples\n",
    "    perm_sample_1, perm_sample_2 = permutation_sample(pcf1,pcf2)\n",
    "\n",
    "    # Compute ECDFs\n",
    "    yp_1, xp_1 = ecdf(perm_sample_1)\n",
    "    yp_2, xp_2 = ecdf(perm_sample_2)\n",
    "\n",
    "    # Plot ECDFs of permutation sample\n",
    "    _ = plt.plot(xp_1, yp_1, marker='.', linestyle='none',\n",
    "                 color='red', alpha=0.02)\n",
    "    _ = plt.plot(xp_2, yp_2, marker='.', linestyle='none',\n",
    "                 color='blue', alpha=0.02)\n",
    "\n",
    "# Create and plot ECDFs from original data\n",
    "y_1, x_1 = ecdf(pcf1)\n",
    "y_2, x_2 = ecdf(pcf2)\n",
    "_ = plt.plot(x_1, y_1, marker='.', linestyle='none', color='red', alpha=0.02)\n",
    "_ = plt.plot(x_2, y_2, marker='.', linestyle='none', color='blue', alpha=0.02)\n",
    "\n",
    "# Label axes, set margin, and show plot\n",
    "plt.margins(0.02)\n",
    "_ = plt.xlabel('Number of survivors')\n",
    "_ = plt.ylabel('ECDF')\n",
    "plt.show()"
   ]
  },
  {
   "cell_type": "markdown",
   "metadata": {},
   "source": [
    "ECDFs from the permutation samples do overlap with the observed data, suggesting that the hypothesis is commensurate with the data."
   ]
  },
  {
   "cell_type": "markdown",
   "metadata": {},
   "source": [
    "---\n",
    "4. Compute the test statistic for each simulated data set"
   ]
  },
  {
   "cell_type": "code",
   "execution_count": 8,
   "metadata": {},
   "outputs": [],
   "source": [
    "def draw_perm_reps(data_1, data_2, func, size=1):\n",
    "    \"\"\"Generate multiple permutation replicates.\"\"\"\n",
    "\n",
    "    # Initialize array of replicates: perm_replicates\n",
    "    perm_replicates = np.empty(size)\n",
    "\n",
    "    for i in range(size):\n",
    "        # Generate permutation sample\n",
    "        perm_sample_1, perm_sample_2 = permutation_sample(data_1,data_2)\n",
    "\n",
    "        # Compute the test statistic\n",
    "        perm_replicates[i] = func(perm_sample_1,perm_sample_2)\n",
    "\n",
    "    return perm_replicates"
   ]
  },
  {
   "cell_type": "code",
   "execution_count": 9,
   "metadata": {},
   "outputs": [],
   "source": [
    "def diff_of_means(data_1, data_2):\n",
    "    \"\"\"Difference in means of two arrays.\"\"\"\n",
    "\n",
    "    # The difference of means of data_1, data_2: diff\n",
    "    diff = np.mean(data_1)-np.mean(data_2)\n",
    "\n",
    "    return diff"
   ]
  },
  {
   "cell_type": "code",
   "execution_count": 10,
   "metadata": {},
   "outputs": [],
   "source": [
    "# Compute difference of survival rate from df: empirical_diff_means\n",
    "empirical_diff_means = diff_of_means(pcf1,pcf2)\n",
    "\n",
    "# Draw 10,000 permutation replicates: perm_replicates\n",
    "perm_replicates = draw_perm_reps(pcf1, pcf2, diff_of_means, size=10000)"
   ]
  },
  {
   "cell_type": "markdown",
   "metadata": {},
   "source": [
    "5. Compute p-value: p"
   ]
  },
  {
   "cell_type": "code",
   "execution_count": 11,
   "metadata": {},
   "outputs": [
    {
     "name": "stdout",
     "output_type": "stream",
     "text": [
      "p-value = 0.1463\n"
     ]
    }
   ],
   "source": [
    "p = np.sum(perm_replicates >= empirical_diff_means) / len(perm_replicates)\n",
    "\n",
    "# Print the result\n",
    "print('p-value =', p)\n"
   ]
  },
  {
   "cell_type": "markdown",
   "metadata": {},
   "source": [
    "**ANSWER:** \n",
    "The p-value tells us that there is about a 15,26% chance that we would get the difference of survival-rate observed in the experiment if survival rate for pclasses for female passengers were exactly the same. Since the p-value is above 0.05 the result is **not statistically significant**. We therefore reject the null hypothesis."
   ]
  },
  {
   "cell_type": "markdown",
   "metadata": {},
   "source": [
    "## Task 2\n",
    "Create a boxplot `mpg ~ cylinders`. It does seem that the mpg for cars with 4 cylinders is quite different from those with 3 cylinders. What does a bootstrap test tell you about this hypothesis?"
   ]
  },
  {
   "cell_type": "markdown",
   "metadata": {},
   "source": [
    "### Boxplot"
   ]
  },
  {
   "cell_type": "code",
   "execution_count": 54,
   "metadata": {},
   "outputs": [
    {
     "name": "stdout",
     "output_type": "stream",
     "text": [
      "3 cylinders: Mean: 20.55 Std: 2.221 no_samples: 4\n",
      "4 cylinders: Mean: 29.284 Std: 5.656 no_samples: 199\n"
     ]
    },
    {
     "data": {
      "image/png": "[encoded data removed]",
      "text/plain": [
       "<Figure size 432x288 with 1 Axes>"
      ]
     },
     "metadata": {
      "needs_background": "light"
     },
     "output_type": "display_data"
    }
   ],
   "source": [
    "#Auto data:\n",
    "cars = pd.read_csv('../data/Auto.csv')\n",
    "\n",
    "#Filter df for cars with 3 or 4 cylinders\n",
    "cars_cyl_34 = cars[(cars[\"cylinders\"] == 3) | (cars[\"cylinders\"] == 4)]\n",
    "\n",
    "#Create boxplot\n",
    "cars_cyl_34.boxplot(\"mpg\", \"cylinders\");\n",
    "\n",
    "#Print mean and std for both distributions:\n",
    "mu_3_org = round(np.mean(cars[cars[\"cylinders\"] == 3][\"mpg\"]),3)\n",
    "mu_4_org = round(np.mean(cars[cars[\"cylinders\"] == 4][\"mpg\"]),3)\n",
    "std_3_org = round(np.std(cars[cars[\"cylinders\"] == 3][\"mpg\"]),3)\n",
    "std_4_org = round(np.std(cars[cars[\"cylinders\"] == 4][\"mpg\"]),3)\n",
    "no_samples_3 = cars[cars[\"cylinders\"] == 3].shape[0]\n",
    "no_samples_4 = cars[cars[\"cylinders\"] == 4].shape[0]\n",
    "\n",
    "print(\"3 cylinders: Mean:\",mu_3_org, \"Std:\",std_3_org, \"no_samples:\", no_samples_3)\n",
    "print(\"4 cylinders: Mean:\",mu_4_org, \"Std:\",std_4_org, \"no_samples:\", no_samples_4)"
   ]
  },
  {
   "cell_type": "markdown",
   "metadata": {},
   "source": [
    "### Bootstrap test"
   ]
  },
  {
   "cell_type": "markdown",
   "metadata": {},
   "source": [
    "Null hypothesis: Cars with 3 and cars with 4 cylinders have the same mean mpg, but not necessarily the same distribution"
   ]
  },
  {
   "cell_type": "code",
   "execution_count": 74,
   "metadata": {},
   "outputs": [],
   "source": [
    "def bootstrap_replicate_1d(data, func):\n",
    "    \"\"\"Generate bootstrap replicate of 1D data.\"\"\"\n",
    "    bs_sample = np.random.choice(data, len(data))\n",
    "    return func(bs_sample)"
   ]
  },
  {
   "cell_type": "code",
   "execution_count": 75,
   "metadata": {},
   "outputs": [],
   "source": [
    "def draw_bs_reps(data, func, size=1):\n",
    "    \"\"\"Draw bootstrap replicates.\"\"\"\n",
    "\n",
    "    # Initialize array of replicates: bs_replicates\n",
    "    bs_replicates = np.empty(size)\n",
    "\n",
    "    # Generate replicates\n",
    "    for i in range(size):\n",
    "        bs_replicates[i] = bootstrap_replicate_1d(data,func)\n",
    "\n",
    "    return bs_replicates"
   ]
  },
  {
   "cell_type": "code",
   "execution_count": 81,
   "metadata": {},
   "outputs": [],
   "source": [
    "#Create arrays of original distribution of mpg per cylinder\n",
    "cars_cyl_3 = cars_cyl_34[(cars_cyl_34[\"cylinders\"] == 3)][\"mpg\"]\n",
    "cars_cyl_4 = cars_cyl_34[(cars_cyl_34[\"cylinders\"] == 4)][\"mpg\"]"
   ]
  },
  {
   "cell_type": "code",
   "execution_count": 79,
   "metadata": {},
   "outputs": [],
   "source": [
    "# Calculate mean of all cars with 3 and 4 cylinders:\n",
    "mean_all = np.mean(cars_cyl_34[\"mpg\"])\n",
    "\n",
    "# Shift both arrays to have the same mean\n",
    "cars3_shifted = cars_cyl_3 - np.mean(cars_cyl_3) + mean_all\n",
    "cars4_shifted = cars_cyl_4 - np.mean(cars_cyl_4) + mean_all"
   ]
  },
  {
   "cell_type": "code",
   "execution_count": 88,
   "metadata": {},
   "outputs": [
    {
     "name": "stdout",
     "output_type": "stream",
     "text": [
      "p-value = 0.0\n"
     ]
    }
   ],
   "source": [
    "# Compute 10,000 bootstrap replicates from shifted arrays\n",
    "no_bs_samples = 10_000\n",
    "cars_cyl_3_bs = draw_bs_reps(cars3_shifted, np.mean, no_bs_samples)\n",
    "cars_cyl_4_bs = draw_bs_reps(cars4_shifted, np.mean, no_bs_samples)\n",
    "\n",
    "# Get replicates of difference of means: bs_replicates\n",
    "bs_replicates = cars_cyl_4_bs - cars_cyl_3_bs\n",
    "\n",
    "# Compute and print p-value: p\n",
    "p = np.sum(bs_replicates >= mean_all) / no_bs_samples\n",
    "print('p-value =', p)"
   ]
  },
  {
   "cell_type": "markdown",
   "metadata": {},
   "source": [
    "The p-value tells us that there is a 0% chance that we would get the difference of means observed in the df if both car types were exactly the same. But the sample size of cars with 3 cylinders is really small. Therefore it could still be possible, that both car types have the same mean. "
   ]
  },
  {
   "cell_type": "markdown",
   "metadata": {},
   "source": [
    "### Alternative: Hypothesis tests based on a difference in means"
   ]
  },
  {
   "cell_type": "markdown",
   "metadata": {},
   "source": [
    "The null hypothesis represents the case of no difference between the groups.\n",
    "**Null hypothesis**: There is no difference in average mpg for cars with 3 and 4 cylinders (µn − µs = 0)\n",
    "**Alternative hypothesis**: : There is some difference in average mpg for cars with 3 and 4 cylinders (µn − µs != 0)."
   ]
  },
  {
   "cell_type": "code",
   "execution_count": 65,
   "metadata": {},
   "outputs": [
    {
     "name": "stdout",
     "output_type": "stream",
     "text": [
      "Diff_mean_original data: 8.734\n",
      "SE of point estimation: 1.181\n"
     ]
    }
   ],
   "source": [
    "#Compute diff of mean of original data: \n",
    "diff_mean_org = np.round(diff_of_means(cars_cyl_4, cars_cyl_3),3)\n",
    "print(\"Diff_mean_original data:\",diff_mean_org)\n",
    "\n",
    "SE_org = np.sqrt((std_3_org**2/no_samples_3)+(std_4_org**2/no_samples_4))\n",
    "print(\"SE of point estimation:\", np.round(SE_org,3))"
   ]
  },
  {
   "cell_type": "markdown",
   "metadata": {},
   "source": [
    "We check the two conditions necessary to apply the t distribution to the difference in sample means. :\n",
    "\n",
    "1. In this df, the cars are independent of each other. But, the sample for cars with 3 cylinders is very small. The histogram of cyl 4 doen’t show any clear deviations from normality\n",
    "2. The cars in each group are also independent of each other."
   ]
  },
  {
   "cell_type": "code",
   "execution_count": 53,
   "metadata": {},
   "outputs": [
    {
     "data": {
      "image/png": "[encoded data removed]",
      "text/plain": [
       "<Figure size 1080x360 with 2 Axes>"
      ]
     },
     "metadata": {
      "needs_background": "light"
     },
     "output_type": "display_data"
    }
   ],
   "source": [
    "# Print both distributions\n",
    "fig, (ax11, ax21) = plt.subplots(1,2, figsize=(15,5))\n",
    "ax11.hist(cars_cyl_3);\n",
    "ax21.hist(cars_cyl_4, color=\"orange\");"
   ]
  },
  {
   "cell_type": "code",
   "execution_count": 66,
   "metadata": {},
   "outputs": [
    {
     "name": "stdout",
     "output_type": "stream",
     "text": [
      "7.398\n",
      "3\n",
      "0.05\n"
     ]
    }
   ],
   "source": [
    "T = (diff_mean_org - 0)/SE_org\n",
    "print(np.round(T,3))\n",
    "\n",
    "degree_freedom = no_samples_3-1\n",
    "print(degree_freedom)\n",
    "\n",
    "alpha = 0.05\n",
    "print(alpha)"
   ]
  },
  {
   "cell_type": "markdown",
   "metadata": {},
   "source": [
    "The T score falls even behind the last column in the df = 3 row of the t table, meaning the two-tailed p-value is lower than 0.01. This p-value is smaller than the significance value (alpha) 0.05, so we safely reject the null hypothesis. There is some difference in average mpg for cars with 3 and 4 cylinders"
   ]
  },
  {
   "cell_type": "markdown",
   "metadata": {},
   "source": [
    "## Task 3\n",
    "Can you think of more interesting hypotheses to test regarding the pregnancy data ?"
   ]
  },
  {
   "cell_type": "code",
   "execution_count": null,
   "metadata": {},
   "outputs": [],
   "source": [
    "#pregnancy data:\n",
    "#preg=pd.read_hdf('../data/pregNSFG.h5', 'df')\n",
    "preg = pd.read_csv(\"../data/pregNSFG.csv.gz\").drop([\"Unnamed: 0\"],axis=1)\n",
    "\n",
    "#only look at live births\n",
    "live = preg[preg.outcome == 1]\n",
    "live.head()"
   ]
  },
  {
   "cell_type": "code",
   "execution_count": null,
   "metadata": {},
   "outputs": [],
   "source": []
  }
 ],
 "metadata": {
  "hide_input": false,
  "kernelspec": {
   "display_name": "Python 3 (ipykernel)",
   "language": "python",
   "name": "python3"
  },
  "language_info": {
   "codemirror_mode": {
    "name": "ipython",
    "version": 3
   },
   "file_extension": ".py",
   "mimetype": "text/x-python",
   "name": "python",
   "nbconvert_exporter": "python",
   "pygments_lexer": "ipython3",
   "version": "3.8.6"
  },
  "toc": {
   "base_numbering": 1,
   "nav_menu": {},
   "number_sections": true,
   "sideBar": true,
   "skip_h1_title": false,
   "title_cell": "Table of Contents",
   "title_sidebar": "Contents",
   "toc_cell": false,
   "toc_position": {},
   "toc_section_display": true,
   "toc_window_display": true
  },
  "varInspector": {
   "cols": {
    "lenName": 16,
    "lenType": 16,
    "lenVar": 40
   },
   "kernels_config": {
    "python": {
     "delete_cmd_postfix": "",
     "delete_cmd_prefix": "del ",
     "library": "var_list.py",
     "varRefreshCmd": "print(var_dic_list())"
    },
    "r": {
     "delete_cmd_postfix": ") ",
     "delete_cmd_prefix": "rm(",
     "library": "var_list.r",
     "varRefreshCmd": "cat(var_dic_list()) "
    }
   },
   "types_to_exclude": [
    "module",
    "function",
    "builtin_function_or_method",
    "instance",
    "_Feature"
   ],
   "window_display": false
  }
 },
 "nbformat": 4,
 "nbformat_minor": 2
}
