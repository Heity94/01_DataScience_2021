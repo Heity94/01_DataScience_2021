{
 "cells": [
  {
   "cell_type": "markdown",
   "metadata": {},
   "source": [
    "# Homework 4 Solution\n",
    "\n",
    "## Task 1\n",
    "\n",
    "(In the following set $\\alpha = 0.05$, $M=500$)\n",
    "\n",
    "1. Comparing Bootstrap and Permutation Testing\n",
    "    * Generate two arrays of 50 (each) random samples from a normal distribution, each with mean $\\mu_1=\\mu_2=50$, but with different stdevs: $\\sigma_1 = 1, \\sigma_2 = 4$.\n",
    "    * Based on those two samples, test the Null Hypothesis $H_0: \\mu_1=\\mu_2$, $H_A: \\mu_1 \\neq \\mu_2$ in two ways: (i) Bootstrap and (ii) Permutation.\n",
    "    * Repeat the previous two steps (in a loop) $500$ times and save the test decisions in an array. \n",
    "    * Compute the type-I error rates for the two test procedures. Discuss your findings.\n",
    "2. Random Walks\n",
    "    * Adjust the code from the lesson such that you are simulating a **biased** random walk that imitates Web clicks: With probability $p=0.1$ you take a positive step $x=1$ (yes click), and with $p=0.9$ you stay where you are $x=0$ (no click). \"Launch\" $1000$ walkers for $400$ time steps each.\n",
    "    * Write a function that (for each walker) tests the Null Hypothesis $H_0: p \\leq 0.05$, $H_A: p > 0.05$ by applying this rule\n",
    "    $$t = \\frac{\\sqrt{n} \\cdot (\\hat{p}- 0.05)}{\\sqrt{0.05 \\cdot 0.95}} > z_{1- \\alpha} $$ where $\\hat{p} = \\sum x/n$ is the observed proportion of \"ones\" up to time step $n$.\n",
    "    * Compute the type-II error rates for time steps $50$, $100$ and $400$.\n",
    "    * Wouldn't it be nice to deploy an \"early stopping\" rule ? Try out the following strategy: stop the test **at any time** if your test statistic exceeds the threshold $z_{1- \\alpha}$!\n",
    "        * Compute your type-I error at the end of the $400$ time steps and compare to the one you set ($\\alpha$).\n",
    "\n",
    "\n"
   ]
  },
  {
   "cell_type": "code",
   "execution_count": 1,
   "metadata": {},
   "outputs": [],
   "source": [
    "# running our functions\n",
    "%run ../ourFunctions.py"
   ]
  },
  {
   "cell_type": "markdown",
   "metadata": {},
   "source": [
    "## Task 1.1 \n",
    "* **Comparing Bootstrap and Permutation Testing**"
   ]
  },
  {
   "cell_type": "code",
   "execution_count": 2,
   "metadata": {},
   "outputs": [],
   "source": [
    "def Bootstrap2Normals(mu1=0,mu2=0,s1=1,s2=4,n=50,M=500,alpha=0.05):\n",
    "    x1= stats.norm.rvs(mu1,s1,n)\n",
    "    x2= stats.norm.rvs(mu2,s2,n)\n",
    "    \n",
    "    meanNull = np.mean(np.concatenate([x1,x2]))\n",
    "    empirical_diff_means = np.abs(np.mean(x1)-np.mean(x2))\n",
    "    \n",
    "    x1_shifted = x1 - np.mean(x1) + meanNull\n",
    "    x2_shifted = x2 - np.mean(x2) + meanNull\n",
    "\n",
    "    bs_replicates_1 = draw_bs_reps(x1_shifted, np.mean, M)\n",
    "    bs_replicates_2 = draw_bs_reps(x2_shifted, np.mean, M)\n",
    "\n",
    "    # Get replicates of difference of means: bs_replicates\n",
    "    bs_replicates = bs_replicates_1 - bs_replicates_2\n",
    "    \n",
    "    pVal = np.mean( np.abs(bs_replicates) >= empirical_diff_means)\n",
    "    \n",
    "    return pVal < alpha\n",
    "\n",
    "\n",
    "def Permutation2Normals(mu1=0,mu2=0,s1=1,s2=4,n=50,M=500,alpha=0.05):\n",
    "    x1= stats.norm.rvs(mu1,s1,n)\n",
    "    x2= stats.norm.rvs(mu2,s2,n)\n",
    "    \n",
    "    meanNull = np.mean(np.concatenate([x1,x2]))\n",
    "    empirical_diff_means = np.abs(np.mean(x1)-np.mean(x2))\n",
    "\n",
    "    # Get replicates of difference of means: bs_replicates\n",
    "    perm_replicates = draw_perm_reps(x1, x2, diff_of_means, M)\n",
    "    \n",
    "    pVal = np.mean( np.abs(perm_replicates) >= empirical_diff_means)\n",
    "    \n",
    "    return pVal < alpha"
   ]
  },
  {
   "cell_type": "markdown",
   "metadata": {},
   "source": [
    "* Generate two arrays of 50 (each) random samples from a normal distribution, each with mean $\\mu_1=\\mu_2=50$, but with different stdevs: $\\sigma_1 = 1, \\sigma_2 = 4$."
   ]
  },
  {
   "cell_type": "code",
   "execution_count": 3,
   "metadata": {},
   "outputs": [
    {
     "data": {
      "text/plain": [
       "0.0918436265327637"
      ]
     },
     "execution_count": 3,
     "metadata": {},
     "output_type": "execute_result"
    }
   ],
   "source": [
    "mu1=0;mu2=0;s1=1;s2=4;n=50;M=1000;alpha=0.05\n",
    "x1= stats.norm.rvs(mu1,s1,n)\n",
    "x2= stats.norm.rvs(mu2,s2,n)\n",
    "\n",
    "meanNull = np.mean(np.concatenate([x1,x2]))\n",
    "meanNull\n",
    "empirical_diff_means = np.abs(np.mean(x1)-np.mean(x2))\n",
    "empirical_diff_means"
   ]
  },
  {
   "cell_type": "markdown",
   "metadata": {},
   "source": [
    "* Repeat the previous two steps (in a loop) $500$ times and save the test decisions in an array. "
   ]
  },
  {
   "cell_type": "code",
   "execution_count": 4,
   "metadata": {},
   "outputs": [],
   "source": [
    "N = 500\n",
    "TypeI = np.empty([N,2])\n",
    "for i in range(N):\n",
    "    TypeI[i,0] = Bootstrap2Normals()\n",
    "    TypeI[i,1] = Permutation2Normals()"
   ]
  },
  {
   "cell_type": "markdown",
   "metadata": {},
   "source": [
    "* Compute the type-I error rates for the two test procedures. Discuss your findings."
   ]
  },
  {
   "cell_type": "code",
   "execution_count": 5,
   "metadata": {},
   "outputs": [
    {
     "data": {
      "text/plain": [
       "array([0.048, 0.068])"
      ]
     },
     "execution_count": 5,
     "metadata": {},
     "output_type": "execute_result"
    }
   ],
   "source": [
    "np.mean(TypeI,0)"
   ]
  },
  {
   "cell_type": "code",
   "execution_count": 6,
   "metadata": {},
   "outputs": [
    {
     "data": {
      "text/html": [
       "<div>\n",
       "<style scoped>\n",
       "    .dataframe tbody tr th:only-of-type {\n",
       "        vertical-align: middle;\n",
       "    }\n",
       "\n",
       "    .dataframe tbody tr th {\n",
       "        vertical-align: top;\n",
       "    }\n",
       "\n",
       "    .dataframe thead th {\n",
       "        text-align: right;\n",
       "    }\n",
       "</style>\n",
       "<table border=\"1\" class=\"dataframe\">\n",
       "  <thead>\n",
       "    <tr style=\"text-align: right;\">\n",
       "      <th></th>\n",
       "      <th>0</th>\n",
       "      <th>1</th>\n",
       "    </tr>\n",
       "  </thead>\n",
       "  <tbody>\n",
       "    <tr>\n",
       "      <th>0</th>\n",
       "      <td>0.0</td>\n",
       "      <td>1.0</td>\n",
       "    </tr>\n",
       "    <tr>\n",
       "      <th>1</th>\n",
       "      <td>0.0</td>\n",
       "      <td>0.0</td>\n",
       "    </tr>\n",
       "    <tr>\n",
       "      <th>2</th>\n",
       "      <td>0.0</td>\n",
       "      <td>0.0</td>\n",
       "    </tr>\n",
       "    <tr>\n",
       "      <th>3</th>\n",
       "      <td>0.0</td>\n",
       "      <td>0.0</td>\n",
       "    </tr>\n",
       "    <tr>\n",
       "      <th>4</th>\n",
       "      <td>0.0</td>\n",
       "      <td>1.0</td>\n",
       "    </tr>\n",
       "    <tr>\n",
       "      <th>...</th>\n",
       "      <td>...</td>\n",
       "      <td>...</td>\n",
       "    </tr>\n",
       "    <tr>\n",
       "      <th>495</th>\n",
       "      <td>0.0</td>\n",
       "      <td>0.0</td>\n",
       "    </tr>\n",
       "    <tr>\n",
       "      <th>496</th>\n",
       "      <td>0.0</td>\n",
       "      <td>0.0</td>\n",
       "    </tr>\n",
       "    <tr>\n",
       "      <th>497</th>\n",
       "      <td>0.0</td>\n",
       "      <td>0.0</td>\n",
       "    </tr>\n",
       "    <tr>\n",
       "      <th>498</th>\n",
       "      <td>0.0</td>\n",
       "      <td>0.0</td>\n",
       "    </tr>\n",
       "    <tr>\n",
       "      <th>499</th>\n",
       "      <td>0.0</td>\n",
       "      <td>0.0</td>\n",
       "    </tr>\n",
       "  </tbody>\n",
       "</table>\n",
       "<p>500 rows × 2 columns</p>\n",
       "</div>"
      ],
      "text/plain": [
       "       0    1\n",
       "0    0.0  1.0\n",
       "1    0.0  0.0\n",
       "2    0.0  0.0\n",
       "3    0.0  0.0\n",
       "4    0.0  1.0\n",
       "..   ...  ...\n",
       "495  0.0  0.0\n",
       "496  0.0  0.0\n",
       "497  0.0  0.0\n",
       "498  0.0  0.0\n",
       "499  0.0  0.0\n",
       "\n",
       "[500 rows x 2 columns]"
      ]
     },
     "execution_count": 6,
     "metadata": {},
     "output_type": "execute_result"
    }
   ],
   "source": [
    "TypeI_df = pd.DataFrame(TypeI)\n",
    "TypeI_df"
   ]
  },
  {
   "cell_type": "markdown",
   "metadata": {},
   "source": [
    "## Task 1.2\n",
    "* **Random Walks**"
   ]
  },
  {
   "cell_type": "markdown",
   "metadata": {},
   "source": [
    "* Adjust the code from the lesson such that you are simulating a **biased** random walk that imitates Web clicks: With probability $p=0.1$ you take a positive step $x=1$ (yes click), and with $p=0.9$ you stay where you are $x=0$ (no click). \"Launch\" $1000$ walkers for $400$ time steps each."
   ]
  },
  {
   "cell_type": "code",
   "execution_count": 7,
   "metadata": {},
   "outputs": [],
   "source": [
    "def BiasedWalk(p0=0.1, nwalks = 5000, nsteps = 400): \n",
    "    draws = np.random.uniform(0, 1, size=(nwalks, nsteps)) # 0 or 1\n",
    "    steps = np.where(draws > p0, 0, 1)\n",
    "    walks = steps.cumsum(1)\n",
    "    return walks"
   ]
  },
  {
   "cell_type": "code",
   "execution_count": 8,
   "metadata": {},
   "outputs": [
    {
     "data": {
      "text/plain": [
       "<matplotlib.legend.Legend at 0x127af2190>"
      ]
     },
     "execution_count": 8,
     "metadata": {},
     "output_type": "execute_result"
    },
    {
     "data": {
      "image/png": "[encoded data removed]",
      "text/plain": [
       "<Figure size 576x432 with 1 Axes>"
      ]
     },
     "metadata": {
      "needs_background": "light"
     },
     "output_type": "display_data"
    }
   ],
   "source": [
    "nwalks = 1000\n",
    "nsteps = 400\n",
    "walks = BiasedWalk(nwalks=nwalks, nsteps=nsteps)\n",
    "\n",
    "fig, ax = plt.subplots(figsize=(8,6))\n",
    "\n",
    "ax.plot(walks[1,:], 'k', label='one', linewidth=0.7)\n",
    "ax.plot(walks[2,:], label='two', linestyle ='--', linewidth=0.7)\n",
    "ax.plot(walks[3,:],  label='three', linestyle ='--', linewidth=0.7)\n",
    "ax.plot(walks[4,:],  label='four', linestyle ='--', linewidth=0.7)\n",
    "ax.grid()\n",
    "\n",
    "ax.legend(loc='best')"
   ]
  },
  {
   "cell_type": "markdown",
   "metadata": {},
   "source": [
    "* Write a function that (for each walker) tests the Null Hypothesis $H_0: p \\leq 0.05$, $H_A: p > 0.05$ by applying this rule <br> <br>\n",
    "    $$t = \\frac{\\sqrt{n} \\cdot (\\hat{p}- 0.05)}{\\sqrt{0.05 \\cdot 0.95}} > z_{1- \\alpha} $$ <br> where $\\hat{p} = \\sum x/n$ is the observed proportion of \"ones\" up to time step $n$."
   ]
  },
  {
   "cell_type": "code",
   "execution_count": 9,
   "metadata": {},
   "outputs": [],
   "source": [
    "def TypeIIranWalk(walks, p0=0.05, timestep=50, alpha = 0.05):\n",
    "    nwalks = walks.shape[0]\n",
    "    TypeII = np.empty(nwalks)\n",
    "    zCrit = stats.norm.ppf(1-alpha) # = 1.65\n",
    "    for i in range(nwalks):\n",
    "        pHat = walks[i,timestep-1]/timestep\n",
    "        t = np.sqrt(timestep)*(pHat-p0)/np.sqrt(p0*(1-p0))\n",
    "        TypeII[i] = (t <= zCrit ) #no reject\n",
    "    #at this poinnt TypeII is a vector of lenght 5000\n",
    "\n",
    "    return np.mean(TypeII)"
   ]
  },
  {
   "cell_type": "markdown",
   "metadata": {},
   "source": [
    "* Compute the type-II error rates for time steps $50$, $100$ and $400$."
   ]
  },
  {
   "cell_type": "code",
   "execution_count": 10,
   "metadata": {},
   "outputs": [
    {
     "name": "stdout",
     "output_type": "stream",
     "text": [
      "Type-II error 50 time stpes: 0.618\n",
      "Type-II error 100 time stpes: 0.31\n",
      "Type-II error 400 time stpes: 0.023\n"
     ]
    }
   ],
   "source": [
    "print(f'Type-II error 50 time stpes: {TypeIIranWalk(walks, timestep=50)}')\n",
    "print(f'Type-II error 100 time stpes: {TypeIIranWalk(walks, timestep=100)}')\n",
    "print(f'Type-II error 400 time stpes: {TypeIIranWalk(walks, timestep=400)}')"
   ]
  },
  {
   "cell_type": "markdown",
   "metadata": {},
   "source": [
    "* Wouldn't it be nice to deploy an \"early stopping\" rule ? Try out the following strategy: stop the test **at any time** if your test statistic exceeds the threshold $z_{1- \\alpha}$!"
   ]
  },
  {
   "cell_type": "code",
   "execution_count": 11,
   "metadata": {},
   "outputs": [],
   "source": [
    "def TypeIranWalk_sequential(walks, p0=0.05, alpha = 0.05):\n",
    "    nwalks = walks.shape[0]\n",
    "    nsteps = walks.shape[1]\n",
    "    steps = (np.arange(nsteps)+1)\n",
    "    \n",
    "    TypeI = np.empty(nwalks)\n",
    "    zCrit = stats.norm.ppf(1-alpha)\n",
    "    \n",
    "    for i in range(nwalks):\n",
    "        pHat = walks[i,:]/steps\n",
    "        t = np.sqrt(steps)*(pHat-p0)/np.sqrt(p0*(1-p0))\n",
    "        TypeI[i] = np.any((t > zCrit )) # reject\n",
    "    return np.mean(TypeI)"
   ]
  },
  {
   "cell_type": "markdown",
   "metadata": {},
   "source": [
    "* Compute your type-I error at the end of the $400$ time steps and compare to the one you set ($\\alpha$)."
   ]
  },
  {
   "cell_type": "code",
   "execution_count": 12,
   "metadata": {},
   "outputs": [
    {
     "data": {
      "text/plain": [
       "0.4292"
      ]
     },
     "execution_count": 12,
     "metadata": {},
     "output_type": "execute_result"
    }
   ],
   "source": [
    "walks0 = BiasedWalk(p0=0.05)\n",
    "TypeIranWalk_sequential(walks0)"
   ]
  },
  {
   "cell_type": "code",
   "execution_count": 13,
   "metadata": {},
   "outputs": [],
   "source": [
    "#debugging:\n",
    "i=1;p0=0.05\n",
    "nwalks = walks.shape[0]\n",
    "nsteps = walks.shape[1]\n",
    "steps = (np.arange(nsteps)+1)\n",
    "zCrit = stats.norm.ppf(1-alpha)\n",
    "pHat = walks[i,:]/steps\n",
    "t = np.sqrt(steps)*(pHat-p0)/np.sqrt(p0*(1-p0))"
   ]
  },
  {
   "cell_type": "code",
   "execution_count": 14,
   "metadata": {},
   "outputs": [
    {
     "data": {
      "text/plain": [
       "True"
      ]
     },
     "execution_count": 14,
     "metadata": {},
     "output_type": "execute_result"
    }
   ],
   "source": [
    "np.any((t > 2 ))"
   ]
  },
  {
   "cell_type": "code",
   "execution_count": 15,
   "metadata": {},
   "outputs": [
    {
     "data": {
      "text/plain": [
       "1.6448536269514722"
      ]
     },
     "execution_count": 15,
     "metadata": {},
     "output_type": "execute_result"
    }
   ],
   "source": [
    "zCrit"
   ]
  }
 ],
 "metadata": {
  "hide_input": false,
  "kernelspec": {
   "display_name": "Python 3 (ipykernel)",
   "language": "python",
   "name": "python3"
  },
  "language_info": {
   "codemirror_mode": {
    "name": "ipython",
    "version": 3
   },
   "file_extension": ".py",
   "mimetype": "text/x-python",
   "name": "python",
   "nbconvert_exporter": "python",
   "pygments_lexer": "ipython3",
   "version": "3.8.6"
  },
  "toc": {
   "base_numbering": 1,
   "nav_menu": {},
   "number_sections": true,
   "sideBar": true,
   "skip_h1_title": false,
   "title_cell": "Table of Contents",
   "title_sidebar": "Contents",
   "toc_cell": false,
   "toc_position": {},
   "toc_section_display": true,
   "toc_window_display": false
  },
  "varInspector": {
   "cols": {
    "lenName": 16,
    "lenType": 16,
    "lenVar": 40
   },
   "kernels_config": {
    "python": {
     "delete_cmd_postfix": "",
     "delete_cmd_prefix": "del ",
     "library": "var_list.py",
     "varRefreshCmd": "print(var_dic_list())"
    },
    "r": {
     "delete_cmd_postfix": ") ",
     "delete_cmd_prefix": "rm(",
     "library": "var_list.r",
     "varRefreshCmd": "cat(var_dic_list()) "
    }
   },
   "types_to_exclude": [
    "module",
    "function",
    "builtin_function_or_method",
    "instance",
    "_Feature"
   ],
   "window_display": false
  }
 },
 "nbformat": 4,
 "nbformat_minor": 2
}
