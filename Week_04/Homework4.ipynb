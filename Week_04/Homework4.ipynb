{
 "cells": [
  {
   "cell_type": "code",
   "execution_count": 1,
   "metadata": {},
   "outputs": [],
   "source": [
    "%run ../ourFunctions.py"
   ]
  },
  {
   "cell_type": "code",
   "execution_count": 2,
   "metadata": {},
   "outputs": [],
   "source": [
    "import pandas as pd\n",
    "import numpy as np\n",
    "import matplotlib.pyplot as plt\n",
    "import seaborn as sns"
   ]
  },
  {
   "cell_type": "markdown",
   "metadata": {},
   "source": [
    "# Homework 4\n",
    "\n",
    "(In the following set $\\alpha = 0.05$, $M=500$)\n",
    "\n",
    "## 1. Comparing Bootstrap and Permutation Testing\n",
    "    \n",
    "* Generate two arrays of 50 (each) random samples from a normal distribution, each with mean $\\mu_1=\\mu_2=50$, but with different stdevs: $\\sigma_1 = 1, \\sigma_2 = 4$.\n",
    "* Based on those two samples, test the Null Hypothesis $H_0: \\mu_1=\\mu_2$, $H_A: \\mu_1 \\neq \\mu_2$ in two ways: (i) Bootstrap and (ii) Permutation.\n",
    "* Repeat the previous two steps (in a loop) $500$ times and save the test decisions in an array. \n",
    "* Compute the type-I error rates for the two test procedures. Discuss your findings."
   ]
  },
  {
   "cell_type": "code",
   "execution_count": 3,
   "metadata": {},
   "outputs": [],
   "source": [
    "mu = 50\n",
    "sigma_1 = 1\n",
    "sigma_2 = 4\n",
    "test_decisions = np.empty((500,2))\n",
    "\n",
    "# Generate two arrays of 50 random samples\n",
    "samples_1 = np.random.normal(loc=mu, scale=sigma_1, size=50)\n",
    "samples_2 = np.random.normal(loc=mu, scale=sigma_2, size=50)\n",
    "\n",
    "emp_diff_means = abs(diff_of_means(samples_1, samples_2)) # Test statistic (diff of means)\n",
    "mean_overall = np.mean([samples_1,samples_2]) "
   ]
  },
  {
   "cell_type": "code",
   "execution_count": 4,
   "metadata": {},
   "outputs": [
    {
     "data": {
      "image/png": "[encoded data removed]",
      "text/plain": [
       "<Figure size 432x288 with 1 Axes>"
      ]
     },
     "metadata": {
      "needs_background": "light"
     },
     "output_type": "display_data"
    }
   ],
   "source": [
    "plot2ECDFs(samples_1, samples_2, leg=(\"std 1\", \"std 4\"), xlab=\"value\")"
   ]
  },
  {
   "cell_type": "code",
   "execution_count": 8,
   "metadata": {},
   "outputs": [],
   "source": [
    "M = 1000 # no of samples\n",
    "n = 500 # no of repetitions \n",
    "\n",
    "# Generate shifted arrays\n",
    "samples_1_underNull = samples_1 - np.mean(samples_1) + mean_overall\n",
    "samples_2_underNull = samples_2 - np.mean(samples_2) + mean_overall\n",
    "\n",
    "for i in range(n):\n",
    "    \n",
    "    # Draw Bootstrap replicates \n",
    "    bs_reps_1 = draw_bs_reps(samples_1_underNull, np.mean, size=M)\n",
    "    bs_reps_2 = draw_bs_reps(samples_2_underNull, np.mean, size=M)\n",
    "    bs_diff_means = abs(bs_reps_1-bs_reps_2)\n",
    "\n",
    "    # Draw Permutation replicates\n",
    "    perm_diff_means = draw_perm_reps(samples_1_underNull, samples_2_underNull, diff_of_means, size=M)\n",
    "\n",
    "    #Compute p-value, that absolute diff of means of bs samples is at least as extreme as what we observed\n",
    "    p_bs = np.sum(bs_diff_means >= emp_diff_means)/len(bs_diff_means)\n",
    "    test_decisions[i,0] = p_bs\n",
    "    p_perm = np.sum(abs(perm_diff_means) >= emp_diff_means)/len(perm_diff_means)\n",
    "    test_decisions[i,1] = p_perm\n",
    "\n",
    "# Compute the type-I error rates for the two test procedures \n",
    "bs_t1_error_rate = np.sum(test_decisions[:,0]<=0.05)/ n\n",
    "perm_t1_error_rate = np.sum(test_decisions[:,1]<=0.05)/ n"
   ]
  },
  {
   "cell_type": "code",
   "execution_count": 11,
   "metadata": {},
   "outputs": [
    {
     "data": {
      "image/png": "[encoded data removed]",
      "text/plain": [
       "<Figure size 432x288 with 1 Axes>"
      ]
     },
     "metadata": {
      "needs_background": "light"
     },
     "output_type": "display_data"
    }
   ],
   "source": [
    "plot2ECDFs(test_decisions[:,0], test_decisions[:,1], leg=(\"Bootstrap test\", \"Permutation test\"), xlab=\"p-value\")"
   ]
  },
  {
   "cell_type": "code",
   "execution_count": 9,
   "metadata": {},
   "outputs": [
    {
     "name": "stdout",
     "output_type": "stream",
     "text": [
      "Type 1 error rate of bootstrap test: 0.0\n",
      "Type 1 error rate of permutation test: 0.0\n"
     ]
    }
   ],
   "source": [
    "print(\"Type 1 error rate of bootstrap test:\", bs_t1_error_rate)\n",
    "print(\"Type 1 error rate of permutation test:\", perm_t1_error_rate)"
   ]
  },
  {
   "cell_type": "markdown",
   "metadata": {},
   "source": [
    "## 2. Random Walks\n",
    "* Adjust the code from the lesson such that you are simulating a **biased** random walk that imitates Web clicks: With probability $p=0.1$ you take a positive step $x=1$ (yes click), and with $p=0.9$ you stay where you are $x=0$ (no click). \"Launch\" $1000$ walkers for $400$ time steps each.\n",
    "* Write a function that (for each walker) tests the Null Hypothesis $H_0: p \\leq 0.05$, $H_A: p > 0.05$ by applying this rule <br><br>\n",
    "$$t = \\frac{\\sqrt{n} \\cdot (\\hat{p}- 0.05)}{\\sqrt{0.05 \\cdot 0.95}} > z_{1- \\alpha} $$<br> where $\\hat{p} = \\sum x/n$ is the observed proportion of \"ones\" up to time step $n$.\n",
    "* Compute the type-II error rates for time steps $50$, $100$ and $400$.\n",
    "* Wouldn't it be nice to deploy an \"early stopping\" rule ? Try out the following strategy: stop the test **at any time** if your test statistic exceeds the threshold $z_{1- \\alpha}$!\n",
    "    * Compute your type-I error at the end of the $400$ time steps and compare to the one you set ($\\alpha$)."
   ]
  },
  {
   "cell_type": "code",
   "execution_count": 78,
   "metadata": {},
   "outputs": [],
   "source": [
    "prob_walk = 0.1\n",
    "no_walkers = 1000\n",
    "no_steps = 400\n",
    "z1_min_a= 1.645 #value for Z1-alpha for alpha of 0.05 (taken from z-table)"
   ]
  },
  {
   "cell_type": "code",
   "execution_count": 64,
   "metadata": {},
   "outputs": [],
   "source": [
    "# Create walks \n",
    "walks = np.empty((no_walkers, no_steps))\n",
    "for i in range(no_walkers):\n",
    "    walks[i,:] = [1 if x<=prob_walk else 0 for x in np.random.rand(400)]\n"
   ]
  },
  {
   "cell_type": "code",
   "execution_count": 121,
   "metadata": {},
   "outputs": [],
   "source": [
    "def test_null_walks(walks, step, axis=1):\n",
    "    t = (np.sqrt(step)*(np.mean(walks[:step], axis=axis)-0.05))/(np.sqrt(0.05*0.95))\n",
    "    return t"
   ]
  },
  {
   "cell_type": "code",
   "execution_count": 127,
   "metadata": {},
   "outputs": [],
   "source": [
    "#type-II error rates for time steps 50, 100 and 400\n",
    "t2_err_50 = np.sum(test_null_walks(walks, 50)>z1_min_a)/walks.shape[0]  \n",
    "t2_err_100 = np.sum(test_null_walks(walks, 100)>z1_min_a)/walks.shape[0]\n",
    "t2_err_400 = np.sum(test_null_walks(walks, 400)>z1_min_a)/walks.shape[0]"
   ]
  },
  {
   "cell_type": "code",
   "execution_count": 128,
   "metadata": {},
   "outputs": [
    {
     "name": "stdout",
     "output_type": "stream",
     "text": [
      "0.026\n",
      "0.079\n",
      "0.394\n"
     ]
    }
   ],
   "source": [
    "print(t2_err_50)\n",
    "print(t2_err_100)\n",
    "print(t2_err_400)"
   ]
  },
  {
   "cell_type": "code",
   "execution_count": 145,
   "metadata": {
    "scrolled": true
   },
   "outputs": [],
   "source": [
    "#\"early stopping\" rule: the results list includes the number of steps it took to reject the null hypothesis for each walk \n",
    "results=[]\n",
    "for i, steps in enumerate(walks):\n",
    "    for j in range(1,no_steps+1):\n",
    "        if test_null_walks(steps, j, axis=0) > z1_min_a:\n",
    "            continue\n",
    "        results.append(j)\n",
    "        break"
   ]
  },
  {
   "cell_type": "code",
   "execution_count": 149,
   "metadata": {},
   "outputs": [
    {
     "data": {
      "text/plain": [
       "0.394"
      ]
     },
     "execution_count": 149,
     "metadata": {},
     "output_type": "execute_result"
    }
   ],
   "source": [
    "# type-I error at the end of the 400 time steps\n",
    "t1_err_400 = np.sum(test_null_walks(walks, 400)>z1_min_a)/walks.shape[0]\n",
    "t1_err_400"
   ]
  },
  {
   "cell_type": "code",
   "execution_count": null,
   "metadata": {},
   "outputs": [],
   "source": []
  }
 ],
 "metadata": {
  "hide_input": false,
  "kernelspec": {
   "display_name": "Python 3 (ipykernel)",
   "language": "python",
   "name": "python3"
  },
  "language_info": {
   "codemirror_mode": {
    "name": "ipython",
    "version": 3
   },
   "file_extension": ".py",
   "mimetype": "text/x-python",
   "name": "python",
   "nbconvert_exporter": "python",
   "pygments_lexer": "ipython3",
   "version": "3.8.6"
  },
  "toc": {
   "base_numbering": 1,
   "nav_menu": {},
   "number_sections": true,
   "sideBar": true,
   "skip_h1_title": false,
   "title_cell": "Table of Contents",
   "title_sidebar": "Contents",
   "toc_cell": false,
   "toc_position": {},
   "toc_section_display": true,
   "toc_window_display": false
  },
  "varInspector": {
   "cols": {
    "lenName": 16,
    "lenType": 16,
    "lenVar": 40
   },
   "kernels_config": {
    "python": {
     "delete_cmd_postfix": "",
     "delete_cmd_prefix": "del ",
     "library": "var_list.py",
     "varRefreshCmd": "print(var_dic_list())"
    },
    "r": {
     "delete_cmd_postfix": ") ",
     "delete_cmd_prefix": "rm(",
     "library": "var_list.r",
     "varRefreshCmd": "cat(var_dic_list()) "
    }
   },
   "types_to_exclude": [
    "module",
    "function",
    "builtin_function_or_method",
    "instance",
    "_Feature"
   ],
   "window_display": false
  }
 },
 "nbformat": 4,
 "nbformat_minor": 2
}
