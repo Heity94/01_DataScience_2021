{
 "cells": [
  {
   "cell_type": "code",
   "execution_count": 1,
   "metadata": {},
   "outputs": [],
   "source": [
    "%run ../ourFunctions.py"
   ]
  },
  {
   "cell_type": "code",
   "execution_count": 2,
   "metadata": {},
   "outputs": [
    {
     "data": {
      "text/html": [
       "<div>\n",
       "<style scoped>\n",
       "    .dataframe tbody tr th:only-of-type {\n",
       "        vertical-align: middle;\n",
       "    }\n",
       "\n",
       "    .dataframe tbody tr th {\n",
       "        vertical-align: top;\n",
       "    }\n",
       "\n",
       "    .dataframe thead th {\n",
       "        text-align: right;\n",
       "    }\n",
       "</style>\n",
       "<table border=\"1\" class=\"dataframe\">\n",
       "  <thead>\n",
       "    <tr style=\"text-align: right;\">\n",
       "      <th></th>\n",
       "      <th>sex</th>\n",
       "      <th>dbirwt</th>\n",
       "    </tr>\n",
       "  </thead>\n",
       "  <tbody>\n",
       "    <tr>\n",
       "      <th>0</th>\n",
       "      <td>male</td>\n",
       "      <td>2551</td>\n",
       "    </tr>\n",
       "    <tr>\n",
       "      <th>1</th>\n",
       "      <td>male</td>\n",
       "      <td>2778</td>\n",
       "    </tr>\n",
       "    <tr>\n",
       "      <th>2</th>\n",
       "      <td>female</td>\n",
       "      <td>2976</td>\n",
       "    </tr>\n",
       "    <tr>\n",
       "      <th>3</th>\n",
       "      <td>female</td>\n",
       "      <td>3345</td>\n",
       "    </tr>\n",
       "    <tr>\n",
       "      <th>4</th>\n",
       "      <td>female</td>\n",
       "      <td>3175</td>\n",
       "    </tr>\n",
       "  </tbody>\n",
       "</table>\n",
       "</div>"
      ],
      "text/plain": [
       "      sex  dbirwt\n",
       "0    male    2551\n",
       "1    male    2778\n",
       "2  female    2976\n",
       "3  female    3345\n",
       "4  female    3175"
      ]
     },
     "execution_count": 2,
     "metadata": {},
     "output_type": "execute_result"
    }
   ],
   "source": [
    "df = pd.read_csv('../data/BirthWeights.csv')[[\"sex\", \"dbirwt\"]]\n",
    "df = df[(df[ \"dbirwt\"] < 6000) & (df[ \"dbirwt\"] > 2000)] # 2000 < birthweight < 6000\n",
    "df.head()"
   ]
  },
  {
   "cell_type": "code",
   "execution_count": 3,
   "metadata": {},
   "outputs": [
    {
     "data": {
      "image/png": "[encoded data removed]",
      "text/plain": [
       "<Figure size 432x288 with 1 Axes>"
      ]
     },
     "metadata": {
      "needs_background": "light"
     },
     "output_type": "display_data"
    }
   ],
   "source": [
    "x, y = ecdf(df[\"dbirwt\"])\n",
    "plt.plot(x,y);"
   ]
  },
  {
   "cell_type": "markdown",
   "metadata": {},
   "source": [
    "### Tasks\n",
    "\n",
    "1. Take a random sample of size 100 of the birth weights. With that sample:\n",
    "\n",
    "2. Using the `draw_bs_reps` function, find a 95% confidence interval of the **true mean birth weight**.\n",
    "\n",
    "2. Using the `draw_bs_reps` function, find a 95% confidence interval of the **true stdev of the birth weights**"
   ]
  },
  {
   "cell_type": "code",
   "execution_count": 4,
   "metadata": {},
   "outputs": [
    {
     "name": "stdout",
     "output_type": "stream",
     "text": [
      "conf_int = [3465.71 3495.05]\n",
      "true mean = 3480.557343654512\n"
     ]
    }
   ],
   "source": [
    "np.random.seed(42)\n",
    "#taking 100 samples mean\n",
    "bs_100_mu = draw_bs_reps(df[\"dbirwt\"], np.mean, size=400)\n",
    "conf95_int_mu = np.quantile(bs_100_mu, (0.025, 0.975))\n",
    "\n",
    "print(\"conf_int =\", np.round(conf95_int_mu, 2))\n",
    "print(\"true mean =\", np.mean(df[\"dbirwt\"]))"
   ]
  },
  {
   "cell_type": "code",
   "execution_count": 5,
   "metadata": {},
   "outputs": [
    {
     "data": {
      "text/plain": [
       "array([3465.71, 3495.05])"
      ]
     },
     "execution_count": 5,
     "metadata": {},
     "output_type": "execute_result"
    }
   ],
   "source": [
    "#taking 100 samples std\n",
    "bs_100_std = draw_bs_reps(df[\"dbirwt\"], np.std, size=100)\n",
    "np.round(np.percentile(bs_100_mu, [2.5, 97.5]),2)"
   ]
  },
  {
   "cell_type": "markdown",
   "metadata": {},
   "source": [
    "### Corona Vaccine\n",
    "\n",
    "Study enrolled 43,538 participants for an even split of placebo/vaccination.\n",
    "The trial had **162 confirmed cases** of symptomatic COVID-19 in the placebo group versus **eight** among those who received the two scheduled doses of the vaccine. "
   ]
  },
  {
   "cell_type": "markdown",
   "metadata": {},
   "source": [
    "The efficiency is then defined as : $$ 1- {\\frac}{(8/21769)}{(162/21769)} = 95%$$"
   ]
  },
  {
   "cell_type": "markdown",
   "metadata": {},
   "source": [
    "Task: Using the `draw_bs_reps` function, find a 95% conf interval of the true vaccine efficency "
   ]
  },
  {
   "cell_type": "code",
   "execution_count": 8,
   "metadata": {},
   "outputs": [
    {
     "data": {
      "text/plain": [
       "0.9"
      ]
     },
     "execution_count": 8,
     "metadata": {},
     "output_type": "execute_result"
    }
   ],
   "source": [
    "Inf = [8,162]\n",
    "\n",
    "CIupper = np.exp(np.log(Inf[0]/Inf[1]) + 1.96*np.sqrt(1/Inf[0] + 1/Inf[1] + 1/(21769-Inf[0]) + 1/(21769-Inf[1])))\n",
    "1-np.round(CIupper,3)"
   ]
  },
  {
   "cell_type": "code",
   "execution_count": 22,
   "metadata": {},
   "outputs": [],
   "source": [
    "M=5000\n",
    "\n",
    "#Construct arrays of data: \n",
    "Vaccinated = np.array([True] * Inf[0] + [False] * (21769 - Inf[0]))\n",
    "NotVaccinated = np.array([True] * Inf[1] + [False] * (21769 - Inf[1]))\n",
    "\n",
    "# Compute 1,000 bootstrap replicates from shifted arrays\n",
    "bs_replicates_V = draw_bs_reps(Vaccinated, np.sum, size=M)\n",
    "bs_replicates_NV = draw_bs_reps(NotVaccinated, np.sum, size=M)\n",
    "\n",
    "#relative risks:\n",
    "RR =bs_replicates_V/bs_replicates_NV"
   ]
  },
  {
   "cell_type": "code",
   "execution_count": 23,
   "metadata": {},
   "outputs": [
    {
     "data": {
      "image/png": "[encoded data removed]",
      "text/plain": [
       "<Figure size 432x288 with 1 Axes>"
      ]
     },
     "metadata": {
      "needs_background": "light"
     },
     "output_type": "display_data"
    },
    {
     "data": {
      "text/plain": [
       "0.91"
      ]
     },
     "execution_count": 23,
     "metadata": {},
     "output_type": "execute_result"
    }
   ],
   "source": [
    "tmp=plt.hist(1-RR,density=True, facecolor='g')\n",
    "plt.xlabel('vaccine efficacy')\n",
    "plt.ylabel('Probability')\n",
    "plt.title('Bootstrapped Distribution of efficacy')\n",
    "plt.grid(True)\n",
    "plt.show()\n",
    "#LowerBoundEfficiency \n",
    "np.round(np.quantile(1-RR,0.025),3)"
   ]
  },
  {
   "cell_type": "markdown",
   "metadata": {},
   "source": [
    "Check Hypothesis\n"
   ]
  },
  {
   "cell_type": "code",
   "execution_count": 24,
   "metadata": {},
   "outputs": [],
   "source": [
    "efficiency_bs = 1-RR\n",
    "#this is my test statistic:\n",
    "efficiency_bs_shifted = efficiency_bs - (np.mean(efficiency_bs) - 0.9)"
   ]
  },
  {
   "cell_type": "code",
   "execution_count": 25,
   "metadata": {},
   "outputs": [
    {
     "data": {
      "image/png": "[encoded data removed]",
      "text/plain": [
       "<Figure size 432x288 with 1 Axes>"
      ]
     },
     "metadata": {
      "needs_background": "light"
     },
     "output_type": "display_data"
    },
    {
     "data": {
      "text/plain": [
       "0.91"
      ]
     },
     "execution_count": 25,
     "metadata": {},
     "output_type": "execute_result"
    }
   ],
   "source": [
    "tmp=plt.hist(efficiency_bs_shifted,density=True, facecolor='g')\n",
    "plt.xlabel('vaccine efficacy')\n",
    "plt.ylabel('Probability')\n",
    "plt.title('Bootstrapped Distribution of efficacy')\n",
    "plt.grid(True)\n",
    "plt.show()\n",
    "#LowerBoundEfficiency \n",
    "np.round(np.quantile(1-RR,0.025),3)"
   ]
  },
  {
   "cell_type": "code",
   "execution_count": 26,
   "metadata": {},
   "outputs": [
    {
     "name": "stdout",
     "output_type": "stream",
     "text": [
      "p-value = 0.0\n"
     ]
    }
   ],
   "source": [
    "obs_efficiency = np.mean(efficiency_bs)\n",
    "p = np.mean(efficiency_bs_shifted >= obs_efficiency)\n",
    "print('p-value =', p)"
   ]
  },
  {
   "cell_type": "markdown",
   "metadata": {},
   "source": [
    "### Two sample bootstrap hypothesis test"
   ]
  },
  {
   "cell_type": "code",
   "execution_count": null,
   "metadata": {},
   "outputs": [],
   "source": []
  }
 ],
 "metadata": {
  "kernelspec": {
   "display_name": "Python 3 (ipykernel)",
   "language": "python",
   "name": "python3"
  },
  "language_info": {
   "codemirror_mode": {
    "name": "ipython",
    "version": 3
   },
   "file_extension": ".py",
   "mimetype": "text/x-python",
   "name": "python",
   "nbconvert_exporter": "python",
   "pygments_lexer": "ipython3",
   "version": "3.8.6"
  },
  "toc": {
   "base_numbering": 1,
   "nav_menu": {},
   "number_sections": true,
   "sideBar": true,
   "skip_h1_title": false,
   "title_cell": "Table of Contents",
   "title_sidebar": "Contents",
   "toc_cell": false,
   "toc_position": {},
   "toc_section_display": true,
   "toc_window_display": false
  }
 },
 "nbformat": 4,
 "nbformat_minor": 4
}
