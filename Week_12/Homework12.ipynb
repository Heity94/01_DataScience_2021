{
 "cells": [
  {
   "cell_type": "markdown",
   "metadata": {},
   "source": [
    "# Homework 12\n",
    "\n",
    "This homework is about **forward and back propagation** in neural networks\n",
    "\n",
    "Consider a fully connected $3 x 3 x 1$ NN \n",
    "![nn3x3x1](../figures/nn3x3x1.png)\n",
    "\n",
    "with a sigmoidal activation function in the nodes of the hidden layer. (Input and output activations are simply the identity function)\n",
    "The weight matrices are (from left to right):\n",
    "\n",
    "$$\n",
    "W_{i,h} = \\left( \\begin{array}{ccc}\n",
    " 1 &   4 &   7 \\\\ \n",
    "    2 &   5 &   8 \\\\ \n",
    "    3 &   6 &   9 \\end{array} \\right) ,\n",
    "W_{h,o} = \\left( \\begin{array}{c}\n",
    "  -1 \\\\ \n",
    "  0.1 \\\\ \n",
    "  1  \\end{array} \\right) \n",
    "$$\n",
    "We follow the convention of the MYONN book which defines the weight matrix as the transpose of the weights depicted in the diagrams, i.e. the $(i,j)$ element $w_{(i,j)}$ is the weight going from left node j to right node i.\n",
    "(To leave no room for ambiguity: $W_{(i,h)}(2,1) = 2$ is the weight going from input node 1 to hidden node 2). The advantage is the simpler matrix multiplication.\n",
    "\n",
    "We ignore the bias term for this exercise, i.e. we assume that the three input nodes take $x_{i,1}, x_{i,2},x_{i,3}$, respectively.\n",
    "\n",
    "The first row of your training data is given as \n",
    "$$\n",
    "\\left( \\begin{array}{ccc|r}\n",
    " x_1 &   x_2 &   x_3 & y \\\\ \n",
    "    0.5 &   -0.25 &   0.25 & 0.3\\end{array} \\right) \n",
    "$$\n",
    "\n",
    "**import libraries**"
   ]
  },
  {
   "cell_type": "code",
   "execution_count": 2,
   "metadata": {},
   "outputs": [],
   "source": [
    "import numpy as np\n",
    "import scipy"
   ]
  },
  {
   "cell_type": "markdown",
   "metadata": {},
   "source": [
    "## Forward propagation\n",
    "\n",
    "We are passing the data \"from left to right\".\n",
    "\n",
    "Compute \n",
    "\n",
    "1. The input vector to the hidden layer, $\\vec{z} = W_{i,h} \\cdot \\vec{x}$\n",
    "2. The output of the hidden layer, $\\vec{o} = sigmoid(\\vec{z})$\n",
    "3. The prediction of the network, $\\hat{y} = W_{h,o} \\cdot \\vec{o}$"
   ]
  },
  {
   "cell_type": "markdown",
   "metadata": {},
   "source": [
    "## Backward propagation\n",
    "\n",
    "We are propagating errors \"from right to left\" and update the weights.\n",
    "\n",
    "Assume a learning rate $\\alpha = 0.1$.\n",
    "\n",
    "Compute \n",
    "\n",
    "1. The prediction error $e = y - \\hat{y}$\n",
    "2. (Based on this error) the updates to the right-most weights $\\Delta W_{h,o}$\n",
    "3. The updates to the left-most weights $\\Delta W_{i,h}$. (This involves the derivative of the sigmoid function!)\n",
    "\n",
    "Do not use the matrix simplification of the book."
   ]
  },
  {
   "cell_type": "markdown",
   "metadata": {},
   "source": [
    "## Updated Weights\n",
    "\n",
    "With the freshly updated weights, compute\n",
    "\n",
    "1. The new prediction of the network.\n",
    "2. The (hopefully reduced) new error"
   ]
  },
  {
   "cell_type": "markdown",
   "metadata": {},
   "source": [
    "## Extra Credit\n",
    "\n",
    "1. Think about scaling of the inputs. What happens to the gradient for large input values, e.g. \n",
    "$$\n",
    "\\left( \\begin{array}{ccc|r}\n",
    " x_1 &   x_2 &   x_3 & y \\\\ \n",
    "    50 &   -25 &   25 & 30\\end{array} \\right) \n",
    "$$\n",
    "2. Think about initialization of the weights. Would it be a good idea to start with zero weights, e.g. \n",
    "$$\n",
    "W_{i,h} = \\left( \\begin{array}{ccc}\n",
    " 0 &   0 &   0 \\\\ \n",
    "    0 &   0 &   0 \\\\ \n",
    "    0 &   0 &   0 \\end{array} \\right)\n",
    "$$"
   ]
  },
  {
   "cell_type": "markdown",
   "metadata": {},
   "source": [
    "**Tips**\n",
    "\n",
    "1. Use `numpy.dot` for matrix multiplications.\n",
    "2. You could use `scipy.special.expit(x)` for the sigmoid function or simply define it yourself."
   ]
  }
 ],
 "metadata": {
  "hide_input": false,
  "kernelspec": {
   "display_name": "Python 3",
   "language": "python",
   "name": "python3"
  },
  "language_info": {
   "codemirror_mode": {
    "name": "ipython",
    "version": 3
   },
   "file_extension": ".py",
   "mimetype": "text/x-python",
   "name": "python",
   "nbconvert_exporter": "python",
   "pygments_lexer": "ipython3",
   "version": "3.7.7"
  },
  "varInspector": {
   "cols": {
    "lenName": 16,
    "lenType": 16,
    "lenVar": 40
   },
   "kernels_config": {
    "python": {
     "delete_cmd_postfix": "",
     "delete_cmd_prefix": "del ",
     "library": "var_list.py",
     "varRefreshCmd": "print(var_dic_list())"
    },
    "r": {
     "delete_cmd_postfix": ") ",
     "delete_cmd_prefix": "rm(",
     "library": "var_list.r",
     "varRefreshCmd": "cat(var_dic_list()) "
    }
   },
   "types_to_exclude": [
    "module",
    "function",
    "builtin_function_or_method",
    "instance",
    "_Feature"
   ],
   "window_display": false
  }
 },
 "nbformat": 4,
 "nbformat_minor": 1
}
