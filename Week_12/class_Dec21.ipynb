{
 "cells": [
  {
   "cell_type": "code",
   "execution_count": 90,
   "metadata": {},
   "outputs": [],
   "source": [
    "import pandas as pd\n",
    "import numpy as np\n",
    "import matplotlib.pyplot as plt\n",
    "\n",
    "from sklearn.model_selection import train_test_split\n",
    "from sklearn.tree import DecisionTreeClassifier, DecisionTreeRegressor\n",
    "from sklearn.ensemble import BaggingClassifier, BaggingRegressor\n",
    "\n",
    "from sklearn import tree\n",
    "from sklearn.datasets import load_boston\n",
    "import random\n",
    "from sklearn.metrics import mean_squared_error,confusion_matrix, classification_report"
   ]
  },
  {
   "cell_type": "code",
   "execution_count": 91,
   "metadata": {},
   "outputs": [],
   "source": [
    "boston = load_boston()\n",
    "#print(boston['DESCR'])\n",
    "\n",
    "data = boston['data']\n",
    "target = boston['target'].reshape(-1,1) # 1d ro 2d array \n",
    "boston_data = np.concatenate((data,target), axis=1)\n",
    "        \n",
    "boston_df = pd.DataFrame(data=boston_data, columns=list(boston['feature_names'])+['MEDV'])\n",
    "boston_df.head()\n",
    "                             \n",
    "X = boston['data']\n",
    "y = boston['target']\n",
    "X_train, X_test, y_train, y_test = train_test_split(X, y, test_size=0.3, random_state=123)                           "
   ]
  },
  {
   "cell_type": "code",
   "execution_count": 20,
   "metadata": {},
   "outputs": [
    {
     "data": {
      "text/plain": [
       "4.224170737677708"
      ]
     },
     "execution_count": 20,
     "metadata": {},
     "output_type": "execute_result"
    }
   ],
   "source": [
    "tree_B1 = DecisionTreeRegressor(random_state=0)\n",
    "tree_B1.fit(X_train, y_train)\n",
    "\n",
    "singleTreePreds = tree_B1.predict(X_test)\n",
    "np.sqrt(mean_squared_error(y_test, singleTreePreds))"
   ]
  },
  {
   "cell_type": "markdown",
   "metadata": {},
   "source": [
    "## Bagging (Bootstrap aggregation)"
   ]
  },
  {
   "cell_type": "code",
   "execution_count": 21,
   "metadata": {},
   "outputs": [],
   "source": [
    "baggedBoston = BaggingRegressor(base_estimator=tree_B1,n_estimators=200,oob_score=True)"
   ]
  },
  {
   "cell_type": "code",
   "execution_count": 23,
   "metadata": {},
   "outputs": [
    {
     "data": {
      "text/plain": [
       "3.808768553363686"
      ]
     },
     "execution_count": 23,
     "metadata": {},
     "output_type": "execute_result"
    }
   ],
   "source": [
    "# The folloing line of code does all of these steps:\n",
    "# It fits 200 trees on 200 bootstrapped vrsions of your training data !!\n",
    "baggedBoston.fit(X_train, y_train) \n",
    "\n",
    "# The predict function now computes 200 predistions for each data point and averages them !!\n",
    "baggedPreds = baggedBoston.predict(X_test)\n",
    "\n",
    "np.sqrt(mean_squared_error(y_test, baggedPreds))"
   ]
  },
  {
   "cell_type": "code",
   "execution_count": 24,
   "metadata": {},
   "outputs": [
    {
     "data": {
      "text/plain": [
       "0.8700378003192262"
      ]
     },
     "execution_count": 24,
     "metadata": {},
     "output_type": "execute_result"
    }
   ],
   "source": [
    "#R2 \n",
    "baggedBoston.oob_score_"
   ]
  },
  {
   "cell_type": "code",
   "execution_count": 25,
   "metadata": {},
   "outputs": [],
   "source": [
    "#R2 = 1-RSS/TSS = 1-MSE/ var_y\n",
    "MSE = np.sqrt(mean_squared_error(y_test, baggedPreds))\n",
    "var_y = np.var(y_test)"
   ]
  },
  {
   "cell_type": "code",
   "execution_count": 26,
   "metadata": {},
   "outputs": [
    {
     "data": {
      "text/plain": [
       "0.9528781581433466"
      ]
     },
     "execution_count": 26,
     "metadata": {},
     "output_type": "execute_result"
    }
   ],
   "source": [
    "1-MSE/var_y"
   ]
  },
  {
   "cell_type": "code",
   "execution_count": 30,
   "metadata": {},
   "outputs": [
    {
     "data": {
      "text/plain": [
       "0.8205238105598021"
      ]
     },
     "execution_count": 30,
     "metadata": {},
     "output_type": "execute_result"
    }
   ],
   "source": [
    "baggedBoston.score(X_test, y_test)"
   ]
  },
  {
   "cell_type": "markdown",
   "metadata": {},
   "source": [
    "## Random Forest"
   ]
  },
  {
   "cell_type": "code",
   "execution_count": 31,
   "metadata": {},
   "outputs": [
    {
     "data": {
      "text/plain": [
       "3.5273159618521333"
      ]
     },
     "execution_count": 31,
     "metadata": {},
     "output_type": "execute_result"
    }
   ],
   "source": [
    "from sklearn.ensemble import RandomForestRegressor\n",
    "\n",
    "forest = RandomForestRegressor(200, max_features=0.5, oob_score=True)\n",
    "forest.fit(X_train, y_train)\n",
    "\n",
    "forestPreds = forest.predict(X_test)\n",
    "np.sqrt(mean_squared_error(y_test, forestPreds))"
   ]
  },
  {
   "cell_type": "markdown",
   "metadata": {},
   "source": [
    "### Best hyperparameter `max_features`"
   ]
  },
  {
   "cell_type": "code",
   "execution_count": 32,
   "metadata": {},
   "outputs": [],
   "source": [
    "from sklearn.model_selection import GridSearchCV"
   ]
  },
  {
   "cell_type": "code",
   "execution_count": 49,
   "metadata": {},
   "outputs": [],
   "source": [
    "features = [\"auto\", \"sqrt\", \"log2\", 1,  2,  3,  4,  5,  6,  7,  8,  9, 10, 11, 12, 13]"
   ]
  },
  {
   "cell_type": "code",
   "execution_count": 51,
   "metadata": {},
   "outputs": [],
   "source": [
    "param_grid = {\"max_features\":features}"
   ]
  },
  {
   "cell_type": "code",
   "execution_count": 57,
   "metadata": {},
   "outputs": [],
   "source": [
    "forest_grid_estimator = GridSearchCV(RandomForestRegressor(), param_grid, cv=10, n_jobs=-1, refit=\"neg_mean_squared_error\",scoring=[\"r2\", \"neg_mean_squared_error\"])\n"
   ]
  },
  {
   "cell_type": "code",
   "execution_count": 58,
   "metadata": {},
   "outputs": [
    {
     "data": {
      "text/plain": [
       "GridSearchCV(cv=10, estimator=RandomForestRegressor(), n_jobs=-1,\n",
       "             param_grid={'max_features': ['auto', 'sqrt', 'log2', 1, 2, 3, 4, 5,\n",
       "                                          6, 7, 8, 9, 10, 11, 12, 13]},\n",
       "             refit='neg_mean_squared_error',\n",
       "             scoring=['r2', 'neg_mean_squared_error'])"
      ]
     },
     "execution_count": 58,
     "metadata": {},
     "output_type": "execute_result"
    }
   ],
   "source": [
    "forest_grid_estimator.fit(X_train, y_train)"
   ]
  },
  {
   "cell_type": "code",
   "execution_count": 70,
   "metadata": {},
   "outputs": [
    {
     "data": {
      "text/plain": [
       "<bound method BaseEstimator.get_params of GridSearchCV(cv=10, estimator=RandomForestRegressor(), n_jobs=-1,\n",
       "             param_grid={'max_features': ['auto', 'sqrt', 'log2', 1, 2, 3, 4, 5,\n",
       "                                          6, 7, 8, 9, 10, 11, 12, 13]},\n",
       "             refit='neg_mean_squared_error',\n",
       "             scoring=['r2', 'neg_mean_squared_error'])>"
      ]
     },
     "execution_count": 70,
     "metadata": {},
     "output_type": "execute_result"
    }
   ],
   "source": [
    "forest_grid_estimator.get_params"
   ]
  },
  {
   "cell_type": "code",
   "execution_count": 88,
   "metadata": {},
   "outputs": [
    {
     "data": {
      "text/plain": [
       "array([[    nan,   2.6  ,  20.2  , ...,   5.757, 666.   , 100.   ],\n",
       "       [    nan,   0.   ,   4.49 , ...,  18.5  , 392.3  ,   6.53 ],\n",
       "       [    nan,  20.   ,   3.33 , ...,  14.9  , 387.31 ,   3.76 ],\n",
       "       ...,\n",
       "       [    nan,   0.   ,  19.58 , ...,  14.7  , 341.6  ,  13.28 ],\n",
       "       [    nan,   0.   ,  18.1  , ...,  20.2  ,  24.65 ,  15.69 ],\n",
       "       [    nan,   0.   ,  18.1  , ...,  20.2  , 393.37 ,  14.36 ]])"
      ]
     },
     "execution_count": 88,
     "metadata": {},
     "output_type": "execute_result"
    }
   ],
   "source": [
    "X_test"
   ]
  },
  {
   "cell_type": "code",
   "execution_count": 86,
   "metadata": {},
   "outputs": [],
   "source": [
    "X_test_perm = X_test.copy()\n",
    "X_test_perm[:,0] = np.random.shuffle(X_test_perm[:,0] )\n",
    "#forestPreds_perm = forest.predict(X_test_perm)#original predictions!\n",
    "#MSE_perm = np.sqrt(mean_squared_error(y_test, forestPreds_perm))#original MSE\n",
    "\n",
    "#print(\"permutation importance of first feature: \", MSE_perm - MSE_orig)"
   ]
  },
  {
   "cell_type": "code",
   "execution_count": 99,
   "metadata": {},
   "outputs": [],
   "source": [
    "X_test_perm = X_test.copy()"
   ]
  },
  {
   "cell_type": "code",
   "execution_count": 100,
   "metadata": {},
   "outputs": [],
   "source": [
    "X_test_perm[:,0] = np.random.choice(X_test_perm[:,0] )"
   ]
  },
  {
   "cell_type": "code",
   "execution_count": 102,
   "metadata": {},
   "outputs": [
    {
     "data": {
      "text/plain": [
       "array([[1.1460e-01, 0.0000e+00, 1.8100e+01, ..., 2.0200e+01, 2.6000e+00,\n",
       "        1.0110e+01],\n",
       "       [1.1460e-01, 0.0000e+00, 4.4900e+00, ..., 1.8500e+01, 3.9230e+02,\n",
       "        6.5300e+00],\n",
       "       [1.1460e-01, 2.0000e+01, 3.3300e+00, ..., 1.4900e+01, 3.8731e+02,\n",
       "        3.7600e+00],\n",
       "       ...,\n",
       "       [1.1460e-01, 0.0000e+00, 1.9580e+01, ..., 1.4700e+01, 3.4160e+02,\n",
       "        1.3280e+01],\n",
       "       [1.1460e-01, 0.0000e+00, 1.8100e+01, ..., 2.0200e+01, 2.4650e+01,\n",
       "        1.5690e+01],\n",
       "       [1.1460e-01, 0.0000e+00, 1.8100e+01, ..., 2.0200e+01, 3.9337e+02,\n",
       "        1.4360e+01]])"
      ]
     },
     "execution_count": 102,
     "metadata": {},
     "output_type": "execute_result"
    }
   ],
   "source": [
    "X_test_perm"
   ]
  },
  {
   "cell_type": "code",
   "execution_count": 103,
   "metadata": {},
   "outputs": [
    {
     "data": {
      "text/plain": [
       "array([[5.11358e+01, 0.00000e+00, 1.81000e+01, ..., 2.02000e+01,\n",
       "        2.60000e+00, 1.01100e+01],\n",
       "       [5.73500e-02, 0.00000e+00, 4.49000e+00, ..., 1.85000e+01,\n",
       "        3.92300e+02, 6.53000e+00],\n",
       "       [3.57800e-02, 2.00000e+01, 3.33000e+00, ..., 1.49000e+01,\n",
       "        3.87310e+02, 3.76000e+00],\n",
       "       ...,\n",
       "       [1.49632e+00, 0.00000e+00, 1.95800e+01, ..., 1.47000e+01,\n",
       "        3.41600e+02, 1.32800e+01],\n",
       "       [1.22472e+01, 0.00000e+00, 1.81000e+01, ..., 2.02000e+01,\n",
       "        2.46500e+01, 1.56900e+01],\n",
       "       [3.56868e+00, 0.00000e+00, 1.81000e+01, ..., 2.02000e+01,\n",
       "        3.93370e+02, 1.43600e+01]])"
      ]
     },
     "execution_count": 103,
     "metadata": {},
     "output_type": "execute_result"
    }
   ],
   "source": [
    "X_test"
   ]
  },
  {
   "cell_type": "code",
   "execution_count": null,
   "metadata": {},
   "outputs": [],
   "source": [
    "import seaborn as "
   ]
  }
 ],
 "metadata": {
  "kernelspec": {
   "display_name": "Python 3 (ipykernel)",
   "language": "python",
   "name": "python3"
  },
  "language_info": {
   "codemirror_mode": {
    "name": "ipython",
    "version": 3
   },
   "file_extension": ".py",
   "mimetype": "text/x-python",
   "name": "python",
   "nbconvert_exporter": "python",
   "pygments_lexer": "ipython3",
   "version": "3.8.6"
  },
  "toc": {
   "base_numbering": 1,
   "nav_menu": {},
   "number_sections": true,
   "sideBar": true,
   "skip_h1_title": false,
   "title_cell": "Table of Contents",
   "title_sidebar": "Contents",
   "toc_cell": false,
   "toc_position": {},
   "toc_section_display": true,
   "toc_window_display": false
  }
 },
 "nbformat": 4,
 "nbformat_minor": 4
}
