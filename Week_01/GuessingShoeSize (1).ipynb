{
 "cells": [
  {
   "cell_type": "code",
   "execution_count": 1,
   "metadata": {},
   "outputs": [],
   "source": [
    "import numpy as np\n",
    "import matplotlib.pyplot as plt"
   ]
  },
  {
   "cell_type": "markdown",
   "metadata": {},
   "source": [
    "Tossing 20 dice"
   ]
  },
  {
   "cell_type": "code",
   "execution_count": 8,
   "metadata": {},
   "outputs": [],
   "source": [
    "np.random.seed(123)"
   ]
  },
  {
   "cell_type": "code",
   "execution_count": 30,
   "metadata": {
    "scrolled": true
   },
   "outputs": [
    {
     "data": {
      "text/plain": [
       "array([[1, 3, 1, 2, 5, 4, 3, 1],\n",
       "       [5, 1, 2, 6, 5, 4, 4, 3],\n",
       "       [6, 6, 3, 4, 2, 2, 1, 6],\n",
       "       [4, 4, 6, 1, 6, 1, 2, 6],\n",
       "       [3, 2, 5, 3, 4, 2, 5, 5],\n",
       "       [1, 6, 1, 6, 2, 4, 5, 4],\n",
       "       [6, 1, 5, 1, 1, 2, 5, 2],\n",
       "       [1, 2, 3, 1, 5, 5, 5, 1],\n",
       "       [3, 4, 1, 4, 3, 3, 4, 3],\n",
       "       [6, 1, 2, 6, 1, 5, 1, 3],\n",
       "       [4, 6, 3, 6, 6, 4, 4, 4],\n",
       "       [5, 6, 3, 2, 1, 4, 4, 3],\n",
       "       [6, 4, 5, 2, 4, 2, 3, 1],\n",
       "       [2, 4, 2, 3, 3, 1, 1, 3],\n",
       "       [1, 2, 2, 3, 4, 2, 3, 2],\n",
       "       [3, 1, 6, 3, 1, 5, 1, 2],\n",
       "       [5, 6, 3, 1, 3, 4, 6, 1],\n",
       "       [6, 6, 2, 3, 4, 6, 2, 3],\n",
       "       [3, 1, 2, 2, 1, 2, 3, 6],\n",
       "       [5, 5, 6, 1, 2, 6, 2, 6],\n",
       "       [2, 1, 4, 3, 5, 6, 4, 1],\n",
       "       [3, 5, 6, 6, 4, 4, 6, 3],\n",
       "       [6, 1, 1, 6, 6, 4, 5, 6],\n",
       "       [1, 3, 3, 1, 6, 6, 2, 1],\n",
       "       [6, 2, 5, 5, 1, 6, 5, 6],\n",
       "       [5, 6, 3, 4, 5, 6, 5, 4],\n",
       "       [3, 2, 6, 2, 2, 2, 5, 6],\n",
       "       [2, 1, 2, 3, 3, 6, 3, 1],\n",
       "       [3, 6, 6, 4, 6, 6, 6, 3],\n",
       "       [6, 3, 4, 5, 4, 4, 5, 5],\n",
       "       [3, 6, 5, 5, 6, 1, 4, 2],\n",
       "       [1, 1, 4, 2, 5, 1, 6, 5],\n",
       "       [2, 4, 5, 3, 5, 5, 5, 1],\n",
       "       [2, 2, 1, 1, 4, 2, 1, 1],\n",
       "       [6, 4, 2, 6, 5, 3, 1, 5],\n",
       "       [3, 5, 1, 1, 4, 5, 4, 1],\n",
       "       [3, 6, 6, 5, 2, 1, 3, 6],\n",
       "       [3, 3, 3, 5, 1, 3, 5, 5],\n",
       "       [6, 6, 4, 6, 1, 6, 1, 2],\n",
       "       [6, 1, 6, 6, 2, 1, 2, 1],\n",
       "       [6, 5, 5, 6, 2, 3, 2, 4],\n",
       "       [3, 4, 2, 1, 5, 4, 3, 6],\n",
       "       [5, 6, 3, 5, 1, 3, 1, 4],\n",
       "       [2, 6, 5, 6, 4, 4, 5, 3],\n",
       "       [4, 2, 2, 2, 6, 2, 2, 6]])"
      ]
     },
     "execution_count": 30,
     "metadata": {},
     "output_type": "execute_result"
    }
   ],
   "source": [
    "np.random.seed(480)\n",
    "dice = np.random.randint(1,7,(45, 8))\n",
    "dice"
   ]
  },
  {
   "cell_type": "code",
   "execution_count": 33,
   "metadata": {},
   "outputs": [
    {
     "data": {
      "text/plain": [
       "3.5388888888888888"
      ]
     },
     "execution_count": 33,
     "metadata": {},
     "output_type": "execute_result"
    }
   ],
   "source": [
    "np.mean(dice)"
   ]
  },
  {
   "cell_type": "code",
   "execution_count": 34,
   "metadata": {},
   "outputs": [
    {
     "data": {
      "text/plain": [
       "3.7333333333333334"
      ]
     },
     "execution_count": 34,
     "metadata": {},
     "output_type": "execute_result"
    }
   ],
   "source": [
    "np.mean(dice[:,0])"
   ]
  },
  {
   "cell_type": "code",
   "execution_count": 38,
   "metadata": {},
   "outputs": [
    {
     "data": {
      "text/plain": [
       "[3.54, 3.73, 1]"
      ]
     },
     "execution_count": 38,
     "metadata": {},
     "output_type": "execute_result"
    }
   ],
   "source": [
    "[round(np.mean(dice),2), round(np.mean(dice[:,0]),2), 1]"
   ]
  },
  {
   "cell_type": "code",
   "execution_count": null,
   "metadata": {},
   "outputs": [],
   "source": [
    "np.random.seed(123)\n",
    "np.random.randint(1,7,(1000, 20))"
   ]
  },
  {
   "cell_type": "code",
   "execution_count": 25,
   "metadata": {},
   "outputs": [],
   "source": [
    "Games = np.mean(dice, axis = 1)"
   ]
  },
  {
   "cell_type": "code",
   "execution_count": 26,
   "metadata": {},
   "outputs": [
    {
     "data": {
      "text/plain": [
       "(array([  6.,  12.,  50.,  98., 197., 216., 225., 124.,  63.,   9.]),\n",
       " array([2.25 , 2.475, 2.7  , 2.925, 3.15 , 3.375, 3.6  , 3.825, 4.05 ,\n",
       "        4.275, 4.5  ]),\n",
       " <BarContainer object of 10 artists>)"
      ]
     },
     "execution_count": 26,
     "metadata": {},
     "output_type": "execute_result"
    },
    {
     "data": {
      "image/png": "[encoded data removed]",
      "text/plain": [
       "<Figure size 432x288 with 1 Axes>"
      ]
     },
     "metadata": {
      "needs_background": "light"
     },
     "output_type": "display_data"
    }
   ],
   "source": [
    "plt.hist(Games)"
   ]
  },
  {
   "cell_type": "code",
   "execution_count": 29,
   "metadata": {},
   "outputs": [
    {
     "data": {
      "text/plain": [
       "2.85"
      ]
     },
     "execution_count": 29,
     "metadata": {},
     "output_type": "execute_result"
    }
   ],
   "source": [
    "np.percentile(Games, 5)"
   ]
  },
  {
   "cell_type": "code",
   "execution_count": 27,
   "metadata": {},
   "outputs": [
    {
     "data": {
      "text/plain": [
       "0.159"
      ]
     },
     "execution_count": 27,
     "metadata": {},
     "output_type": "execute_result"
    }
   ],
   "source": [
    "Lost = (Games < 3.0) | (Games > 4.0)\n",
    "np.mean(Lost)"
   ]
  },
  {
   "cell_type": "markdown",
   "metadata": {},
   "source": [
    "Use a for loop to count from 1 to 10"
   ]
  },
  {
   "cell_type": "code",
   "execution_count": 53,
   "metadata": {},
   "outputs": [
    {
     "data": {
      "text/plain": [
       "array([ 1.,  2.,  3.,  4.,  5.,  6.,  7.,  8.,  9., 10.])"
      ]
     },
     "execution_count": 53,
     "metadata": {},
     "output_type": "execute_result"
    }
   ],
   "source": [
    "x = np.zeros(10)\n",
    "\n",
    "for i in range(10):\n",
    "    #print(i+1)\n",
    "    x[i] = i+1\n",
    "    \n",
    "x"
   ]
  },
  {
   "cell_type": "code",
   "execution_count": 57,
   "metadata": {},
   "outputs": [
    {
     "data": {
      "text/plain": [
       "array([0.313, 0.441, 0.496, 0.514, 0.559, 0.59 , 0.638, 0.621, 0.657,\n",
       "       0.645, 0.713, 0.712, 0.738, 0.757, 0.787, 0.801, 0.815, 0.81 ,\n",
       "       0.811, 0.835, 0.829, 0.853, 0.864, 0.869, 0.863, 0.88 , 0.888,\n",
       "       0.863, 0.893, 0.88 , 0.906, 0.915, 0.925, 0.912, 0.933, 0.927,\n",
       "       0.944, 0.93 , 0.947, 0.95 , 0.955, 0.946, 0.946, 0.951, 0.957,\n",
       "       0.959, 0.97 , 0.96 , 0.963, 0.961, 0.961, 0.959, 0.978, 0.975,\n",
       "       0.972, 0.972, 0.965, 0.976, 0.989, 0.984, 0.977, 0.98 , 0.971,\n",
       "       0.981, 0.987, 0.987, 0.987, 0.986, 0.985, 0.988, 0.987, 0.988,\n",
       "       0.987, 0.989, 0.989, 0.985, 0.99 , 0.997, 0.992, 0.989])"
      ]
     },
     "execution_count": 57,
     "metadata": {},
     "output_type": "execute_result"
    },
    {
     "data": {
      "image/png": "[encoded data removed]",
      "text/plain": [
       "<Figure size 432x288 with 1 Axes>"
      ]
     },
     "metadata": {
      "needs_background": "light"
     },
     "output_type": "display_data"
    }
   ],
   "source": [
    "Pwin = np.zeros(80)\n",
    "\n",
    "for n in range(80):\n",
    "    #toss many dice:\n",
    "    dice = np.random.randint(1,7,(1000,n+1))\n",
    "    #take row averages\n",
    "    Games = np.mean(dice, axis = 1)\n",
    "    #how often do I lose\n",
    "    Lost = (Games < 3.0) | (Games > 4.0)\n",
    "    Pwin[n] =1-np.mean(Lost)\n",
    "\n",
    "plt.plot(Pwin);\n",
    "Pwin"
   ]
  },
  {
   "cell_type": "code",
   "execution_count": 63,
   "metadata": {},
   "outputs": [
    {
     "data": {
      "text/plain": [
       "[<matplotlib.lines.Line2D at 0x7fcb857c5520>]"
      ]
     },
     "execution_count": 63,
     "metadata": {},
     "output_type": "execute_result"
    },
    {
     "data": {
      "image/png": "[encoded data removed]",
      "text/plain": [
       "<Figure size 432x288 with 1 Axes>"
      ]
     },
     "metadata": {
      "needs_background": "light"
     },
     "output_type": "display_data"
    }
   ],
   "source": [
    "Reward = 100-np.arange(80)\n",
    "\n",
    "plt.plot(Pwin*Reward);"
   ]
  },
  {
   "cell_type": "code",
   "execution_count": 14,
   "metadata": {},
   "outputs": [
    {
     "data": {
      "text/plain": [
       "array([[6, 3, 5, 3, 2],\n",
       "       [4, 3, 4, 2, 2],\n",
       "       [1, 2, 2, 1, 1],\n",
       "       [2, 4, 6, 5, 1],\n",
       "       [1, 5, 2, 4, 3],\n",
       "       [5, 3, 5, 1, 6],\n",
       "       [1, 2, 4, 5, 5],\n",
       "       [5, 2, 6, 4, 3],\n",
       "       [2, 5, 1, 4, 3],\n",
       "       [6, 1, 4, 3, 3],\n",
       "       [3, 6, 3, 5, 4],\n",
       "       [4, 6, 5, 5, 6],\n",
       "       [4, 3, 1, 5, 4],\n",
       "       [2, 4, 3, 6, 2],\n",
       "       [3, 5, 1, 2, 5],\n",
       "       [3, 2, 2, 4, 5],\n",
       "       [6, 2, 1, 1, 4],\n",
       "       [2, 4, 4, 4, 6],\n",
       "       [2, 2, 3, 4, 4],\n",
       "       [4, 4, 1, 2, 4]])"
      ]
     },
     "execution_count": 14,
     "metadata": {},
     "output_type": "execute_result"
    }
   ],
   "source": [
    "np.random.seed(123)\n",
    "dice = np.random.randint(1,7,(20,5))\n",
    "dice"
   ]
  },
  {
   "cell_type": "code",
   "execution_count": 13,
   "metadata": {},
   "outputs": [],
   "source": [
    "xBar = np.mean(dice, axis = 1)"
   ]
  },
  {
   "cell_type": "code",
   "execution_count": 10,
   "metadata": {},
   "outputs": [
    {
     "data": {
      "text/plain": [
       "(array([1., 0., 1., 2., 4., 3., 2., 4., 1., 2.]),\n",
       " array([1.2, 1.6, 2. , 2.4, 2.8, 3.2, 3.6, 4. , 4.4, 4.8, 5.2]),\n",
       " <a list of 10 Patch objects>)"
      ]
     },
     "execution_count": 10,
     "metadata": {},
     "output_type": "execute_result"
    },
    {
     "data": {
      "image/png": "[encoded data removed]",
      "text/plain": [
       "<Figure size 432x288 with 1 Axes>"
      ]
     },
     "metadata": {
      "needs_background": "light"
     },
     "output_type": "display_data"
    }
   ],
   "source": [
    "import matplotlib.pyplot as plt\n",
    "plt.hist(xBar)"
   ]
  },
  {
   "cell_type": "code",
   "execution_count": null,
   "metadata": {},
   "outputs": [],
   "source": []
  }
 ],
 "metadata": {
  "kernelspec": {
   "display_name": "Python 3 (ipykernel)",
   "language": "python",
   "name": "python3"
  },
  "language_info": {
   "codemirror_mode": {
    "name": "ipython",
    "version": 3
   },
   "file_extension": ".py",
   "mimetype": "text/x-python",
   "name": "python",
   "nbconvert_exporter": "python",
   "pygments_lexer": "ipython3",
   "version": "3.8.6"
  },
  "toc": {
   "base_numbering": 1,
   "nav_menu": {},
   "number_sections": true,
   "sideBar": true,
   "skip_h1_title": false,
   "title_cell": "Table of Contents",
   "title_sidebar": "Contents",
   "toc_cell": false,
   "toc_position": {},
   "toc_section_display": true,
   "toc_window_display": false
  }
 },
 "nbformat": 4,
 "nbformat_minor": 4
}
