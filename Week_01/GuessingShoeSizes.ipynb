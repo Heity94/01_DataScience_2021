{
 "cells": [
  {
   "cell_type": "code",
   "execution_count": 199,
   "id": "5af579db",
   "metadata": {},
   "outputs": [],
   "source": [
    "import pandas as pd\n",
    "import numpy as np"
   ]
  },
  {
   "cell_type": "markdown",
   "id": "5f33e7b8",
   "metadata": {},
   "source": [
    "# Version 1"
   ]
  },
  {
   "cell_type": "code",
   "execution_count": 94,
   "id": "e491324d",
   "metadata": {},
   "outputs": [],
   "source": [
    "dices = []\n",
    "\n",
    "def running_mean(dice):\n",
    "    dices.append(dice)\n",
    "    shoe_size = 6\n",
    "    return shoe_size + np.mean(dices)"
   ]
  },
  {
   "cell_type": "code",
   "execution_count": 95,
   "id": "ffabf5ed",
   "metadata": {},
   "outputs": [
    {
     "data": {
      "text/plain": [
       "10.0"
      ]
     },
     "execution_count": 95,
     "metadata": {},
     "output_type": "execute_result"
    }
   ],
   "source": [
    "running_mean(4)"
   ]
  },
  {
   "cell_type": "code",
   "execution_count": 96,
   "id": "793cb0e8",
   "metadata": {},
   "outputs": [
    {
     "data": {
      "text/plain": [
       "8.5"
      ]
     },
     "execution_count": 96,
     "metadata": {},
     "output_type": "execute_result"
    }
   ],
   "source": [
    "running_mean(1)"
   ]
  },
  {
   "cell_type": "code",
   "execution_count": 97,
   "id": "9f894dc4",
   "metadata": {},
   "outputs": [
    {
     "data": {
      "text/plain": [
       "9.0"
      ]
     },
     "execution_count": 97,
     "metadata": {},
     "output_type": "execute_result"
    }
   ],
   "source": [
    "running_mean(4)"
   ]
  },
  {
   "cell_type": "code",
   "execution_count": 98,
   "id": "1ba8fcdb",
   "metadata": {},
   "outputs": [
    {
     "data": {
      "text/plain": [
       "8.5"
      ]
     },
     "execution_count": 98,
     "metadata": {},
     "output_type": "execute_result"
    }
   ],
   "source": [
    "running_mean(1)"
   ]
  },
  {
   "cell_type": "code",
   "execution_count": 99,
   "id": "27f80a87",
   "metadata": {},
   "outputs": [
    {
     "data": {
      "text/plain": [
       "8.4"
      ]
     },
     "execution_count": 99,
     "metadata": {},
     "output_type": "execute_result"
    }
   ],
   "source": [
    "running_mean(2)"
   ]
  },
  {
   "cell_type": "code",
   "execution_count": 100,
   "id": "1a3c31b5",
   "metadata": {},
   "outputs": [
    {
     "data": {
      "text/plain": [
       "8.666666666666666"
      ]
     },
     "execution_count": 100,
     "metadata": {},
     "output_type": "execute_result"
    }
   ],
   "source": [
    "running_mean(4)"
   ]
  },
  {
   "cell_type": "code",
   "execution_count": 101,
   "id": "05bff914",
   "metadata": {},
   "outputs": [
    {
     "data": {
      "text/plain": [
       "9.142857142857142"
      ]
     },
     "execution_count": 101,
     "metadata": {},
     "output_type": "execute_result"
    }
   ],
   "source": [
    "running_mean(6)"
   ]
  },
  {
   "cell_type": "code",
   "execution_count": 102,
   "id": "afc16297",
   "metadata": {},
   "outputs": [
    {
     "data": {
      "text/plain": [
       "9.25"
      ]
     },
     "execution_count": 102,
     "metadata": {},
     "output_type": "execute_result"
    }
   ],
   "source": [
    "running_mean(4)"
   ]
  },
  {
   "cell_type": "code",
   "execution_count": 103,
   "id": "336448fc",
   "metadata": {},
   "outputs": [
    {
     "data": {
      "text/plain": [
       "9.0"
      ]
     },
     "execution_count": 103,
     "metadata": {},
     "output_type": "execute_result"
    }
   ],
   "source": [
    "running_mean(1)"
   ]
  },
  {
   "cell_type": "code",
   "execution_count": 104,
   "id": "cec4e20b",
   "metadata": {},
   "outputs": [
    {
     "data": {
      "text/plain": [
       "9.0"
      ]
     },
     "execution_count": 104,
     "metadata": {},
     "output_type": "execute_result"
    }
   ],
   "source": [
    "running_mean(3)"
   ]
  },
  {
   "cell_type": "code",
   "execution_count": 106,
   "id": "96df4a39",
   "metadata": {},
   "outputs": [
    {
     "data": {
      "text/plain": [
       "<AxesSubplot:ylabel='Count'>"
      ]
     },
     "execution_count": 106,
     "metadata": {},
     "output_type": "execute_result"
    },
    {
     "data": {
      "image/png": "[encoded data removed]",
      "text/plain": [
       "<Figure size 432x288 with 1 Axes>"
      ]
     },
     "metadata": {
      "needs_background": "light"
     },
     "output_type": "display_data"
    }
   ],
   "source": [
    "import seaborn as sns\n",
    "sns.histplot(dices)"
   ]
  },
  {
   "cell_type": "code",
   "execution_count": 107,
   "id": "38c59888",
   "metadata": {},
   "outputs": [
    {
     "data": {
      "text/plain": [
       "10"
      ]
     },
     "execution_count": 107,
     "metadata": {},
     "output_type": "execute_result"
    }
   ],
   "source": [
    "len(dices)"
   ]
  },
  {
   "cell_type": "markdown",
   "id": "96ad649a",
   "metadata": {},
   "source": [
    "# Version 2"
   ]
  },
  {
   "cell_type": "code",
   "execution_count": 109,
   "id": "d863ea64",
   "metadata": {},
   "outputs": [],
   "source": [
    "shoe_size = 10\n",
    "\n",
    "def dice_mean(no_games):\n",
    "    dices = np.random.randint(1, 7, size=no_games)\n",
    "    sns.histplot(dices)\n",
    "    return shoe_size + np.mean(dices)"
   ]
  },
  {
   "cell_type": "code",
   "execution_count": 113,
   "id": "9eb6dacf",
   "metadata": {},
   "outputs": [
    {
     "data": {
      "text/plain": [
       "13.5195"
      ]
     },
     "execution_count": 113,
     "metadata": {},
     "output_type": "execute_result"
    },
    {
     "data": {
      "image/png": "[encoded data removed]",
      "text/plain": [
       "<Figure size 432x288 with 1 Axes>"
      ]
     },
     "metadata": {
      "needs_background": "light"
     },
     "output_type": "display_data"
    }
   ],
   "source": [
    "dice_mean(6000)"
   ]
  },
  {
   "cell_type": "markdown",
   "id": "78c88814",
   "metadata": {},
   "source": [
    "# Solution"
   ]
  },
  {
   "cell_type": "markdown",
   "id": "8f303a12",
   "metadata": {},
   "source": [
    "## 1000 games with 60 roll of a dice to minimize risk to <5%"
   ]
  },
  {
   "cell_type": "code",
   "execution_count": 266,
   "id": "70dd09c1",
   "metadata": {},
   "outputs": [],
   "source": [
    "games = np.random.randint(1,7,(1000,60))"
   ]
  },
  {
   "cell_type": "code",
   "execution_count": 208,
   "id": "2585ec0d",
   "metadata": {},
   "outputs": [
    {
     "data": {
      "image/png": "[encoded data removed]",
      "text/plain": [
       "<Figure size 432x288 with 1 Axes>"
      ]
     },
     "metadata": {
      "needs_background": "light"
     },
     "output_type": "display_data"
    }
   ],
   "source": [
    "games_mean = np.mean(games,axis=1) \n",
    "sns.histplot(games_mean);"
   ]
  },
  {
   "cell_type": "code",
   "execution_count": 211,
   "id": "0c2ab4f3",
   "metadata": {},
   "outputs": [
    {
     "data": {
      "text/plain": [
       "0.174"
      ]
     },
     "execution_count": 211,
     "metadata": {},
     "output_type": "execute_result"
    }
   ],
   "source": [
    "lost_games = (games_mean <3.0) | (games_mean >4.0) #Because you always substract mean and round up or down to next int (strategy to find shoesize)\n",
    "np.mean(lost_games)"
   ]
  },
  {
   "cell_type": "markdown",
   "id": "c890b51a",
   "metadata": {},
   "source": [
    "## Find optimal strategy to minimize risk and maximize gains"
   ]
  },
  {
   "cell_type": "code",
   "execution_count": 258,
   "id": "3f7400ee",
   "metadata": {
    "scrolled": true
   },
   "outputs": [],
   "source": [
    "#Create empty arrays with length 100\n",
    "p_win = np.zeros(100)\n",
    "reward = np.zeros(100)\n",
    "exp_value = np.zeros(100)\n",
    "\n",
    "#calculate p_win, reward and exp_value for 1 to 100 \n",
    "for i in range(1,101):\n",
    "    \n",
    "    games = np.random.randint(1,7,(1000,i)) # outcome of 1000 games with i rolls of a dice\n",
    "    games_mean = np.mean(games,axis=1) # mean per game (per row)\n",
    "    \n",
    "    lost_games = (games_mean <3.0) | (games_mean >4.0) #games are lost if they are <3 or >4\n",
    "\n",
    "    p_win[i-1]=(1-np.mean(lost_games)) #winning percentage for i tosses\n",
    "    \n",
    "    reward[i-1]=(100-i) #reward after guessing correct size after i tosses\n",
    "    \n",
    "    exp_value[i-1]=p_win[i-1]*reward[i-1] #expected value\n"
   ]
  },
  {
   "cell_type": "code",
   "execution_count": 259,
   "id": "94316e63",
   "metadata": {},
   "outputs": [
    {
     "data": {
      "text/plain": [
       "[<matplotlib.lines.Line2D at 0x128a62f10>]"
      ]
     },
     "execution_count": 259,
     "metadata": {},
     "output_type": "execute_result"
    },
    {
     "data": {
      "image/png": "[encoded data removed]",
      "text/plain": [
       "<Figure size 432x288 with 1 Axes>"
      ]
     },
     "metadata": {
      "needs_background": "light"
     },
     "output_type": "display_data"
    }
   ],
   "source": [
    "plt.plot(exp_value)"
   ]
  },
  {
   "cell_type": "code",
   "execution_count": 263,
   "id": "04e43a8b",
   "metadata": {},
   "outputs": [
    {
     "data": {
      "text/plain": [
       "20"
      ]
     },
     "execution_count": 263,
     "metadata": {},
     "output_type": "execute_result"
    }
   ],
   "source": [
    "# optimal no of tosses\n",
    "opt_no = np.argmax(exp_value)+1 #Number of tosses for optimal cost/gain (+1 because of index 0 in list)\n",
    "opt_no"
   ]
  }
 ],
 "metadata": {
  "kernelspec": {
   "display_name": "Python 3 (ipykernel)",
   "language": "python",
   "name": "python3"
  },
  "language_info": {
   "codemirror_mode": {
    "name": "ipython",
    "version": 3
   },
   "file_extension": ".py",
   "mimetype": "text/x-python",
   "name": "python",
   "nbconvert_exporter": "python",
   "pygments_lexer": "ipython3",
   "version": "3.8.6"
  },
  "toc": {
   "base_numbering": 1,
   "nav_menu": {},
   "number_sections": true,
   "sideBar": true,
   "skip_h1_title": false,
   "title_cell": "Table of Contents",
   "title_sidebar": "Contents",
   "toc_cell": false,
   "toc_position": {},
   "toc_section_display": true,
   "toc_window_display": true
  }
 },
 "nbformat": 4,
 "nbformat_minor": 5
}
